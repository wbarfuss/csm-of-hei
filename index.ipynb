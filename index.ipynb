{
 "cells": [
  {
   "cell_type": "markdown",
   "id": "1d03eb9f-9f61-4745-921a-8ff7461f3b69",
   "metadata": {},
   "source": [
    "\n",
    "# Preface {.unnumbered}\n",
    "\n",
    "> To my dad, the enthusiast of online lecture materials in Python."
   ]
  },
  {
   "cell_type": "markdown",
   "id": "e7d5a626-a429-466d-aa69-e97ad9060df3",
   "metadata": {},
   "source": [
    "These lecture notes ([Web](https://wbarfuss.github.io/csm-of-hei/), [PDF](https://wbarfuss.github.io/csm-of-hei/Complex-Systems-Modeling-of-Human-Environment-Interactions.pdf), [Google Colab](https://colab.research.google.com/github/wbarfuss/csm-of-hei/blob/main/01.01-Introduction.ipynb)) provide an integrated perspective on different modeling approaches (dynamics, equilibrium, and agent-based) applied to human-environment interactions and sustainability transitions. Its scope is practical, utilizing Python within Jupyter Notebooks. Prerequisites are basic mathematical skills."
   ]
  },
  {
   "cell_type": "markdown",
   "id": "c9ba4987-4a15-411b-a0a7-e0c2e3e958d6",
   "metadata": {},
   "source": [
    "This is version 0.2. To be updated and improved."
   ]
  },
  {
   "cell_type": "markdown",
   "id": "cb4f4148",
   "metadata": {},
   "source": [
    "## Learning goals\n",
    "\n",
    "After **working** through all materials, \n",
    "\n",
    "* students can **model** *human-environment interactions* <br>to answer relevant questions in sustainability science.\n",
    "* students can **implement** *models of human-environment interactions* <br> in the\n",
    "general-purpose computer language **Python**.\n",
    "* students can critically **evaluate** *models of human-environment interactions* <br>to judge their\n",
    "relevance to issues in sustainability science."
   ]
  },
  {
   "cell_type": "markdown",
   "id": "9e9cd0ac-0d9b-42b1-97c7-58a839c4f89a",
   "metadata": {},
   "source": [
    "## Integrated writing and reproducibility"
   ]
  },
  {
   "cell_type": "markdown",
   "id": "ac7afe60-a290-4707-98f3-91bb2249f59c",
   "metadata": {},
   "source": [
    "The following steps are entirely optional for readers who want to focus on the learning goals and are not interested in the development of these lecture notes."
   ]
  },
  {
   "cell_type": "markdown",
   "id": "da536719-cf3f-46b1-a5f1-21bc351f6479",
   "metadata": {},
   "source": [
    "These lecture notes are written in [Jupyter](https://jupyter.org) Notebooks, which are a popular format for interactive computing. Notebooks contain code, math, and text. The code is written in [Python](https://www.python.org), a general-purpose programming language widely used in scientific computing and other fields.\n",
    "\n",
    "Scholarly writing practices, such as citations and cross-references, are facilitated by [Quarto](https://quarto.org), a powerful scientific and technical publishing system. Quarto also allows you to view these lecture notes in various formats, such as HTML and PDF. \n",
    "\n"
   ]
  },
  {
   "cell_type": "markdown",
   "id": "aad6cf02-7d74-40da-bb4a-3d7e9e2bb1b5",
   "metadata": {},
   "source": [
    "### Rendering the lecture notes"
   ]
  },
  {
   "cell_type": "markdown",
   "id": "403396cb-ee47-44fe-beb6-05b71c296ebe",
   "metadata": {},
   "source": [
    "Assuming you have installed the [Quarto CLI](https://quarto.org/docs/get-started/) and cloned or copied the [repository](https://github.com/wbarfuss/csm-of-hei) to your local machine, you can render these lecture notes by running the following command in the terminal:"
   ]
  },
  {
   "cell_type": "code",
   "execution_count": null,
   "id": "ac23a9e8-f6f2-45c6-b88b-e75d8763ea33",
   "metadata": {},
   "outputs": [],
   "source": [
    "#| output: false\n",
    "!quarto render ."
   ]
  },
  {
   "cell_type": "markdown",
   "id": "e5f7934a-240c-4c76-b50f-a34b7d8da98c",
   "metadata": {},
   "source": [
    "The comment `#| output: false` is a Quarto directive that prevents the output of this cell from being displayed in the rendered documents. This is useful for keeping these readable."
   ]
  },
  {
   "cell_type": "markdown",
   "id": "8648dbc8-ee20-43e0-bcc3-418b06705222",
   "metadata": {},
   "source": [
    "### Readme file"
   ]
  },
  {
   "cell_type": "markdown",
   "id": "032dd445-e588-4f34-b74f-ddc39ffe9741",
   "metadata": {},
   "source": [
    "These lecture notes are made open-source and hosted in a [GitHub repository](https://github.com/wbarfuss/csm-of-hei). To convert this `index.ipynb` file (which is required in the Quarto Book project type) into the repository's README file, one may execute the following commands:"
   ]
  },
  {
   "cell_type": "code",
   "execution_count": null,
   "id": "e406d849-7b90-4346-af6a-c7a568ae946c",
   "metadata": {},
   "outputs": [],
   "source": [
    "!quarto convert index.ipynb # convert into Quarto markdown\n",
    "!tail -n +10 index.qmd > README.md  # remove some metadata+\n",
    "!rm index.qmd  # remove the intermediate file"
   ]
  },
  {
   "cell_type": "markdown",
   "id": "8e830880-b79b-4ee6-a071-31ae0b2f99bc",
   "metadata": {},
   "source": [
    "### GitHub Pages"
   ]
  },
  {
   "cell_type": "markdown",
   "id": "47eb890b-bef4-4d5e-9791-f5eeca9ffc5d",
   "metadata": {},
   "source": [
    "After configuring the [settings](https://quarto.org/docs/publishing/github-pages.html#publish-command) for GitHub Pages, one can publish the web version of these lecture notes by running the following command (at the root of the cleaned main branch):\n",
    "\n",
    "```bash\n",
    "quarto publish gh-pages\n",
    "```"
   ]
  },
  {
   "cell_type": "markdown",
   "id": "154efdc0-6d0a-4ba7-aaed-b032da601ada",
   "metadata": {},
   "source": [
    "### nb-clean and pre-commit hooks"
   ]
  },
  {
   "cell_type": "markdown",
   "id": "193b8ce6-76f9-4e47-8c26-0f768b7896a1",
   "metadata": {},
   "source": [
    "To check the notebooks for unnecessary metadata and clean them up, you can run the following command:"
   ]
  },
  {
   "cell_type": "markdown",
   "id": "5480fcf3-5c2d-4948-90c1-266e08aa7895",
   "metadata": {},
   "source": [
    "```bash\n",
    "nb-clean check --remove-empty-cells --preserve-cell-outputs --preserve-cell-metadata slideshow tags -- index.ipynb\n",
    "```"
   ]
  },
  {
   "cell_type": "markdown",
   "id": "3361f3f1-ae05-4de2-90e4-3f8817d4d24c",
   "metadata": {},
   "source": [
    "To clean the notebooks and remove unnecessary metadata, replace `check` with `clean` in the command above."
   ]
  },
  {
   "cell_type": "markdown",
   "id": "035271e7-3f31-4f3e-8515-1d2152cc233a",
   "metadata": {},
   "source": [
    "This repository uses [pre-commit](https://pre-commit.com) to ensure that all notebooks commited to git adhere to the standards from the command above and are as git-friendly as possible. To install the pre-commit hooks, run the following command:"
   ]
  },
  {
   "cell_type": "markdown",
   "id": "185ad4d9-c3c9-4a87-bc1a-28b0b4023f3c",
   "metadata": {},
   "source": [
    "```bash\n",
    "pre-commit install --allow-missing-config\n",
    "```"
   ]
  },
  {
   "cell_type": "markdown",
   "id": "f5ab97ee-e04e-40ab-a0a5-02ba3dad8c42",
   "metadata": {},
   "source": [
    "<!-- #TODO: write about Python environments -->"
   ]
  },
  {
   "cell_type": "markdown",
   "id": "8a91e17c-e4d4-49f9-b548-9e6e66145d32",
   "metadata": {},
   "source": [
    "## Acknowledgements\n",
    "I am grateful to all the students I had the pleasure of working with on this material. Their feedback has been, is, and will continue to be essential for shaping this content. I would also like to thank my teachers and mentors, who have influenced my thinking. I am thankful to all contributors and creators of the many open-source projects these notes build upon, such as the Python language and its ecosystem, Jupyter, and Quarto. Furthermore, I acknowledge many helpers who may use some form of generative AI, such as ChatGPT, Perplexity, GitHub Copilot, and Grammarly. All remaining errors remain my own.\n"
   ]
  }
 ],
 "metadata": {
  "kernelspec": {
   "display_name": "Python 3 (ipykernel)",
   "language": "python",
   "name": "python3"
  },
  "language_info": {
   "codemirror_mode": {
    "name": "ipython",
    "version": 3
   },
   "file_extension": ".py",
   "mimetype": "text/x-python",
   "name": "python",
   "nbconvert_exporter": "python",
   "pygments_lexer": "ipython3"
  }
 },
 "nbformat": 4,
 "nbformat_minor": 5
}
