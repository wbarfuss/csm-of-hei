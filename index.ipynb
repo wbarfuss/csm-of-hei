{
 "cells": [
  {
   "cell_type": "markdown",
   "id": "1d03eb9f-9f61-4745-921a-8ff7461f3b69",
   "metadata": {},
   "source": [
    "\n",
    "# Preface {.unnumbered}\n",
    "\n",
    "> To my dad, the enthusiast of online lecture materials in Python."
   ]
  },
  {
   "cell_type": "markdown",
   "id": "e7d5a626-a429-466d-aa69-e97ad9060df3",
   "metadata": {},
   "source": [
    "These notes offer a comprehensive and opinionated, but foremost, practical introduction to the field of complex systems modeling applied to human-environment interactions and sustainability transitions.\n"
   ]
  },
  {
   "cell_type": "markdown",
   "id": "cb4f4148",
   "metadata": {},
   "source": [
    "## Learning goals\n",
    "\n",
    "* Students can **model** *human-environment interactions* <br>to answer relevant questions in sustainability science.\n",
    "* Students can **implement** *models of human-environment interactions* <br> in the\n",
    "general-purpose computer language **Python**.\n",
    "* Students can critically **evaluate** *models of human-environment interactions* <br>to judge their\n",
    "relevance to issues in sustainability science."
   ]
  },
  {
   "cell_type": "markdown",
   "id": "8a91e17c-e4d4-49f9-b548-9e6e66145d32",
   "metadata": {},
   "source": [
    "## Acknowledgements\n",
    "I am grateful to everyone whose writings and teachings influenced my thinking. I am thankful to all contributors and creators of the Python language and its ecosystem, which made this work possible. Furthermore, I acknowledge many helpers who may use some form of generative AI, such as ChatGPT, Perplexity, Github Copilot, and Grammarly. All remaining errors remain my own.\n"
   ]
  }
 ],
 "metadata": {
  "kernelspec": {
   "display_name": "python3",
   "language": "python",
   "name": "python3"
  }
 },
 "nbformat": 4,
 "nbformat_minor": 5
}
