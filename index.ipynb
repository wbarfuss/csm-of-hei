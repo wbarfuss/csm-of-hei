{
 "cells": [
  {
   "cell_type": "markdown",
   "id": "1d03eb9f-9f61-4745-921a-8ff7461f3b69",
   "metadata": {},
   "source": [
    "\n",
    "# Preface {.unnumbered}\n",
    "\n",
    "> To my dad, the enthusiast of online lecture materials in Python."
   ]
  },
  {
   "cell_type": "markdown",
   "id": "e7d5a626-a429-466d-aa69-e97ad9060df3",
   "metadata": {},
   "source": [
    "These lecture notes ([Web](https://wbarfuss.github.io/csm-of-hei/), [PDF](https://wbarfuss.github.io/csm-of-hei/Complex-Systems-Modeling-of-Human-Environment-Interactions.pdf), [Google Colab](https://colab.research.google.com/github/wbarfuss/csm-of-hei/blob/main/01.01-Introduction.ipynb)) provide an integrated perspective on different modeling approaches (dynamics, equilibrium, and agent-based) applied to human-environment interactions and sustainability transitions. Its scope is practical, utilizing Python within Jupyter Notebooks. Prerequisites are basic mathematical skills."
   ]
  },
  {
   "cell_type": "markdown",
   "id": "c9ba4987-4a15-411b-a0a7-e0c2e3e958d6",
   "metadata": {},
   "source": [
    "This is version 0.2. To be updated and improved."
   ]
  },
  {
   "cell_type": "markdown",
   "id": "cb4f4148",
   "metadata": {},
   "source": [
    "## Learning goals\n",
    "\n",
    "After **working** through all materials, \n",
    "\n",
    "* students can **model** *human-environment interactions* <br>to answer relevant questions in sustainability science.\n",
    "* students can **implement** *models of human-environment interactions* <br> in the\n",
    "general-purpose computer language **Python**.\n",
    "* students can critically **evaluate** *models of human-environment interactions* <br>to judge their\n",
    "relevance to issues in sustainability science."
   ]
  },
  {
   "cell_type": "markdown",
   "id": "9e9cd0ac-0d9b-42b1-97c7-58a839c4f89a",
   "metadata": {},
   "source": [
    "## Integrated writing and reproducibility"
   ]
  },
  {
   "cell_type": "markdown",
   "id": "ac7afe60-a290-4707-98f3-91bb2249f59c",
   "metadata": {},
   "source": [
    "The following steps are entirely optional for readers who want to focus on the learning goals and are not interested in the development of these lecture notes."
   ]
  },
  {
   "cell_type": "markdown",
   "id": "da536719-cf3f-46b1-a5f1-21bc351f6479",
   "metadata": {},
   "source": [
    "These lecture notes are written in [Jupyter](https://jupyter.org) Notebooks, which are a popular format for interactive computing. Notebooks contain code, math, and text. The code is written in [Python](https://www.python.org), a general-purpose programming language widely used in scientific computing and other fields.\n",
    "\n",
    "Scholarly writing practices, such as citations and cross-references, are facilitated by [Quarto](https://quarto.org), a powerful scientific and technical publishing system. Quarto also allows you to view these lecture notes in various formats, such as HTML and PDF. \n",
    "\n"
   ]
  },
  {
   "cell_type": "markdown",
   "id": "403396cb-ee47-44fe-beb6-05b71c296ebe",
   "metadata": {},
   "source": [
    "Assuming you have installed the [Quarto CLI](https://quarto.org/docs/get-started/), you can render these lecture notes by running the following command in the terminal:"
   ]
  },
  {
   "cell_type": "code",
   "execution_count": null,
   "id": "ac23a9e8-f6f2-45c6-b88b-e75d8763ea33",
   "metadata": {},
   "outputs": [
    {
     "name": "stdout",
     "output_type": "stream",
     "text": [
      "[ 1/27] index.ipynb\u001b[39m\u001b[22m\n",
      "[ 2/27] 01.01-Introduction.ipynb\u001b[39m\u001b[22m\n",
      "[ 3/27] 02-DynamicSystems.ipynb\u001b[39m\u001b[22m\n",
      "[ 4/27] 02.01-Nonlinearity.ipynb\u001b[39m\u001b[22m\n",
      "[ 5/27] 02.02-TippingElements.ipynb\u001b[39m\u001b[22m\n",
      "[ 6/27] 02.03-Resilience.ipynb\u001b[39m\u001b[22m\n",
      "[ 7/27] 02.04-StateTransitions.ipynb\u001b[39m\u001b[22m\n",
      "[ 8/27] 03-TargetEquilibria.ipynb\u001b[39m\u001b[22m\n",
      "[ 9/27] 03.01-SequentialDecisions.ipynb\u001b[39m\u001b[22m\n",
      "[10/27] 03.02-StrategicInteractions.ipynb\u001b[39m\u001b[22m\n",
      "[11/27] 03.03-DynamicInteractions.ipynb\u001b[39m\u001b[22m\n",
      "[12/27] 04-TransformationAgency.ipynb\u001b[39m\u001b[22m\n",
      "[13/27] 04.01-BehavioralAgency.ipynb\u001b[39m\u001b[22m\n",
      "[14/27] 04.02-IndividualLearning.ipynb\u001b[39m\u001b[22m\n",
      "[15/27] 04.03-LearningDynamics.ipynb\u001b[39m\u001b[22m\n",
      "[16/27] References.ipynb\u001b[39m\u001b[22m\n",
      "[17/27] 01.02ex-IntroToPython.ipynb\u001b[39m\u001b[22m\n",
      "[18/27] 02.01ex-Nonlinearity.ipynb\u001b[39m\u001b[22m\n",
      "[19/27] 02.02ex-TippingElements.ipynb\u001b[39m\u001b[22m\n",
      "[20/27] 02.03ex-Resilience.ipynb\u001b[39m\u001b[22m\n",
      "[21/27] 02.04ex-StateTransitions.ipynb\u001b[39m\u001b[22m\n",
      "[22/27] 03.01ex-SequentialDecisions.ipynb\u001b[39m\u001b[22m\n",
      "[23/27] 03.02ex-StrategicInteractions.ipynb\u001b[39m\u001b[22m\n",
      "[24/27] 03.03ex-DynamicInteractions.ipynb\u001b[39m\u001b[22m\n",
      "[25/27] 04.01ex-BehavioralAgency.ipynb\u001b[39m\u001b[22m\n",
      "[26/27] 04.02ex-IndividualLearning.ipynb\u001b[39m\u001b[22m\n",
      "[27/27] 04.03ex-LearningDynamics.ipynb\u001b[39m\u001b[22m\n",
      "\n",
      "\u001b[1mpandoc \u001b[22m\n",
      "  to: latex\n",
      "  output-file: index.tex\n",
      "  standalone: true\n",
      "  toc: true\n",
      "  number-sections: true\n",
      "  top-level-division: chapter\n",
      "  pdf-engine: xelatex\n",
      "  variables:\n",
      "    graphics: true\n",
      "    tables: true\n",
      "    secnumdepth: 2\n",
      "  default-image-extension: pdf\n",
      "  toc-depth: 2\n",
      "  \n",
      "\u001b[1mmetadata\u001b[22m\n",
      "  crossref:\n",
      "    chapters: true\n",
      "  documentclass: scrreprt\n",
      "  papersize: A4\n",
      "  classoption:\n",
      "    - DIV=11\n",
      "    - numbers=noendperiod\n",
      "  header-includes:\n",
      "    - \\KOMAoption{captions}{tableheading}\n",
      "  block-headings: false\n",
      "  csl: apa7.csl\n",
      "  bibliography:\n",
      "    - CSMofHEI.bib\n",
      "  geometry:\n",
      "    - top=20mm\n",
      "    - left=20mm\n",
      "    - right=20mm\n",
      "    - bottom=25mm\n",
      "  link-citations: true\n",
      "  number-depth: 2\n",
      "  title: Complex Systems Modeling of Human-Environment Interactions\n",
      "  author: Wolfram Barfuss\n",
      "  date: '2025-06-24T08:48:59+02:00'\n",
      "  date-format: long\n",
      "  \n",
      "\u001b[33mWARNING (/Applications/quarto/share/filters/main.lua:14000) Unable to resolve crossref @eq-bellman1\n",
      "\u001b[1m\u001b[34m\n",
      "Rendering PDF\u001b[39m\u001b[22m\n",
      "\u001b[1m\u001b[34mrunning xelatex - 1\u001b[39m\u001b[22m\n",
      "  This is XeTeX, Version 3.141592653-2.6-0.999997 (TeX Live 2025) (preloaded format=xelatex)\n",
      "   restricted \\write18 enabled.\n",
      "  entering extended mode\n",
      "  \n",
      "\u001b[1m\u001b[34mrunning xelatex - 2\u001b[39m\u001b[22m\n",
      "  This is XeTeX, Version 3.141592653-2.6-0.999997 (TeX Live 2025) (preloaded format=xelatex)\n",
      "   restricted \\write18 enabled.\n",
      "  entering extended mode\n",
      "  \n",
      "\n",
      "\u001b[33mWARN: 03.01-SequentialDecisions.html: Unable to resolve crossref @eq-bellman1\u001b[39m\n",
      "Output created: __output/index.html\n",
      "\n"
     ]
    }
   ],
   "source": [
    "#| output: false\n",
    "!quarto render ."
   ]
  },
  {
   "cell_type": "markdown",
   "id": "e5f7934a-240c-4c76-b50f-a34b7d8da98c",
   "metadata": {},
   "source": [
    "The comment `#| output: false` is a Quarto directive that prevents the output of this cell from being displayed in the rendered documents. This is useful for keeping these readable."
   ]
  },
  {
   "cell_type": "markdown",
   "id": "032dd445-e588-4f34-b74f-ddc39ffe9741",
   "metadata": {},
   "source": [
    "These lecture notes are made open-source and hosted in a GitHub repository. To convert this `index.ipynb` file (which is required in the Quarto Book project type) into the repository's README file, one may execute the following commands:"
   ]
  },
  {
   "cell_type": "code",
   "execution_count": null,
   "id": "e406d849-7b90-4346-af6a-c7a568ae946c",
   "metadata": {},
   "outputs": [
    {
     "name": "stdout",
     "output_type": "stream",
     "text": [
      "Converted to index.qmd\n"
     ]
    }
   ],
   "source": [
    "!quarto convert index.ipynb # convert into Quarto markdown\n",
    "!tail -n +10 index.qmd > README.md  # remove some metadata+\n",
    "!rm index.qmd  # remove the intermediate file"
   ]
  },
  {
   "cell_type": "markdown",
   "id": "f5ab97ee-e04e-40ab-a0a5-02ba3dad8c42",
   "metadata": {},
   "source": [
    "<!-- #TODO: write about Python environments -->"
   ]
  },
  {
   "cell_type": "markdown",
   "id": "8a91e17c-e4d4-49f9-b548-9e6e66145d32",
   "metadata": {},
   "source": [
    "## Acknowledgements\n",
    "I am grateful to all the students I had the pleasure of working with on this material. Their feedback has been, is, and will continue to be essential for shaping this content. I would also like to thank my teachers and mentors, who have influenced my thinking. I am thankful to all contributors and creators of the many open-source projects these notes build upon, such as the Python language and its ecosystem, Jupyter, and Quarto. Furthermore, I acknowledge many helpers who may use some form of generative AI, such as ChatGPT, Perplexity, GitHub Copilot, and Grammarly. All remaining errors remain my own.\n"
   ]
  }
 ],
 "metadata": {
  "kernelspec": {
   "display_name": "Python 3 (ipykernel)",
   "language": "python",
   "name": "python3"
  },
  "language_info": {
   "codemirror_mode": {
    "name": "ipython",
    "version": 3
   },
   "file_extension": ".py",
   "mimetype": "text/x-python",
   "name": "python",
   "nbconvert_exporter": "python",
   "pygments_lexer": "ipython3"
  }
 },
 "nbformat": 4,
 "nbformat_minor": 5
}
