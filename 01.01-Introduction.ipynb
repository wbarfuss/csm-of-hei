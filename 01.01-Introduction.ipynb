{
 "cells": [
  {
   "cell_type": "markdown",
   "id": "b09dba09-b20f-4569-9897-8c364168a6e6",
   "metadata": {
    "slideshow": {
     "slide_type": "slide"
    },
    "tags": []
   },
   "source": [
    "\n",
    "# Sustainability Systems Science"
   ]
  },
  {
   "cell_type": "markdown",
   "id": "4d101afd",
   "metadata": {
    "slideshow": {
     "slide_type": ""
    },
    "tags": []
   },
   "source": [
    "[Wolfram Barfuss](https://wbarfuss.github.io) | [University of Bonn](https://www.uni-bonn.de) | 2025/2026 <br>\n",
    "▶ **Complex Systems Modeling of Human-Environment Interactions**"
   ]
  },
  {
   "cell_type": "markdown",
   "id": "d8eadf79",
   "metadata": {
    "slideshow": {
     "slide_type": "notes"
    },
    "tags": []
   },
   "source": [
    "> This chapter introduces the basic rationale for **sustainability systems science**, i.e., complex systems modeling and its application to human-environment interactions and sustainability transitions. "
   ]
  },
  {
   "cell_type": "markdown",
   "id": "9cbea6f5",
   "metadata": {
    "slideshow": {
     "slide_type": "subslide"
    },
    "tags": []
   },
   "source": [
    "### Learning goals\n",
    "\n",
    "After this chapter, students will be able to **explain**:\n",
    "\n",
    "* Why sustainability transitions require a coupled systems approach?\n",
    "* Why we must model, and how do it well?\n",
    "* Systems reductionism and its relation to complex systems.\n",
    "* Structural challenges for sustainability transitions and three types of models to tackle them."
   ]
  },
  {
   "cell_type": "code",
   "execution_count": null,
   "id": "65dfd46b",
   "metadata": {
    "slideshow": {
     "slide_type": "subslide"
    },
    "tags": [
     "remove_cell"
    ]
   },
   "outputs": [],
   "source": [
    "#| echo: false\n",
    "from IPython.display import IFrame\n",
    "def iframe(url, width=\"100%\", height=450, extras=None):\n",
    "    return IFrame(url, width, height, extras)"
   ]
  },
  {
   "cell_type": "markdown",
   "id": "500cf79b",
   "metadata": {
    "slideshow": {
     "slide_type": "slide"
    },
    "tags": []
   },
   "source": [
    "## Human-environment interactions for sustainability transitions"
   ]
  },
  {
   "cell_type": "markdown",
   "id": "13810aa7",
   "metadata": {
    "slideshow": {
     "slide_type": "subslide"
    },
    "tags": []
   },
   "source": [
    "### The state of the planet"
   ]
  },
  {
   "cell_type": "markdown",
   "id": "0027fcdc",
   "metadata": {
    "slideshow": {
     "slide_type": "notes"
    },
    "tags": []
   },
   "source": [
    "Watch [this TED talk](https://www.youtube.com/watch?v=Vl6VhCAeEfQ) by Johan Rockström, who offers the 2024 scientific assessment of the state of the planet and explains what must be done to preserve Earth's resilience to human pressure."
   ]
  },
  {
   "cell_type": "markdown",
   "id": "f01a6870",
   "metadata": {
    "slideshow": {
     "slide_type": "notes"
    },
    "tags": []
   },
   "source": [
    "While watching, ask yourself the following questions (and make notes around your answers):"
   ]
  },
  {
   "cell_type": "markdown",
   "id": "03cfd8ca",
   "metadata": {},
   "source": [
    "\n",
    "* What are the main challenges facing humanity in the 21st century?\n",
    "* In which ways humans and the environment are interconnected?\n",
    "* What is the most impressive fact you learned from the talk?\n"
   ]
  },
  {
   "cell_type": "markdown",
   "id": "de34602d",
   "metadata": {
    "slideshow": {
     "slide_type": "skip"
    },
    "tags": []
   },
   "source": [
    "::: {.content-visible when-format=\"html\"}"
   ]
  },
  {
   "cell_type": "code",
   "execution_count": null,
   "id": "0aed4567",
   "metadata": {
    "slideshow": {
     "slide_type": ""
    },
    "tags": [
     "remove_input"
    ]
   },
   "outputs": [
    {
     "data": {
      "text/html": [
       "\n",
       "        <iframe\n",
       "            width=\"100%\"\n",
       "            height=\"450\"\n",
       "            src=\"https://www.youtube-nocookie.com/embed/Vl6VhCAeEfQ?si=mIYOmtV0maEjxUkh\"\n",
       "            frameborder=\"0\"\n",
       "            allowfullscreen\n",
       "            \n",
       "        ></iframe>\n",
       "        "
      ],
      "text/plain": [
       "<IPython.lib.display.IFrame at 0x107355be0>"
      ]
     },
     "execution_count": null,
     "metadata": {},
     "output_type": "execute_result"
    }
   ],
   "source": [
    "#| echo: false\n",
    "iframe(\"https://www.youtube-nocookie.com/embed/Vl6VhCAeEfQ?si=mIYOmtV0maEjxUkh\")"
   ]
  },
  {
   "cell_type": "markdown",
   "id": "d621d15d",
   "metadata": {
    "slideshow": {
     "slide_type": "skip"
    },
    "tags": []
   },
   "source": [
    ":::"
   ]
  },
  {
   "cell_type": "markdown",
   "id": "39ebe9c7-79d3-432d-b3f0-3b6dd1139e6b",
   "metadata": {
    "slideshow": {
     "slide_type": "subslide"
    },
    "tags": []
   },
   "source": [
    "### Why are we not acting?\n",
    "\n",
    "Given the rather grim assessment of the planet's state, the question arises: **Why are we not acting more toward a safe and just future for all** \n",
    "\n",
    "- despite all the scientific progress we have made so far,\n",
    "- despite all the knowledge about the risks and undesirable consequences ahead if we do not change our course of action,\n",
    "- despite all the knowledge we have obtained about possible solutions?"
   ]
  },
  {
   "cell_type": "markdown",
   "id": "99987b20-a66f-40e0-b15b-448f7530c57d",
   "metadata": {
    "slideshow": {
     "slide_type": ""
    },
    "tags": []
   },
   "source": [
    "**Reflect on this question on your own.** Come up with a list of factors most relevant to you."
   ]
  },
  {
   "cell_type": "markdown",
   "id": "66007167",
   "metadata": {
    "slideshow": {
     "slide_type": "subslide"
    },
    "tags": []
   },
   "source": [
    "### A failure of systems thinking?"
   ]
  },
  {
   "cell_type": "markdown",
   "id": "6be21c61",
   "metadata": {
    "slideshow": {
     "slide_type": "notes"
    },
    "tags": []
   },
   "source": [
    "According to [John Sterman]((https://mitmgmtfaculty.mit.edu/jsterman/)), professor and director of the MIT System Dynamics Group, the underlying issue of inaction in the sustainability crises is a **massive failure of systems thinking**. \n",
    "\n",
    "Watch the part of his [talk](https://mitmgmtfaculty.mit.edu/jsterman/) (from minutes 12:19 until 14:17) where he explains this failure and **compare his assessment with your own from above**. Did he miss some critical factors? How can we complement his assessment?"
   ]
  },
  {
   "cell_type": "markdown",
   "id": "29f6d0cd",
   "metadata": {
    "slideshow": {
     "slide_type": "skip"
    },
    "tags": []
   },
   "source": [
    "::: {.content-visible when-format=\"html\"}\n"
   ]
  },
  {
   "cell_type": "code",
   "execution_count": null,
   "id": "049a8404",
   "metadata": {
    "slideshow": {
     "slide_type": ""
    },
    "tags": [
     "remove_input"
    ]
   },
   "outputs": [
    {
     "data": {
      "text/html": [
       "\n",
       "        <iframe\n",
       "            width=\"100%\"\n",
       "            height=\"450\"\n",
       "            src=\"https://www.youtube-nocookie.com/embed/yMNElsUDHXA?si=DKBolC8yLH08Jjku&amp;end=858;&start=739\"\n",
       "            frameborder=\"0\"\n",
       "            allowfullscreen\n",
       "            \n",
       "        ></iframe>\n",
       "        "
      ],
      "text/plain": [
       "<IPython.lib.display.IFrame at 0x107374cd0>"
      ]
     },
     "execution_count": null,
     "metadata": {},
     "output_type": "execute_result"
    }
   ],
   "source": [
    "#| echo: false\n",
    "iframe(\"https://www.youtube-nocookie.com/embed/yMNElsUDHXA?si=DKBolC8yLH08Jjku&amp;end=858;&start=739\")"
   ]
  },
  {
   "cell_type": "markdown",
   "id": "522eddde",
   "metadata": {
    "slideshow": {
     "slide_type": "skip"
    },
    "tags": []
   },
   "source": [
    ":::"
   ]
  },
  {
   "cell_type": "markdown",
   "id": "0ffb9bc0-3013-4300-9b7c-6c47827cefc3",
   "metadata": {
    "slideshow": {
     "slide_type": "notes"
    },
    "tags": []
   },
   "source": [
    "These lecture notes offers a comprehensive and opinionated, but foremost, practical introduction to the field of complex systems modeling applied to human-environment interactions and sustainability transitions.\n",
    "\n",
    "\n"
   ]
  },
  {
   "cell_type": "markdown",
   "id": "4e50ddb5",
   "metadata": {
    "slideshow": {
     "slide_type": "slide"
    },
    "tags": []
   },
   "source": [
    "## Modeling"
   ]
  },
  {
   "cell_type": "markdown",
   "id": "a6c83860",
   "metadata": {
    "slideshow": {
     "slide_type": "subslide"
    },
    "tags": []
   },
   "source": [
    "### We cannot not model"
   ]
  },
  {
   "cell_type": "markdown",
   "id": "0312c086-a6e6-49dc-8b36-13ea0c2dad82",
   "metadata": {
    "slideshow": {
     "slide_type": ""
    },
    "tags": []
   },
   "source": [
    "In information theory, a bit (i.e., a `0` or a `1`) stores the answer to a yes-or-no question. We can measure the rate of information transmitted with the number of bits per second. "
   ]
  },
  {
   "cell_type": "markdown",
   "id": "575c3f9d",
   "metadata": {
    "slideshow": {
     "slide_type": ""
    },
    "tags": []
   },
   "source": [
    "\n",
    "![We cannot not model - Human physiology requires simplification](images/01.01-WeCannotNotModel.png){#fig-we-cannot-not-model}\n"
   ]
  },
  {
   "cell_type": "markdown",
   "id": "58532adf-9f1f-4f4f-9e28-c36bae825420",
   "metadata": {
    "slideshow": {
     "slide_type": "notes"
    },
    "tags": []
   },
   "source": [
    "For example, it is known that our senses gather some 11 million bits per second from the environment ([britannica.com](https://www.britannica.com/science/information-theory/Physiology)).\n",
    "When applied to the human brain, you expect it to show tremendous information processing capability. \n",
    "\n",
    "Interestingly, when researchers attempted to assess information processing capabilities during “intelligent” or “conscious” activities—like reading or playing the piano—they found a maximum capability of under 50 bits per second (@fig-we-cannot-not-model). *For instance*, a typical reading speed of 300 words per minute translates to about five words per second. Assuming an average of five characters per word and roughly two bits per character results in that 50 bits per second figure. The precise number can vary based on assumptions and may differ according to the individual and the specific task. \n",
    "\n",
    "Thus, a tremendous amount of compression occurs if 11 million bits are reduced to less than 50. **Our human physiology requires simplifaction. We model all the time.** Note that the discrepancy between the amount of information being transmitted and the amount of information being processed is so large that any inaccuracy in the measurements is insignificant.\n",
    "\n",
    "\n"
   ]
  },
  {
   "cell_type": "markdown",
   "id": "e56e0aea",
   "metadata": {
    "slideshow": {
     "slide_type": "subslide"
    },
    "tags": []
   },
   "source": [
    "### All models are wrong"
   ]
  },
  {
   "cell_type": "markdown",
   "id": "f4c3a5a7-76b9-4bca-8dde-1dc4448c69e8",
   "metadata": {
    "slideshow": {
     "slide_type": ""
    },
    "tags": []
   },
   "source": [
    "> A model is a simplified representation of reality."
   ]
  },
  {
   "cell_type": "markdown",
   "id": "2f45c9ab-9aa7-4834-bd82-73e4ce87f885",
   "metadata": {
    "slideshow": {
     "slide_type": ""
    },
    "tags": []
   },
   "source": [
    "A model's simplification is necessary to make the phenomenon under question tractable and understandable. Simplifaction here is a feature, not a bug [@Smaldino2017]. **The purpose of a model is to be wrong**."
   ]
  },
  {
   "cell_type": "markdown",
   "id": "52651745-2763-42ef-b4ae-705f04a74ac0",
   "metadata": {
    "slideshow": {
     "slide_type": "subslide"
    },
    "tags": []
   },
   "source": [
    "**The models we use come in different forms or media.** "
   ]
  },
  {
   "cell_type": "markdown",
   "id": "a6650a0c-718a-42e8-b515-37c1ca2e0bc0",
   "metadata": {
    "slideshow": {
     "slide_type": ""
    },
    "tags": []
   },
   "source": [
    "![Different model forms or media](images/01.01-ModelMedia.png){#fig-model-media}"
   ]
  },
  {
   "cell_type": "markdown",
   "id": "64d37843-4ea4-4e91-b046-c21b4bf27724",
   "metadata": {
    "slideshow": {
     "slide_type": "notes"
    },
    "tags": []
   },
   "source": [
    "Some are *informal* and *qualitative*, while others are more *formal* and *quantitative* (@fig-model-media). **Mental models** are intuitive and often subconscious. **Verbal models** describe concepts through language. Both model media can be vague and open to multiple interpretations, giving an *illusion of understanding* without precise clarity [@Smaldino2017]. \n",
    "Furthermore, the last 100,000 years of evolution have shaped Homo sapiens in ways that make it difficult for us to comprehend a dynamic, unstable, and unpredictable world. Our *brains evolved to manage immediate, short-term situations* and *anticipate gradual, linear changes* with a tendency to seek *balance and stability* [@Raworth2017]. Thus, we must make a conscious effort to overcome these cognitive priors. Formal models can help with that.\n",
    "\n"
   ]
  },
  {
   "cell_type": "markdown",
   "id": "76c117f0-68a7-4bb2-b3ed-72ef64ba0244",
   "metadata": {
    "slideshow": {
     "slide_type": "notes"
    },
    "tags": []
   },
   "source": [
    "**Pictorial models** enhance understanding through visual representations. Take, for example, maps, and diagrams, but also artistic paintings. **Mathematical models** use equations to quantify relationships, providing greater precision. **Computer models** require the highest level of precision; all entities and causal mechanisms must be defined unambiguously to allow a computer simulation to operate. This high level of precision makes them essential for scientific research and understanding. However, our subconscious mental models often have the highest impact on how we perceive and act in the world.\n",
    "\n",
    "Thus, we will develop primarily formal mathematical and computational models in this book. However, this will automatically refine our mental and verbal models."
   ]
  },
  {
   "cell_type": "markdown",
   "id": "94838bba-0446-4341-87d4-79934c609523",
   "metadata": {
    "slideshow": {
     "slide_type": "subslide"
    },
    "tags": []
   },
   "source": [
    "#### The challenge of informal models"
   ]
  },
  {
   "cell_type": "markdown",
   "id": "37d8ccf8-8b51-4927-9bc4-37f980742ff7",
   "metadata": {
    "slideshow": {
     "slide_type": ""
    },
    "tags": []
   },
   "source": [
    "**Proverbs** are a good example of mental models that are passed down through the generations. They concisely convey wisdom. However, they are often **contradictory** and provide no guidance on how to act. For example, consider the following proverbs [@Page2018]:\n",
    "\n",
    "> Proverb: Tie yourself to the mast <br>\n",
    "> Opposite: Keep your options open\n",
    "\n",
    "> Proverb: The perfect is the enemy of the good <br>\n",
    "> Opposite: Do it well or not at all\n",
    "\n",
    "> Proverb: Actions speak louder than words <br>\n",
    "> Opposite: The pen is mightier than the sword\n",
    "\n"
   ]
  },
  {
   "cell_type": "markdown",
   "id": "39926d84-5e9b-4b2e-8fee-66340edcd9aa",
   "metadata": {
    "slideshow": {
     "slide_type": "subslide"
    },
    "tags": []
   },
   "source": [
    "#### The power of informal models"
   ]
  },
  {
   "cell_type": "markdown",
   "id": "7a666fd2-af8d-4521-9f11-e59082308aa1",
   "metadata": {
    "slideshow": {
     "slide_type": ""
    },
    "tags": []
   },
   "source": [
    "To illustrate the power of mental models, consider the following riddle:\n",
    "\n",
    "> A father and son are in a horrible car crash that kills the dad. The son is rushed to the hospital; just as he's about to go under the knife, the surgeon says, \"I can't operate -- that boy is my son!\"  ",
    "\n",
    "\n",
    "\n",
    "\n",
    "\n",
    "\n",
    "\n",
    "\n",
    " ",
    "\n",
    "\n",
    "\n",
    "\n",
    "\n",
    "\n",
    "\n",
    "\n",
    "*How can this be?*"
   ]
  },
  {
   "cell_type": "markdown",
   "id": "59b458bc-7bc9-49f8-8de3-6c5c202289ca",
   "metadata": {
    "slideshow": {
     "slide_type": "subslide"
    },
    "tags": []
   },
   "source": [
    "Regardless of how obvious (or not) the answer appears to you, watch [this video](https://www.youtube.com/watch?v=d4KmvA9hXwA) in which people in Vienna are asked this question (Autotranslation helps if you do not speak German). **Observe their reactions when their mental models are updated** (from minute 1:38 on).\n"
   ]
  },
  {
   "cell_type": "markdown",
   "id": "0d0b2d30-020e-44a1-b689-5ef51b05036a",
   "metadata": {
    "slideshow": {
     "slide_type": "skip"
    },
    "tags": []
   },
   "source": [
    "::: {.content-visible when-format=\"html\"}\n"
   ]
  },
  {
   "cell_type": "code",
   "execution_count": null,
   "id": "9440c21b-edee-4713-a3aa-faa2c9a55f7f",
   "metadata": {
    "slideshow": {
     "slide_type": ""
    },
    "tags": [
     "remove_input"
    ]
   },
   "outputs": [
    {
     "data": {
      "text/html": [
       "\n",
       "        <iframe\n",
       "            width=\"100%\"\n",
       "            height=\"450\"\n",
       "            src=\"https://www.youtube.com/embed/d4KmvA9hXwA?si=FRoT2TUIVxGeyQOC&amp;end=140\"\n",
       "            frameborder=\"0\"\n",
       "            allowfullscreen\n",
       "            \n",
       "        ></iframe>\n",
       "        "
      ],
      "text/plain": [
       "<IPython.lib.display.IFrame at 0x107374910>"
      ]
     },
     "execution_count": null,
     "metadata": {},
     "output_type": "execute_result"
    }
   ],
   "source": [
    "#| echo: false\n",
    "iframe(\"https://www.youtube.com/embed/d4KmvA9hXwA?si=FRoT2TUIVxGeyQOC&amp;end=140\")"
   ]
  },
  {
   "cell_type": "markdown",
   "id": "b832ced5-2501-4dc0-a341-5e754f156799",
   "metadata": {
    "slideshow": {
     "slide_type": "skip"
    },
    "tags": []
   },
   "source": [
    ":::"
   ]
  },
  {
   "cell_type": "markdown",
   "id": "bd736d3a-1c5f-4f9d-b840-e8ac11eb2564",
   "metadata": {
    "slideshow": {
     "slide_type": "notes"
    },
    "tags": []
   },
   "source": [
    "We observe that **modeling is an iterative process**. When recognizing a mismatch between our models and reality, we get the opportunity to refine our models, and so gradually, we might become **less wrong** [@Smaldino2017].  Creating formal models of the systems we care about is the only method to achieve this in a structured, deliberate, and controlled manner."
   ]
  },
  {
   "cell_type": "markdown",
   "id": "a171f902-a902-46b7-8111-5e68aeea3d0a",
   "metadata": {
    "slideshow": {
     "slide_type": "notes"
    },
    "tags": []
   },
   "source": [
    "However, as it is the defining feature of a model to simplify or, in other words, to be wrong, making them *more true* cannot be the purpose of a model per se. But, **what makes a model useful?**"
   ]
  },
  {
   "cell_type": "markdown",
   "id": "e75df445-d8af-4fa1-8845-ea2cbc6fc994",
   "metadata": {
    "slideshow": {
     "slide_type": "subslide"
    },
    "tags": []
   },
   "source": [
    "### Some models are useful"
   ]
  },
  {
   "cell_type": "markdown",
   "id": "97784fb4-4eef-4fd5-bbd1-849bace6ee27",
   "metadata": {
    "slideshow": {
     "slide_type": "notes"
    },
    "tags": []
   },
   "source": [
    "There is no universally agreed-upon classification of model use cases. I tend to distinguish between four clusters of model use cases (@fig-model-uses): 1) Understanding & explaining, 2) Communication & learning, 3) Prediction & forecasting, and 4) Decision-making & action."
   ]
  },
  {
   "cell_type": "markdown",
   "id": "ce2f333f-047e-42a6-bbcf-7ff053bd7ed7",
   "metadata": {
    "slideshow": {
     "slide_type": ""
    },
    "tags": []
   },
   "source": [
    "![Possible model use cases](images/01.01-ModelUses.png){#fig-model-uses}"
   ]
  },
  {
   "cell_type": "markdown",
   "id": "4882c259-152c-4799-904b-95e4f904f359",
   "metadata": {
    "slideshow": {
     "slide_type": "notes"
    },
    "tags": []
   },
   "source": [
    "#### Understanding & Explaining"
   ]
  },
  {
   "cell_type": "markdown",
   "id": "72839791-ba4d-4794-bb4b-a4914d92fc04",
   "metadata": {
    "slideshow": {
     "slide_type": "notes"
    },
    "tags": []
   },
   "source": [
    "Understanding and explaining phenomena may occur in various ways. For example, models help **clarify assumptions** [@Smaldino2017], allowing for a more transparent assessment of their implications and conclusions. \n",
    "Models help us to **reason**, i.e., to identify conditions and deduce logical implications.\n",
    "They also can provide (testable) **explanations** for empirical phenomena. [@Page2018]\n",
    "And, models are helpful to **explore**, i.e., to consider different “what if” scenarios to investigate possibilities and hypotheticals [@Smaldino2017; @Page2018]."
   ]
  },
  {
   "cell_type": "markdown",
   "id": "c573b15c-6bde-444e-9314-3e048d48e060",
   "metadata": {
    "slideshow": {
     "slide_type": "notes"
    },
    "tags": []
   },
   "source": [
    "#### Communication & Learning\n",
    "\n",
    "Formal models can serve as tools to **overcome our cognitive limitations**.\n",
    "They help in **systematizing** and **synchronizing** our understanding, ensuring that we discuss the same concepts and avoiding ambiguity that often accompanies verbal models.[@Smaldino2017]\n",
    "Models can **guide scientific questions**. The precise specification of components and their relationships in a model helps clarify scientific questions and distinguishes them from unfalsifiable pseudo-theories [@Smaldino2017]."
   ]
  },
  {
   "cell_type": "markdown",
   "id": "30f22e2f-a735-4873-a645-ceef3e41265a",
   "metadata": {
    "slideshow": {
     "slide_type": "notes"
    },
    "tags": []
   },
   "source": [
    "#### Prediction & Forcasting\n",
    "\n",
    "**Prediction** refers to making numerical and categorical predictions of future and unknown phenomena.\n",
    "Historically, explanation and prediction were often linked closely together. However, **prediction differs from explanation**.\n",
    "A model can predict without explaining. Deep learning algorithms can predict product sales, tomorrow’s weather, price trends, and specific health outcomes; however, they provide minimal explanation.\n",
    "Also, a model can explain without predicting. Ecology models can explain speciation patterns but cannot predict new species [@Page2018].\n",
    "Related concepts to prediction are **forecasting** and **projections**, which can mean various things in different contexts.\n",
    "\n"
   ]
  },
  {
   "cell_type": "markdown",
   "id": "252cdb93-87bd-4d1b-a807-80e828825e5e",
   "metadata": {
    "slideshow": {
     "slide_type": "notes"
    },
    "tags": []
   },
   "source": [
    "#### Decicion-making & Action\n",
    "\n",
    "Formal models help **design** institutions, policies, and rules by providing frameworks for contemplating the implications of choices. \n",
    "Combining this process with empirical data, formal models are helpful for **action, guiding policy choices** and strategic actions of governments, corporations, and nonprofits [@Page2018].\n",
    "Likewise, good [mental models](https://fs.blog/mental-models/) are helpful for good actions in our everyday lives.\n"
   ]
  },
  {
   "cell_type": "markdown",
   "id": "2b4481d6-6592-42d4-bece-37b56dd4830b",
   "metadata": {
    "slideshow": {
     "slide_type": ""
    },
    "tags": []
   },
   "source": [
    "**It is important to note that, in general, a single model does not fulfill all use cases.**"
   ]
  },
  {
   "cell_type": "markdown",
   "id": "6bce6a44-30da-441d-b746-e1ffcd7c2488",
   "metadata": {
    "slideshow": {
     "slide_type": "notes"
    },
    "tags": []
   },
   "source": [
    "Some models might do, like, for example, Newtonian mechanics. It explains the motion of objects, predicts their future positions, guides the design of machines, and is learned in schools worldwide. However, in most instances, this is not the case. A model might explain a phenomenon but cannot predict it or vice versa. A helpful model for decision-making might neither make accurate predictions nor explain the underlying mechanisms. Take macroeconomic models as an example."
   ]
  },
  {
   "cell_type": "markdown",
   "id": "fc9d27d0-7e16-4f21-a5b5-1cb02f617459",
   "metadata": {
    "slideshow": {
     "slide_type": ""
    },
    "tags": []
   },
   "source": [
    "Beyond being useful or not, are there some quality criteria a *good* model should fulfill?"
   ]
  },
  {
   "cell_type": "markdown",
   "id": "1a6a2af3-6aea-46f0-9d8e-f70f562aad05",
   "metadata": {
    "slideshow": {
     "slide_type": "subslide"
    },
    "tags": []
   },
   "source": [
    "### Some models are good"
   ]
  },
  {
   "cell_type": "markdown",
   "id": "735a344b-ff33-47b0-8d2a-ecd5f1e58971",
   "metadata": {
    "slideshow": {
     "slide_type": ""
    },
    "tags": []
   },
   "source": [
    "I argue that there are some quality criteria that make a model a *good* model. A good model must be"
   ]
  },
  {
   "cell_type": "markdown",
   "id": "a3e71d2c-ca5f-46ad-a34b-a7de95d5fc1c",
   "metadata": {
    "slideshow": {
     "slide_type": ""
    },
    "tags": []
   },
   "source": [
    "* coherent\n",
    "* transparent, and\n",
    "* sparse."
   ]
  },
  {
   "cell_type": "markdown",
   "id": "e3546402-e0a1-4c39-ba64-f57394e73f0f",
   "metadata": {
    "slideshow": {
     "slide_type": "notes"
    },
    "tags": []
   },
   "source": [
    "#### Coherence\n",
    "Coherence means that the model is consistent. It does not contain contradictions or logical errors. Consider, for example, the proverbs from above.\n",
    "\n",
    "A model can resolve these contradictions by specifying the conditions under which a particular statement holds. For example, under some conditions, it is best to *tie yourself to the mast*, while under others, it is best to *keep your options open*. A model can help to clarify these conditions.\n",
    "\n",
    "This requirement of coherence or consistency **imposes a set of helpful [constraints](https://www.quantamagazine.org/pondering-the-bits-that-build-space-time-and-brains-20220420/)** within which the model development can take place.\n"
   ]
  },
  {
   "cell_type": "markdown",
   "id": "37f80818-e782-4218-a424-4a9956a266d8",
   "metadata": {
    "slideshow": {
     "slide_type": "notes"
    },
    "tags": []
   },
   "source": [
    "#### Transparency\n",
    "\n",
    "A good model makes its **assumptions explicit** and transparent. It also openly discusses its **limitations**. \n",
    "Bonus points if the model is transparent about **uncertainty** in empirical data, parameters, and processes.\n",
    "Transparency is a prerequisite for a model to be useful for communication and learning.\n"
   ]
  },
  {
   "cell_type": "markdown",
   "id": "daf8391b-e28d-4507-a085-655d591fa1ac",
   "metadata": {
    "slideshow": {
     "slide_type": "notes"
    },
    "tags": []
   },
   "source": [
    "#### Sparsity\n",
    "\n",
    "You should take the simpler model if you have two competing models of equal quality regarding their use case. This is also known under the term [Occam's razor](https://en.wikipedia.org/wiki/Occam's_razor) or the **principle of parsimony**. This principle helps us avoid going overboard with introducing new assumptions, entities, and processes into our models, making our models overly complex and difficult to understand without further benefit. However, sometimes, during the modeling process, we are unsure whether a newly introduced  assumption is helpful to explain the phenomenon under question. Thus, for model development, the principle of parsimony is a guideline, not a strict rule. As the famous saying goes\n",
    "\n",
    "> You should make things as simple as possible, but not simpler."
   ]
  },
  {
   "cell_type": "markdown",
   "id": "4ba0657e-1fdf-4890-ae58-75b0c5fc0475",
   "metadata": {
    "slideshow": {
     "slide_type": "slide"
    },
    "tags": []
   },
   "source": [
    "## Systems reductionism"
   ]
  },
  {
   "cell_type": "markdown",
   "id": "8bf52d50-6484-4219-a280-498bbcb43f85",
   "metadata": {
    "slideshow": {
     "slide_type": ""
    },
    "tags": []
   },
   "source": [
    "Given that we cannot not model, how should we make sense of the world?"
   ]
  },
  {
   "cell_type": "markdown",
   "id": "f967b67e-2a32-47c1-b79c-c01158cb28ed",
   "metadata": {
    "slideshow": {
     "slide_type": "subslide"
    },
    "tags": []
   },
   "source": [
    "### Classical reductionism"
   ]
  },
  {
   "cell_type": "markdown",
   "id": "20804302-57aa-4bca-a239-95e36f1d9739",
   "metadata": {
    "slideshow": {
     "slide_type": "notes"
    },
    "tags": []
   },
   "source": [
    "With *classical reductionism*, I refer to the ideas of rationalism and empiricism that have dominated Western science since the last great transformation, the Enlightenment. Replacing religious dogmatism, this view argues, that "
   ]
  },
  {
   "cell_type": "markdown",
   "id": "1e6086dc-7c4d-4063-8839-4e9c0f35292a",
   "metadata": {
    "slideshow": {
     "slide_type": ""
    },
    "tags": []
   },
   "source": [
    "> **the whole can be understood from its parts**."
   ]
  },
  {
   "cell_type": "markdown",
   "id": "50550253-bdb9-4fc0-ad8b-c5489d7f1f05",
   "metadata": {
    "slideshow": {
     "slide_type": "notes"
    },
    "tags": []
   },
   "source": [
    "For example, this approach has been highly successful in physics and chemistry, where the behavior of atoms and molecules can be understood by studying their interactions."
   ]
  },
  {
   "cell_type": "markdown",
   "id": "6695180b-5682-409e-a89f-6b93b4d1224a",
   "metadata": {
    "slideshow": {
     "slide_type": "notes"
    },
    "tags": []
   },
   "source": [
    "As a result, scientific disciplines tend to be hierarchically clustered around specific parts of the whole.\n",
    "For example, the German Research Association (DFG) clusters disciplines around the engineering, life, natural, and humanities and social sciences (@fig-scientific-disciplines). Within each cluster, there are multiple disciplines with subdisciplines.  "
   ]
  },
  {
   "cell_type": "markdown",
   "id": "6ea46c32-fa91-4241-a897-8b6ce8fa6aea",
   "metadata": {
    "slideshow": {
     "slide_type": "subslide"
    },
    "tags": []
   },
   "source": [
    "![DFG classification of scientific disciplines](images/01.01-ScientificDisciplines.dio.png){#fig-scientific-disciplines}"
   ]
  },
  {
   "cell_type": "markdown",
   "id": "eb37c3b3-c4d2-419b-8805-cf9c1d081381",
   "metadata": {
    "slideshow": {
     "slide_type": ""
    },
    "tags": []
   },
   "source": [
    "**Classical reductionism produced a lot of experts**. Together, they drove the massive increase in wealth, health, and knowledge in the last 200 years."
   ]
  },
  {
   "cell_type": "markdown",
   "id": "257f0192-d1bb-41b3-8994-8b5e34bb2f16",
   "metadata": {
    "slideshow": {
     "slide_type": "subslide"
    },
    "tags": []
   },
   "source": [
    "### The problem with experts"
   ]
  },
  {
   "cell_type": "markdown",
   "id": "b9f8cda0-9053-4956-b23c-9c1aaf1dc307",
   "metadata": {
    "slideshow": {
     "slide_type": "notes"
    },
    "tags": []
   },
   "source": [
    "Experts carry a risk of overrating the importance of their area of expertise [@Brockmann2021]. At the same time, experts tend to overlook the interactions within and beyond the system under investigation (@fig-experts)."
   ]
  },
  {
   "cell_type": "markdown",
   "id": "bb88cf5b-7e8d-4fe4-8415-42aa39215cdb",
   "metadata": {
    "slideshow": {
     "slide_type": ""
    },
    "tags": []
   },
   "source": [
    "![The problem with experts](images/01.01-ProblemWithExperts.png){#fig-experts}"
   ]
  },
  {
   "cell_type": "markdown",
   "id": "c33fa7ce-4900-4400-9cf3-d6e39b0dee73",
   "metadata": {
    "slideshow": {
     "slide_type": ""
    },
    "tags": []
   },
   "source": [
    "These problems with classical experts become particularly problematic in **complex systems**, which are characterized by their **interactions**. \n"
   ]
  },
  {
   "cell_type": "markdown",
   "id": "bd4f2631-f17e-4554-b665-883bb25f4808",
   "metadata": {
    "slideshow": {
     "slide_type": "subslide"
    },
    "tags": []
   },
   "source": [
    "### Complex systems"
   ]
  },
  {
   "cell_type": "markdown",
   "id": "f2819bec-29a0-4dbd-b300-b60f1efd1f79",
   "metadata": {
    "slideshow": {
     "slide_type": "notes"
    },
    "tags": []
   },
   "source": [
    "The study of complex systems started around the 1950s and has been a diverse endeavor since then. See, for example, the [map of complexity science](https://www.art-sciencefactory.com/complexity-map_feb09.html). "
   ]
  },
  {
   "cell_type": "markdown",
   "id": "a94de061-e87c-4f82-b69a-6b99082dfa06",
   "metadata": {
    "slideshow": {
     "slide_type": "notes"
    },
    "tags": []
   },
   "source": [
    "In a complex system,\n",
    "\n",
    "> the whole is more than the sum of its parts.\n",
    "\n",
    "\n",
    "The whole, the so-called macro-level, **emerges** from and **feeds backs** to the so-called micro-level, in which (often many, heterogeneous) entities or agents **interact** (in often non-linear ways) in a shared environment. Both levels are out-of-equilibrium, continuously evolving (@fig-complex-system).  "
   ]
  },
  {
   "cell_type": "markdown",
   "id": "9804c957-ca2b-4cb4-aa32-55a03a6b6795",
   "metadata": {
    "slideshow": {
     "slide_type": ""
    },
    "tags": []
   },
   "source": [
    "![Properties of a complex system](images/01.01-ComplexSystem.png){#fig-complex-system}"
   ]
  },
  {
   "cell_type": "markdown",
   "id": "524af302-9cc7-40ba-bbd2-9fc634a2f4e8",
   "metadata": {
    "slideshow": {
     "slide_type": "subslide"
    },
    "tags": []
   },
   "source": [
    "To illustrate the idea of emergence, where the whole is more than the sum of its parts, consider the following quote:\n",
    "\n",
    "> \"There's no love in a carbon atom, <br>\n",
    ">  No hurricane in a water molecule, <br>\n",
    ">  No financial collapse in a dollar bill.\" <br>\n",
    "> – Peter Dodds"
   ]
  },
  {
   "cell_type": "markdown",
   "id": "2f76fe2d-d53e-4ef8-8656-202fb9213ec9",
   "metadata": {
    "slideshow": {
     "slide_type": "notes"
    },
    "tags": []
   },
   "source": [
    "To observe a complex system in action, enjoy a [video of bird flocking behavior](https://www.youtube.com/watch?v=V4f_1_r80RY). \n",
    "A century ago, the wonders of these highly coordinated yet leaderless flocks led people to believe that telepathy might be what guided these birds ([phys.org](https://phys.org/news/2011-10-secrets-flocking-revealed.html)). "
   ]
  },
  {
   "cell_type": "markdown",
   "id": "f1bab9f6-99b1-4086-8836-e43b819bb0f3",
   "metadata": {
    "slideshow": {
     "slide_type": "skip"
    },
    "tags": []
   },
   "source": [
    "::: {.content-visible when-format=\"html\"}\n"
   ]
  },
  {
   "cell_type": "code",
   "execution_count": null,
   "id": "92298c65-7be6-4155-bac6-08682eb8faaa",
   "metadata": {
    "slideshow": {
     "slide_type": "subslide"
    },
    "tags": [
     "remove_input"
    ]
   },
   "outputs": [
    {
     "data": {
      "text/html": [
       "\n",
       "        <iframe\n",
       "            width=\"100%\"\n",
       "            height=\"450\"\n",
       "            src=\"https://www.youtube-nocookie.com/embed/V4f_1_r80RY?si=ahtk-6i9JNFYOR1R\"\n",
       "            frameborder=\"0\"\n",
       "            allowfullscreen\n",
       "            \n",
       "        ></iframe>\n",
       "        "
      ],
      "text/plain": [
       "<IPython.lib.display.IFrame at 0x10730e060>"
      ]
     },
     "execution_count": null,
     "metadata": {},
     "output_type": "execute_result"
    }
   ],
   "source": [
    "#| echo: false\n",
    "iframe(\"https://www.youtube-nocookie.com/embed/V4f_1_r80RY?si=ahtk-6i9JNFYOR1R\")"
   ]
  },
  {
   "cell_type": "markdown",
   "id": "00860917-e41c-47f9-a4fa-6367576c9559",
   "metadata": {
    "slideshow": {
     "slide_type": "skip"
    },
    "tags": []
   },
   "source": [
    ":::"
   ]
  },
  {
   "cell_type": "markdown",
   "id": "5be17995-492e-4756-a114-bed5f8bf3e3f",
   "metadata": {
    "slideshow": {
     "slide_type": "notes"
    },
    "tags": []
   },
   "source": [
    "See [complexityexplained.github.io](https://complexityexplained.github.io/) for more background information on complexity science."
   ]
  },
  {
   "cell_type": "markdown",
   "id": "ab2e5f73-3417-4856-9f15-2d85fee9793f",
   "metadata": {
    "slideshow": {
     "slide_type": "subslide"
    },
    "tags": []
   },
   "source": [
    "**So, what can we do to make sense of complex systems, given our limited information processing capacity and the consequences that we cannot not model?**"
   ]
  },
  {
   "cell_type": "markdown",
   "id": "4a7ba29e-a933-4dc1-875d-6612a31fca3b",
   "metadata": {
    "slideshow": {
     "slide_type": "slide"
    },
    "tags": []
   },
   "source": [
    "### Systems reductionism"
   ]
  },
  {
   "cell_type": "markdown",
   "id": "b9c7d380-4d98-4084-828f-589ba40c0189",
   "metadata": {
    "slideshow": {
     "slide_type": "notes"
    },
    "tags": []
   },
   "source": [
    "To quote one of the founding fathers of complexity science,"
   ]
  },
  {
   "cell_type": "markdown",
   "id": "ef71f768-9136-4f23-ab02-4f851291cb10",
   "metadata": {
    "slideshow": {
     "slide_type": ""
    },
    "tags": []
   },
   "source": [
    "> \"It may not be entirely vain, however, to search for common properties among diverse kinds of complex systems\" <br> – Herbert Simon"
   ]
  },
  {
   "cell_type": "markdown",
   "id": "b607eaed-0d7f-43ac-83ec-806ea2e8c9a8",
   "metadata": {
    "slideshow": {
     "slide_type": "subslide"
    },
    "tags": []
   },
   "source": [
    "As it turns out, flocking behavior, for example, can be explained by just three rules: separation, alignment, and cohesion ([wikipedia.org/boids](https://en.wikipedia.org/wiki/Boids), @fig-flocking-rules).\n",
    "\n",
    "![The three rules to produce flocking behavior](images/01.01-FlockingRules.png){#fig-flocking-rules}\n",
    "\n"
   ]
  },
  {
   "cell_type": "markdown",
   "id": "45314dac-a4f2-46b9-a912-5274cc4840d8",
   "metadata": {
    "slideshow": {
     "slide_type": "subslide"
    },
    "tags": []
   },
   "source": [
    "**Systems and classic reductionism complement each other** (@fig-reductionisms). While classical reductionism helps understand the parts of a system, systems reductionism helps understand the interactions between these parts. **Collaboration between the two approaches is key.**"
   ]
  },
  {
   "cell_type": "markdown",
   "id": "767a2d9e-4816-45ff-b996-66baf9520731",
   "metadata": {
    "slideshow": {
     "slide_type": ""
    },
    "tags": []
   },
   "source": [
    "![Systems and classic reductionism complementing each other](images/01.01-Reductionisms.png){#fig-reductionisms}"
   ]
  },
  {
   "cell_type": "markdown",
   "id": "bd6b22e3-1637-47ec-aefd-82b9ac635c5c",
   "metadata": {
    "slideshow": {
     "slide_type": "notes"
    },
    "tags": []
   },
   "source": [
    "Conceptually, **complex systems modeling combines the practice of (formal) modeling with the ideas of systems reductionism**. "
   ]
  },
  {
   "cell_type": "markdown",
   "id": "057547a1-02fc-44e9-bde4-f49398dac2e5",
   "metadata": {
    "slideshow": {
     "slide_type": "slide"
    },
    "tags": []
   },
   "source": [
    "## Sustainability Systems Modeling"
   ]
  },
  {
   "cell_type": "markdown",
   "id": "14f9b19d-dd3e-4055-8a29-13f3f474e864",
   "metadata": {
    "slideshow": {
     "slide_type": "notes"
    },
    "tags": []
   },
   "source": [
    "This section conceptually synthesizes the practice of complex system modeling applied to the problem field of sustainability transitions and human-environment interactions."
   ]
  },
  {
   "cell_type": "markdown",
   "id": "43a78c9a-9b46-4d92-869c-b11c6c96161d",
   "metadata": {
    "slideshow": {
     "slide_type": "subslide"
    },
    "tags": []
   },
   "source": [
    "### Structural challenges"
   ]
  },
  {
   "cell_type": "markdown",
   "id": "f16c4506-f646-4f01-88c9-c25ceea94355",
   "metadata": {
    "slideshow": {
     "slide_type": "notes"
    },
    "tags": []
   },
   "source": [
    "To operationalize systems thinking for human-environment modeling, we require a collection of the structural elements and processes that either hinder or may foster action toward sustainability. \n",
    "\n"
   ]
  },
  {
   "cell_type": "markdown",
   "id": "a20fb75d-5782-4f1f-bfeb-5f044633f910",
   "metadata": {
    "slideshow": {
     "slide_type": "notes"
    },
    "tags": []
   },
   "source": [
    "Summarizing many fantastic review and perspective papers [@SchillEtAl2019; @ElsawahEtAl2020; \n",
    " @MullerEtAl2020a; @ConstantinoEtAl2021; @LevinXepapadeas2021; @FarahbakhshEtAl2022; @GiupponiEtAl2022] we obtain the following list of structural challenges for sustainability transitions (@fig-structural-challenges): *Complex system models of human-environment interactions* must account for the **dynamics** of the **collective behavior** emerging from **cognitive agents** within an **environmental context** [@BarfussEtAl2024a]. They must also adhere to the **good modeling practices** of *coherence*, *transparency*, and *sparsity*, as discussed above."
   ]
  },
  {
   "cell_type": "markdown",
   "id": "f8b7da05-a279-4cfa-b470-48d1d5dcfc39",
   "metadata": {
    "slideshow": {
     "slide_type": ""
    },
    "tags": []
   },
   "source": [
    "![Structural challanges for sustainability transitions](images/01.01-StructuralChallenges.dio.png){#fig-structural-challenges}"
   ]
  },
  {
   "cell_type": "markdown",
   "id": "1106cde0-755c-4258-a345-de13c9076001",
   "metadata": {
    "slideshow": {
     "slide_type": "notes"
    },
    "tags": []
   },
   "source": [
    "#### Cognitive agency 🧠\n",
    "\n",
    "Improving the representation of human behavior in models of social-ecological systems and human-environment interactions is a critical challenge [@SchillEtAl2019; @ConstantinoEtAl2021; @SchluterEtAl2017]. \n",
    "Humans are neither hyper-rational nor overly simplistic, as many models assume. At the very least, they are cognitive agents who *perceive* their current environmental context, *evaluate* it and their options, *make decisions*, and *act* accordingly."
   ]
  },
  {
   "cell_type": "markdown",
   "id": "369c9d19-b800-49c2-aa1e-a661db67a2cd",
   "metadata": {
    "slideshow": {
     "slide_type": "notes"
    },
    "tags": []
   },
   "source": [
    "#### Environmental context 🌳\n",
    "\n",
    "The environmental context refers to the decision-making challenge the agents face. \n",
    "The environmental context is not static. It may change *smoothly* or *abruptly*, based on human activities or via inherent dynamics. For example, climate damages gradually worsen with increasing global mean temperature. And crossing climate tipping points may abruptly lead to catastrophic outcomes. Furthermore, these changes are *not certain* but stochastic in nature and may only be partially observable by humans. And often, the consequences of action are heavily delayed, impacting future generations. All these attributes make collective action for sustainability transitions tremendously challenging.\n",
    "\n",
    "The environmental context includes the biophysical environment, such as the climate, biodiversity, and resources, as well as the social environment, out of which the collective behavior emerges."
   ]
  },
  {
   "cell_type": "markdown",
   "id": "488fca76-be2b-4d1b-a429-eaac85917e7f",
   "metadata": {
    "slideshow": {
     "slide_type": "notes"
    },
    "tags": []
   },
   "source": [
    "#### Collective behavior 👥\n",
    "\n",
    "From cognitive agents within an environmental context, collective behavior emerges. This collective behavior depends on the *social context*, the *heterogeneity* of the agents, the *interaction structure* between them, and the scale on which they operate. Collective behavior refers to the dynamics of the system as a whole, which are not easily reducible to the characteristics of individual agents."
   ]
  },
  {
   "cell_type": "markdown",
   "id": "0ea93d80-ee8a-4663-a43a-cfe441eb7041",
   "metadata": {
    "slideshow": {
     "slide_type": "notes"
    },
    "tags": []
   },
   "source": [
    "#### Dynamics 🚀\n",
    "\n",
    "Our primary goal is to comprehend and advance sustainability transitions. Transitions are fundamentally dynamic in nature, so our modeling approach must reflect this dynamism, integrating *non-linear feedback loops* and *critical transitions*. Furthermore, the concepts of *stability* and *resilience* demand a dynamic viewpoint. Before a system reaches stability, its *transient evolution* offers crucial insights into the sustainability transitions itself."
   ]
  },
  {
   "cell_type": "markdown",
   "id": "6acca2e6-e1ca-48bb-be41-62681a642df1",
   "metadata": {
    "slideshow": {
     "slide_type": "subslide"
    },
    "tags": []
   },
   "source": [
    "**How can we begin to make sense of this all?**\n",
    "\n",
    "**What precisely do all of these elements mean?**\n",
    "\n",
    "**And how do all of these elements relate to each other?**\n",
    "\n",
    "These questions will guide us through the following chapters.\n"
   ]
  },
  {
   "cell_type": "markdown",
   "id": "5a87fec4-5302-44aa-945f-15c795ea5bc2",
   "metadata": {
    "slideshow": {
     "slide_type": "notes"
    },
    "tags": []
   },
   "source": [
    "We will tackle them with the help of a useful framework from transdisciplinary research: the **three types of knowledge**, applied to modeling.\n"
   ]
  },
  {
   "cell_type": "markdown",
   "id": "46f2dee7-e4bf-40eb-a3c0-b1158224a142",
   "metadata": {
    "slideshow": {
     "slide_type": "subslide"
    },
    "tags": []
   },
   "source": [
    "### Three types of models "
   ]
  },
  {
   "cell_type": "markdown",
   "id": "26f18042-499b-4741-b96c-80139546d6b5",
   "metadata": {
    "slideshow": {
     "slide_type": "notes"
    },
    "tags": []
   },
   "source": [
    "When addressing societal challenges, the concept of the *three types of knowledge* helps to produce not only knowledge on problems but also knowledge that helps to overcome those problems ([Buser & Schneider, 2021](https://i2insights.org/2021/02/11/three-types-of-knowledge/)). In general, the concept applies to all research methodologies. We will specifically discuss it in the context of formal modeling, transforming it into *three types of models* (@fig-three-types-of-models)."
   ]
  },
  {
   "cell_type": "markdown",
   "id": "421ea2cc-a32f-4a7c-ba2e-b0425fd3febb",
   "metadata": {
    "slideshow": {
     "slide_type": ""
    },
    "tags": []
   },
   "source": [
    "![Three types of models based on three types of knowledge for transdisciplinary reserach](images/01.01-ThreeTypesOfModels.dio.png){#fig-three-types-of-models}"
   ]
  },
  {
   "cell_type": "markdown",
   "id": "b82457ab-6461-45fc-a912-7749c718f11c",
   "metadata": {
    "slideshow": {
     "slide_type": "notes"
    },
    "tags": []
   },
   "source": [
    "The three types of models are:"
   ]
  },
  {
   "cell_type": "markdown",
   "id": "bcdf76d3-d26c-42f4-bad4-cfdd7de4585a",
   "metadata": {
    "slideshow": {
     "slide_type": "subslide"
    },
    "tags": []
   },
   "source": [
    "#### Dynamic-systems models"
   ]
  },
  {
   "cell_type": "markdown",
   "id": "715bd246-5d8c-4aaa-8f58-74379a68a8b7",
   "metadata": {
    "slideshow": {
     "slide_type": "notes"
    },
    "tags": []
   },
   "source": [
    "Dynamic-systems models operationalize **systems knowledge**, typically understood as knowledge concerning the existing system or issue. This understanding is primarily analytical and descriptive. For instance, in the context of sustainability transitions, systems knowledge assesses the risk triggering climate tipping points, biodiversity loss dynamics, or a specific region's social-ecological dynamics. \n",
    "Systems knowledge is strongly associated with **facts** and asks **what is?**\n",
    "\n",
    "In this regard, **dynamic-systems models** are often used to understand the system's behavior under specific conditions."
   ]
  },
  {
   "cell_type": "markdown",
   "id": "687b3f12-0edc-453b-870e-77efb6fdc6ff",
   "metadata": {
    "slideshow": {
     "slide_type": ""
    },
    "tags": []
   },
   "source": [
    "We will discuss dynamic-systems modeling in the first part of these lecture notes, covering\n",
    "\n",
    "* Nonlinearity and feedback loops in [Chapter 02.01](02.01-Nonlinearity.ipynb) [Oct 28, 2025]\n",
    "* Tipping elements and regime shifts in [Chapter 02.02](02.02-TippingElements.ipynb) [Nov 4, 2025]\n",
    "* Resilience in [Chapter 02.03](02.03-Resilience.ipynb) [Nov 11, 2025], and\n",
    "* Stochastic state transitions in [Chapter 02.04](02.04-StateTransitions.ipynb) [Nov 18, 2025]."
   ]
  },
  {
   "cell_type": "markdown",
   "id": "99cdb5b9-52b0-46fc-94be-47c21f1262a4",
   "metadata": {
    "slideshow": {
     "slide_type": "subslide"
    },
    "tags": []
   },
   "source": [
    "#### Target-equilibrium models"
   ]
  },
  {
   "cell_type": "markdown",
   "id": "392350f1-126c-4bd6-a77e-e7c59b5e104a",
   "metadata": {
    "slideshow": {
     "slide_type": "notes"
    },
    "tags": []
   },
   "source": [
    "Target-equilibrium models operationalize **target knowledge**, which is knowledge about the desired future and the values that indicate which direction to take. It relies on deliberation by different societal actors and is based on values and norms. In sustainability transitions, ways of producing target knowledge include participatory vision, scenario development with a wide range of stakeholders, and the public discourse at large. \n",
    "Target knowledge is strongly associated with **values** and asks **what ought to be?**.\n",
    "\n",
    "**Target-equilibrium** (or *equilibrium-based models applied to sustainability transitions*) are primarily used in economics. In theory, the equilibrium is the outcome of an optimization procedure where the specified normative target is reached."
   ]
  },
  {
   "cell_type": "markdown",
   "id": "e841760e-d2bd-4cbe-8c16-48e676dc7fa5",
   "metadata": {
    "slideshow": {
     "slide_type": ""
    },
    "tags": []
   },
   "source": [
    "We will discuss target-equilibrium modeling in the second part of the book, covering\n",
    "\n",
    "* Sequential decisions of a single agent in a dynamic environment in [Chapter 03.01](03.01-SequentialDecisions.ipynb) [Nov 25, 2025],\n",
    "* Strategic interactions of multiple agents in a static environment in [Chapter 03.02](03.02-StrategicInteractions.ipynb) [Dec 2, 2025], and\n",
    "* Strategic interactions of multiple agents in a dynamic environment in [Chapter 03.03](03.03-DynamicInteractions.ipynb) [Dec 9, 2025]."
   ]
  },
  {
   "cell_type": "markdown",
   "id": "d629482b-0c40-4602-8bef-7535dd3dbfde",
   "metadata": {
    "slideshow": {
     "slide_type": "subslide"
    },
    "tags": []
   },
   "source": [
    "#### Transformation-agency models"
   ]
  },
  {
   "cell_type": "markdown",
   "id": "4db54884-b56b-4da4-9a5d-19b625f12dd5",
   "metadata": {
    "slideshow": {
     "slide_type": "notes"
    },
    "tags": []
   },
   "source": [
    "Transformation-agency models operationalize **transformation knowledge**, which is knowledge about how to move from the existing system to the desired future. This knowledge includes concrete strategies and steps to take. In sustainability transitions, producing transformation knowledge could involve developing policy instruments, designing new institutions, or implementing new technologies. \n",
    "Transformation knowledge is strongly associated with **agency** and asks **how to?**.\n",
    "\n",
    "**Transformation-agency models** (or *agent-based models applied to sustainability transitions*) are a flexible tool that *combines* the *dynamics* of how to get to a desired outcome with *agency* that defines what is desirable and possible to do.\n",
    "\n"
   ]
  },
  {
   "cell_type": "markdown",
   "id": "f05d6fd1-717b-44fd-ace4-3daabf484dc4",
   "metadata": {
    "slideshow": {
     "slide_type": ""
    },
    "tags": []
   },
   "source": [
    "We will discuss transformation-agency modeling in the third part of the book, covering\n",
    "\n",
    "* Rule-based behavioral agency in agent-based models in [Chapter 04.01](04.01-BehavioralAgency.ipynb) [Dec 16, 2025],\n",
    "* Individual reinforcement learning in [Chapter 04.02](04.02-IndividualLearning.ipynb) [Jan 13, 2026], and\n",
    "* *Collective reinforcement learning [Jan 20, 2026]*."
   ]
  },
  {
   "cell_type": "markdown",
   "id": "2d3ad28c",
   "metadata": {
    "slideshow": {
     "slide_type": "subslide"
    }
   },
   "source": [
    "#### Synthesis"
   ]
  },
  {
   "cell_type": "markdown",
   "id": "54784a5b-7ac6-42df-824e-c45449e37562",
   "metadata": {
    "slideshow": {
     "slide_type": "notes"
    },
    "tags": []
   },
   "source": [
    "It is important to note that the three **knowledge types are interdependent**. For example, knowledge about ‘how to’ would be of limited use or even dangerous if it was not oriented toward desirable target values and based on sound facts. In the same vein, we will integrate the different types of models toward the end of the course.\n",
    "\n"
   ]
  },
  {
   "cell_type": "markdown",
   "id": "20b693a6",
   "metadata": {},
   "source": [
    "* Non-linear dynamics of reinforcement learning in [Chapter 04.03](04.03-LearningDynamics.ipynb) [Jan 27, 2026]."
   ]
  },
  {
   "cell_type": "markdown",
   "id": "a0c029f3",
   "metadata": {},
   "source": [
    "\n",
    "* Special winter workshop session [Tue, Dec 23, 2025 and Wed, Jan 7, 2026]\n",
    "* Recap workshop sessions [Feb 3, 2026]"
   ]
  },
  {
   "cell_type": "markdown",
   "id": "85e38f5d-f99a-4ee3-bd80-8f451f6a7327",
   "metadata": {
    "slideshow": {
     "slide_type": "slide"
    },
    "tags": []
   },
   "source": [
    "## Learning goals revisited\n",
    "\n",
    "* Understanding and promoting **sustainability transitions** requires a **coupled human-environment systems approach**, as the **challenges** and possible **solutions** are **tightly coupled** between humans and the biosphere. \n",
    "* Limited human information processing demands us to model the world around us. **Formal models help overcome imprecise mental models and cognitive limitations**. Models are **helpful** for *understanding*, *communicating*, *predicting*, and *making decisions*. **Good models** are *coherent*, *transparent*, and *sparse*.\n",
    "* **Systems reductionism complements classical reductionism** to **avoid unintended side effects** in complex systems. Complex systems are characterized by **interactions, emergent properties, and feedback loops**.\n",
    "* Complex systems models of human-environment interactions must account for the **dynamics** of the **collective behavior** emerging from **cognitive agents** in **environmental contexts**. Three types of models, *dynamic-systems model*, *target-equilibria models*, and *transformation-agency* (agent-based) model, will help us achieve these desiderata.\n"
   ]
  },
  {
   "cell_type": "markdown",
   "id": "cc3ee830-7192-4de9-a9fa-fa35f8c9a43f",
   "metadata": {
    "slideshow": {
     "slide_type": "subslide"
    },
    "tags": []
   },
   "source": [
    "The [exercises for this chapter](01.02ex-IntroToPython.ipynb) offer a thorough introduction to the programming language `Python`, preparing you for the modeling exercises in the subsequent chapters."
   ]
  },
  {
   "cell_type": "markdown",
   "id": "0cc85fef",
   "metadata": {
    "slideshow": {
     "slide_type": "skip"
    },
    "tags": []
   },
   "source": [
    "::: {.content-hidden unless-profile=\"standalone\"}"
   ]
  },
  {
   "cell_type": "markdown",
   "id": "8129a0ce",
   "metadata": {
    "slideshow": {
     "slide_type": "skip"
    },
    "tags": []
   },
   "source": [
    "## References"
   ]
  },
  {
   "cell_type": "markdown",
   "id": "f1d2452c",
   "metadata": {
    "slideshow": {
     "slide_type": "skip"
    },
    "tags": []
   },
   "source": [
    ":::"
   ]
  },
  {
   "cell_type": "markdown",
   "id": "dffec3bf",
   "metadata": {
    "slideshow": {
     "slide_type": "skip"
    },
    "tags": []
   },
   "source": [
    "::: {.content-hidden unless-profile=\"housekeeping\"}"
   ]
  },
  {
   "cell_type": "markdown",
   "id": "dc207d6a",
   "metadata": {
    "slideshow": {
     "slide_type": "skip"
    },
    "tags": []
   },
   "source": [
    "## Housekeeping\n",
    "\n",
    "With the following cells, we can convert this notebook into slides and a PDF handout. If you work with this notebook interactively, you can ignore them.\n",
    "\n",
    "To obtain static HTML slides, execute the following cell:"
   ]
  },
  {
   "cell_type": "code",
   "execution_count": null,
   "id": "08382335",
   "metadata": {
    "slideshow": {
     "slide_type": "skip"
    },
    "tags": []
   },
   "outputs": [
    {
     "name": "stdout",
     "output_type": "stream",
     "text": [
      "[NbConvertApp] Converting notebook 01.01-Introduction.ipynb to slides\n",
      "[NbConvertApp] Writing 6344295 bytes to __slides/01.01-Introduction.slides.html\n"
     ]
    }
   ],
   "source": [
    "!jupyter nbconvert 01.01-Introduction.ipynb --to slides --embed-images --TagRemovePreprocessor.enabled=True \\\n",
    "    --TagRemovePreprocessor.remove_cell_tags remove_cell \\\n",
    "    --TagRemovePreprocessor.remove_input_tags remove_input \\\n",
    "    --TagRemovePreprocessor.remove_all_outputs_tags remove_outputs \\\n",
    "    --output-dir \"./__slides\""
   ]
  },
  {
   "cell_type": "markdown",
   "id": "10fb84c8",
   "metadata": {
    "slideshow": {
     "slide_type": "skip"
    },
    "tags": []
   },
   "source": [
    "For a standalone PDF handout, we make the cell below a Python cell and execute it."
   ]
  },
  {
   "cell_type": "markdown",
   "id": "6be6132d-106b-45ca-9d9f-5f5bff5bd21f",
   "metadata": {
    "slideshow": {
     "slide_type": "skip"
    },
    "tags": []
   },
   "source": [
    "---\n",
    "metadata-files: [_standalone-quarto.yml]\n",
    "---"
   ]
  },
  {
   "cell_type": "markdown",
   "id": "3856d45b-12b7-4e79-b5fc-16ecd11c79a1",
   "metadata": {
    "slideshow": {
     "slide_type": "skip"
    },
    "tags": []
   },
   "source": [
    "#| output: false \n",
    "!cp 01.01-Introduction.ipynb 01.01-IntroDuction_.ipynb\n",
    "!quarto render 01.01-IntroDuction_.ipynb --to pdf --profile standalone\n",
    "!mv 01.01-IntroDuction_.pdf __scripts/01.01-Introduction.pdf\n",
    "!rm -r 01.01-IntroDuction_*"
   ]
  },
  {
   "cell_type": "markdown",
   "id": "5b219566",
   "metadata": {
    "slideshow": {
     "slide_type": "skip"
    },
    "tags": []
   },
   "source": [
    ":::"
   ]
  }
 ],
 "metadata": {},
 "nbformat": 4,
 "nbformat_minor": 5
}
