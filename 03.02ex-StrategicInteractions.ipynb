{
 "cells": [
  {
   "cell_type": "markdown",
   "id": "db85719f-1bfe-467d-937e-dc53dbaaf885",
   "metadata": {
    "editable": true,
    "slideshow": {
     "slide_type": ""
    },
    "tags": [],
    "user_expressions": []
   },
   "source": [
    "\n",
    "# Ex | Strategic Interactions {.unnumbered}"
   ]
  },
  {
   "cell_type": "markdown",
   "id": "b97796f1",
   "metadata": {
    "vscode": {
     "languageId": "plaintext"
    }
   },
   "source": [
    "This exercise will revisit the tragedy dilemma, agreements, and threshold public goods but use slightly different modeling assumptions. Doing so will give us a more robust understanding of the strategic interactions in multi-agent action situations."
   ]
  },
  {
   "cell_type": "code",
   "execution_count": 1,
   "id": "f03e6f49",
   "metadata": {},
   "outputs": [],
   "source": [
    "import numpy as np\n",
    "import sympy as sp\n",
    "import matplotlib.pyplot as plt"
   ]
  },
  {
   "cell_type": "markdown",
   "id": "645318a8",
   "metadata": {},
   "source": [
    "## Step 1 | Tragedy Dilemma\n",
    "\n",
    "Next to the model presented in the lecture, another common parametrization of the tragedy dilemma is the following:\n",
    "Actors can either cooperate or defect. Each cooperator contributes $c > 0$ to the public good at an individual cost of $c$. The sum of all contributions is multiplied by a synergy factor $r$ and then equally distributed among all actors. The payoff functions are given by:\n",
    "\n",
    "\\begin{align}\n",
    "R_c &= \\frac{r c (N_c +1)}{N}  - c, \\\\\n",
    "R_d &= \\frac{r c N_c}{N},\n",
    "\\end{align}\n",
    "\n",
    "with $N_c$ being the number of other actors cooperating and $N$ being the total number of actors."
   ]
  },
  {
   "cell_type": "markdown",
   "id": "9bca8eb5",
   "metadata": {},
   "source": [
    "### Step 1.1 | Visualization\n",
    "Plot the payoff functions for cooperators and defectors as a function of $N_c$ for different values of $r$. Compare the results to the tragedy dilemma model presented in the lecture."
   ]
  },
  {
   "cell_type": "code",
   "execution_count": 2,
   "id": "241bc20e",
   "metadata": {},
   "outputs": [],
   "source": [
    "# ..."
   ]
  },
  {
   "cell_type": "markdown",
   "id": "a6a7af9b",
   "metadata": {},
   "source": [
    "### Step 1.2 | Conditions\n",
    "\n",
    "Give the conditions the parameters must hold for this model to be a tragedy dilemma."
   ]
  },
  {
   "cell_type": "code",
   "execution_count": 5,
   "id": "31674e21",
   "metadata": {},
   "outputs": [],
   "source": [
    "# ..."
   ]
  },
  {
   "cell_type": "markdown",
   "id": "b59e0379",
   "metadata": {},
   "source": [
    "## Step 2 | Agreements\n",
    "\n",
    "Apply the reasoning from the lecture to compute how the critical participation levels depend on the parameters of the model $r$, $c$, and $N$."
   ]
  },
  {
   "cell_type": "code",
   "execution_count": 6,
   "id": "eefa3c08",
   "metadata": {},
   "outputs": [],
   "source": [
    "# ..."
   ]
  },
  {
   "cell_type": "markdown",
   "id": "53e62305",
   "metadata": {},
   "source": [
    "## Step 3 | Threshold Public Goods"
   ]
  },
  {
   "cell_type": "markdown",
   "id": "041da88a",
   "metadata": {},
   "source": [
    "Let us now consider a variant of threshold public good, where the catastrophic impact $m$ occurs probabilistically, and each polluting actor increases the probability of collapse. We assume that if all actors pollute, there is a probability $q_c$ of collapse; if all actors cooperate, there is zero probability of collapse. The collapse probability increases linearly with the number of polluting actors $N_p$, i.e.,\n",
    "$$ p_c = q_c \\frac{N_p}{N}.$$\n",
    "\n",
    "Furthermore, we assume that if the collapse occurs, the actors won't receive the payoffs from the public. The payoff functions are given by:\n",
    "\n",
    "\\begin{align}\n",
    "R_a(N_a; r, c, q_c, m, N) &= (1 - q_c N_\\mathsf{p}/N) \\cdot (rc(N_\\mathsf{a}+1)/N - c) +  q_c N_\\mathsf{p}/N \\cdot m, \\\\\n",
    "R_p(N_a; r, c, q_c, m, N) &= (1 - q_c (N_\\mathsf{p}+1)/N) \\cdot (rcN_\\mathsf{a})/N) +  q_c (N_\\mathsf{p}+1)/N \\cdot m,\n",
    "\\end{align}\n",
    "\n",
    "where $N_a$ is the number of other actors abating and $N_p$ is the number of other actors polluting. Thus, it must hold that the total number of actors $N = N_a + N_p + 1$.\n",
    "Furthermore, $r$ is the synergy factor, $c$ is the cost of cooperation, $q_c$ is the probability of collapse if all actors pollute, and $m$ is the catastrophic impact.\n"
   ]
  },
  {
   "cell_type": "markdown",
   "id": "49dacf1f",
   "metadata": {},
   "source": [
    "### Step 3.1 | Visualization\n",
    "\n",
    "Plot the payoff functions for abating and polluting actors as a function of $N_a$ for $f=4$, $c=5$, $m=-5$ $qc=0.4$, and $N=5$. \n",
    "Compare the results to the threshold public goods model presented in the lecture."
   ]
  },
  {
   "cell_type": "code",
   "execution_count": 7,
   "id": "e1e1dea9",
   "metadata": {},
   "outputs": [],
   "source": [
    "# ..."
   ]
  },
  {
   "cell_type": "markdown",
   "id": "cf9646a2",
   "metadata": {},
   "source": [
    "### Step 3.1 | Conditions\n",
    "\n",
    "Calculate the three critical conditions for this game of\n",
    "\n",
    "1) *Dilemma*, i.e., the actors are indifferent between all abating and all polluting,\n",
    "2) *Greed*, i.e., the actors are indifferent between abating and polluting, give all others abate, and\n",
    "3) *Fear*, i.e., the actors are indifferent between abating and polluting, given all others pollute.\n",
    "\n",
    "Solve the conditions for the collapse impact $m$.\n",
    "\n",
    "You may do this by hand or by using the sympy library. I recommend the latter."
   ]
  },
  {
   "cell_type": "code",
   "execution_count": 10,
   "id": "12bccaa2",
   "metadata": {},
   "outputs": [],
   "source": [
    "# ..."
   ]
  },
  {
   "cell_type": "markdown",
   "id": "eca93cbd",
   "metadata": {},
   "source": [
    "Visualize the critical conditions for the collapse impact $m$ as a function of $q_c$ for $r=1.2$, $c=5$, and $N=2$. Interpret the results briefly."
   ]
  },
  {
   "cell_type": "code",
   "execution_count": 27,
   "id": "bd18b94a",
   "metadata": {},
   "outputs": [],
   "source": [
    "# ..."
   ]
  },
  {
   "cell_type": "markdown",
   "id": "a25adf5a",
   "metadata": {},
   "source": [
    "Visualize the critical conditions for the collapse impact $m$ as a function of $N \\in [2, 3, \\dots, 15]$ for $r=3$, $c=5$, and $qc=0.5$. Interpret the results briefly."
   ]
  },
  {
   "cell_type": "code",
   "execution_count": 30,
   "id": "49a26564",
   "metadata": {},
   "outputs": [],
   "source": [
    "# ..."
   ]
  }
 ],
 "metadata": {
  "kernelspec": {
   "display_name": "Python 3 (ipykernel)",
   "language": "python",
   "name": "python3"
  },
  "language_info": {
   "codemirror_mode": {
    "name": "ipython",
    "version": 3
   },
   "file_extension": ".py",
   "mimetype": "text/x-python",
   "name": "python",
   "nbconvert_exporter": "python",
   "pygments_lexer": "ipython3",
   "version": "3.11.10"
  }
 },
 "nbformat": 4,
 "nbformat_minor": 5
}
