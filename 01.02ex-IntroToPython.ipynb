{
 "cells": [
  {
   "cell_type": "markdown",
   "id": "2881afc9-70d1-452b-a1b6-09ddc4b9ecd4",
   "metadata": {
    "slideshow": {
     "slide_type": "slide"
    },
    "tags": []
   },
   "source": [
    "\n",
    "# Ex | Introduction to Python {.unnumbered}\n",
    "\n",
    "> This exercises serves as a basic introduction to Python for Scientific Computing."
   ]
  },
  {
   "cell_type": "markdown",
   "id": "93fe1598-5c02-45b5-81b1-19b8ec6563e5",
   "metadata": {},
   "source": [
    "**As with any language, you must speak it to learn it**. This holds true for Python as well. In the following, we will cover the basics of Python to get us started [^keysources]. But **expect to keep learning** ways to express your ideas in Python.\n",
    "\n",
    "[^keysources]: See also [1  Introduction to Python and Jupyter Notebooks](https://nustat.github.io/DataScience_Intro_python/Introduction%20to%20Python%20and%20Jupyter%20Notebooks.html#built-in-data-types) and [01.01-Getting-Started-with-Python-and-Jupyter-Notebooks](https://jckantor.github.io/CBE30338/01.01-Getting-Started-with-Python-and-Jupyter-Notebooks.html), which served as valuable sources for this tutorial.\n"
   ]
  },
  {
   "cell_type": "markdown",
   "id": "f4c86941-1345-4df9-908d-c14ae0947490",
   "metadata": {},
   "source": [
    "### Set up"
   ]
  },
  {
   "cell_type": "markdown",
   "id": "13829a31-d4ad-4162-9429-b50b51f39bee",
   "metadata": {
    "slideshow": {
     "slide_type": ""
    },
    "tags": []
   },
   "source": [
    "This text is written in a computer file called [Jupyter Notebook](https://jupyter.org/), typically with the extension `.ipynb`. Jupyter is an interactive platform where you can write code and text and make visualizations. To *run* the notebook, i.e., to execute the Python code inside, you need to connect the notebook to a so-called *Python kernel* or *runtime*. \n",
    "There are two options: you run the kernel locally on your computer or *in the cloud* on the internet.\n",
    "\n",
    "#### Cloud-based runtime\n",
    "\n",
    "The easiest way to run a Jupyter Notebook is to use [Google Colab](https://colab.research.google.com/), which requires a Google account. The advantage is that you don't need to worry about installing anything on your machine — other notable cloud options include [binder](https://mybinder.org/), which is, however, more cumbersome to set up. At Uni Bonn, there is also the option to launch a Jupyter lab via *ecampus*.\n",
    "\n",
    "#### Local runtime\n",
    "\n",
    "The alternative to an internet-based execution of the Python code inside a Jupyter Notebook is to install Python locally on your machine. I recommend doing so.  If you are new to Python, we recommend downloading the Anaconda installer and following the installation instructions. Once installed, we’ll use the Jupyter Notebook or Jupyter Lab interface to write code.\n",
    "\n",
    "#### Exercise 📝\n",
    "Execute the following code cell:"
   ]
  },
  {
   "cell_type": "code",
   "execution_count": null,
   "id": "7675cfeb",
   "metadata": {
    "slideshow": {
     "slide_type": ""
    },
    "tags": []
   },
   "outputs": [],
   "source": [
    "print(\"Hello, World!\")"
   ]
  },
  {
   "cell_type": "markdown",
   "id": "412d518d-866a-47e8-9a18-7795facb9163",
   "metadata": {
    "slideshow": {
     "slide_type": ""
    },
    "tags": []
   },
   "source": [
    "Note that within a Jupyter Notebook, you don't need the `print` function if you simply want to see the output of a cell's last line."
   ]
  },
  {
   "cell_type": "code",
   "execution_count": null,
   "id": "19b6b00a-a94c-4394-80ea-da0b4af9d1e5",
   "metadata": {
    "slideshow": {
     "slide_type": ""
    },
    "tags": []
   },
   "outputs": [],
   "source": [
    "\"Hello Jupyter\""
   ]
  },
  {
   "cell_type": "markdown",
   "id": "22416221-e945-445c-b0ef-568a5693a6b2",
   "metadata": {
    "slideshow": {
     "slide_type": ""
    },
    "tags": []
   },
   "source": [
    "The `print` function is useful for viewing the output of multiple lines."
   ]
  },
  {
   "cell_type": "code",
   "execution_count": null,
   "id": "9f9f5414-aae4-45b7-bfa4-f62341da8203",
   "metadata": {
    "slideshow": {
     "slide_type": ""
    },
    "tags": []
   },
   "outputs": [],
   "source": [
    "print(\"Hello Alice?\")\n",
    "print(\"Hello Bob\")"
   ]
  },
  {
   "cell_type": "code",
   "execution_count": null,
   "id": "403c3881-6783-4a0d-bb47-70fbea55d37c",
   "metadata": {
    "slideshow": {
     "slide_type": ""
    },
    "tags": []
   },
   "outputs": [],
   "source": [
    "\"Hello Alice?\"\n",
    "\"Hello Bob\""
   ]
  },
  {
   "cell_type": "markdown",
   "id": "ea6278a2-1255-4390-bfcf-97d40d7054e8",
   "metadata": {
    "slideshow": {
     "slide_type": ""
    },
    "tags": []
   },
   "source": [
    "#### Getting help"
   ]
  },
  {
   "cell_type": "markdown",
   "id": "6a515525-9657-489e-8327-dcd0981df38e",
   "metadata": {
    "slideshow": {
     "slide_type": ""
    },
    "tags": []
   },
   "source": [
    "A convenient way to get help on almost anything in Python is to add a `?` behind the Python object. Try it with the `print` function in the cell below."
   ]
  },
  {
   "cell_type": "code",
   "execution_count": null,
   "id": "381be8ca-ae8d-47a8-8861-1dde2ca06203",
   "metadata": {
    "slideshow": {
     "slide_type": ""
    },
    "tags": []
   },
   "outputs": [],
   "source": [
    "# ..."
   ]
  },
  {
   "cell_type": "markdown",
   "id": "f4ff2df4-b495-45e7-9f20-0efe2b3a7bf1",
   "metadata": {
    "slideshow": {
     "slide_type": ""
    },
    "tags": []
   },
   "source": [
    "Also, be not afraid of Python errors. They often give you handy tips on how to resolve a problem."
   ]
  },
  {
   "cell_type": "markdown",
   "id": "a0cffdb0-01ec-4d9f-9d5e-c91a3bfb879d",
   "metadata": {},
   "source": [
    "**Pro tip**. Familiarize yourself with the keyboard shortcuts for a more convenient notebook experience, e.g., execute a code cell and advance by pressing `Shift+Enter`, use `a` for inserting a code cell above, `b` for below, `dd` for deleting a cell, `z` for undoing your last move, `Enter` for entering into a cell, `Esc` for leaving a cell, `m` for changing a cell to a Markdown cell, and `y` for changing it back to a code cell. "
   ]
  },
  {
   "cell_type": "markdown",
   "id": "b63c805b-d5c9-493f-a238-121ed590f880",
   "metadata": {
    "tags": []
   },
   "source": [
    "### Basics"
   ]
  },
  {
   "cell_type": "markdown",
   "id": "841379f3-037c-4daa-9919-f1b1431c0e25",
   "metadata": {},
   "source": [
    "Everything in Python is an object. Every number, string, data structure, function, class, module, etc., exists in the Python interpreter as a Python object. An object may have attributes and methods associated with it. For example, let us define a variable that stores an string:"
   ]
  },
  {
   "cell_type": "code",
   "execution_count": null,
   "id": "a3db531b-dd58-445e-9009-96f40167495b",
   "metadata": {
    "tags": []
   },
   "outputs": [],
   "source": [
    "var = \"Alice\""
   ]
  },
  {
   "cell_type": "markdown",
   "id": "6ae73f07-c5c2-4c19-b328-cadaa9efbd8a",
   "metadata": {
    "tags": []
   },
   "source": [
    "#### Exercise 📝\n",
    "A convenient way to see which methods and attributes are associated with an object is to use tab completion. Write `var.` and press TAB in the cell below."
   ]
  },
  {
   "cell_type": "code",
   "execution_count": null,
   "id": "60bc7e38-8c2e-4e22-89d2-0c9733067f84",
   "metadata": {
    "slideshow": {
     "slide_type": ""
    },
    "tags": []
   },
   "outputs": [],
   "source": [
    "# ..."
   ]
  },
  {
   "cell_type": "markdown",
   "id": "3522e8dd-b24f-46e2-8c17-99e3ffb7ea8a",
   "metadata": {
    "tags": []
   },
   "source": [
    "Transform the text in the variable `var` to uppercase. Use tab-completion to find the appropriate method."
   ]
  },
  {
   "cell_type": "code",
   "execution_count": null,
   "id": "c2bae34f-38cd-401d-a94e-0cb8d9e4a6e5",
   "metadata": {
    "slideshow": {
     "slide_type": ""
    },
    "tags": []
   },
   "outputs": [],
   "source": [
    "# ..."
   ]
  },
  {
   "cell_type": "markdown",
   "id": "35c3db07-9438-4a60-aa60-c819ca995703",
   "metadata": {},
   "source": [
    "#### Comments\n",
    "In Python code cells, comments begin with `#`. They serve to clarify your code. Nonetheless, it's best not to use them excessively. Your code should ideally be clear and comprehensible on its own, without the need for excessive comments."
   ]
  },
  {
   "cell_type": "markdown",
   "id": "6b1dd391-c2d6-47a3-9f2c-411a0cea78da",
   "metadata": {
    "slideshow": {
     "slide_type": ""
    },
    "tags": []
   },
   "source": [
    "##### 📝  Exercise \n",
    "Write a comment in the cell below."
   ]
  },
  {
   "cell_type": "code",
   "execution_count": null,
   "id": "812cdc26-8cdf-4936-b012-1b8474ad2ed0",
   "metadata": {
    "slideshow": {
     "slide_type": ""
    },
    "tags": []
   },
   "outputs": [],
   "source": [
    "# ..."
   ]
  },
  {
   "cell_type": "markdown",
   "id": "5cce9cdd-6a8a-4011-b2ed-952bf7362c3e",
   "metadata": {
    "slideshow": {
     "slide_type": "-"
    },
    "tags": []
   },
   "source": [
    "### Variables"
   ]
  },
  {
   "cell_type": "markdown",
   "id": "ef33f5ad-5530-49f2-8f32-0dacd3453f60",
   "metadata": {
    "slideshow": {
     "slide_type": ""
    },
    "tags": []
   },
   "source": [
    "A variable is created as soon as a value is assigned to it. We don’t have to define the type of the variable explicitly, as we do in other programming languages, because Python can automatically guess the type of data entered (dynamically typed). For example,\n"
   ]
  },
  {
   "cell_type": "code",
   "execution_count": null,
   "id": "b2ad14e5-1bfb-4a17-83ac-b5e30c0eb787",
   "metadata": {
    "slideshow": {
     "slide_type": ""
    },
    "tags": []
   },
   "outputs": [],
   "source": [
    "x = 5\n",
    "y = 3.14\n",
    "name = \"Alice\"\n",
    "is_student = True"
   ]
  },
  {
   "cell_type": "markdown",
   "id": "1e445c1b-8c74-4db7-900e-9490d648bf59",
   "metadata": {
    "slideshow": {
     "slide_type": ""
    },
    "tags": []
   },
   "source": [
    "You can assign values to several variables simultaneously by using commas to separate the variable names and their corresponding values."
   ]
  },
  {
   "cell_type": "code",
   "execution_count": null,
   "id": "5be5edd4-9a1a-4580-9038-a228d65becd5",
   "metadata": {
    "slideshow": {
     "slide_type": ""
    },
    "tags": []
   },
   "outputs": [],
   "source": [
    "color1, color2, color3 = \"red\", \"green\", \"blue\""
   ]
  },
  {
   "cell_type": "markdown",
   "id": "646e1d78-a684-4e2b-bedb-6f02373a09c2",
   "metadata": {
    "slideshow": {
     "slide_type": ""
    },
    "tags": []
   },
   "source": [
    "You can assign the same value to several variables by chaining multiple assignment operations in one statement."
   ]
  },
  {
   "cell_type": "code",
   "execution_count": null,
   "id": "02bee0a8-7941-46c9-9228-f9bbaec9e3a7",
   "metadata": {},
   "outputs": [],
   "source": [
    "color4 = color5 = color6 = \"magenta\""
   ]
  },
  {
   "cell_type": "markdown",
   "id": "e37c2d87-4482-4861-810a-de27f7b4d9cc",
   "metadata": {},
   "source": [
    "Any data or information stored within a Python variable has a *type*. \n",
    "\n",
    "#### Exercise 📝\n",
    "View the data type stored within each variable form above using the `type` function.\n"
   ]
  },
  {
   "cell_type": "code",
   "execution_count": null,
   "id": "ab893e6b-5674-4ed3-9b68-7df4488d1db2",
   "metadata": {
    "slideshow": {
     "slide_type": ""
    },
    "tags": []
   },
   "outputs": [],
   "source": [
    "# ..."
   ]
  },
  {
   "cell_type": "markdown",
   "id": "81a0aab7-dc16-43ae-a12e-e9dd495319fe",
   "metadata": {},
   "source": [
    "#### Rules for variable name\n",
    "\n",
    "Variable names can be short (`a`, `x`, `y`, etc.) or descriptive (`my_favorite_color`, `profit_margin`, `the_3_musketeers`, etc.). However, I recommend using descriptive variable names to make it easier to understand the code.\n",
    "\n",
    "The rules below must be followed while naming Python variables:\n",
    "* A variable’s name must start with a letter or the underscore character `_`. It cannot begin with a number.\n",
    "* A variable name can only contain lowercase (small) or uppercase (capital) letters, digits, or underscores (`a-z`, `A-Z`, `0-9`, and `_`).\n",
    "* Variable names are case-sensitive, i.e., `a_variable`, `A_Variable`, and `A_VARIABLE` are all different variables."
   ]
  },
  {
   "cell_type": "markdown",
   "id": "2bbdd9af-a2df-438b-b997-9e3950999eb9",
   "metadata": {},
   "source": [
    "#### DeepDive | Call by Reference\n",
    "Python employs a mechanism called *Call by Object Reference*. When an object is assigned to a variable name, the variable acts as a reference to that object. For instance, consider the following assignment:"
   ]
  },
  {
   "cell_type": "code",
   "execution_count": null,
   "id": "463f55a8-fcdc-4081-941c-7ae57c3135c0",
   "metadata": {},
   "outputs": [],
   "source": [
    "x = [5, 3]"
   ]
  },
  {
   "cell_type": "markdown",
   "id": "49610344-2e94-4788-bf00-7e59bab5ca70",
   "metadata": {},
   "source": [
    "Here, the variable name `x` points to the memory location of the object `[5, 3]`. Now, if we assign `x` to a new variable `y`:"
   ]
  },
  {
   "cell_type": "code",
   "execution_count": null,
   "id": "3117c438-af6c-426e-98cd-1fd01eeadccc",
   "metadata": {},
   "outputs": [],
   "source": [
    "y = x"
   ]
  },
  {
   "cell_type": "markdown",
   "id": "d0300713-0e80-4938-bbe7-0b7263c0edd7",
   "metadata": {},
   "source": [
    "In this case, the variable `y` now also points to the same object `[5, 3]`. This means the object `[5, 3]` is **not** duplicated in a different memory location for `y`. To illustrate this, let’s add an element to `y`:"
   ]
  },
  {
   "cell_type": "code",
   "execution_count": null,
   "id": "1cc8e842-4060-42c0-8502-04d87fd7b2b1",
   "metadata": {},
   "outputs": [],
   "source": [
    "y.append(4)\n",
    "y"
   ]
  },
  {
   "cell_type": "code",
   "execution_count": null,
   "id": "36c82a77-430d-4441-a87b-57898e21e030",
   "metadata": {},
   "outputs": [],
   "source": [
    "x"
   ]
  },
  {
   "cell_type": "markdown",
   "id": "e7ffb717-c321-466c-a01d-71868384b864",
   "metadata": {},
   "source": [
    "When we modified `y`, it is important to note that `x` also updated to the same object. This demonstrates that `x` and `y` refer to the same object rather than independent copies."
   ]
  },
  {
   "cell_type": "markdown",
   "id": "38dd27df",
   "metadata": {},
   "source": [
    "#### Basic Operations"
   ]
  },
  {
   "cell_type": "markdown",
   "id": "06837796",
   "metadata": {},
   "source": [
    "Python includes fundamental arithmetic operations by default. Below are a few examples. Specifically, the `**` operator is used for exponentiation."
   ]
  },
  {
   "cell_type": "code",
   "execution_count": null,
   "id": "9bf65d95",
   "metadata": {},
   "outputs": [],
   "source": [
    "a = 12\n",
    "b = 2\n",
    "\n",
    "print(a + b)\n",
    "print(a - b)\n",
    "print(a * b)\n",
    "print(a / b)\n",
    "print(a ** b)\n",
    "print(a % b) # modulo operator"
   ]
  },
  {
   "cell_type": "markdown",
   "id": "47c343ca-ec2c-4196-923e-49f486e927b1",
   "metadata": {},
   "source": [
    "### Data structures\n",
    "Python includes various built-in containers or data structures [^datastructs] for data storage.\n",
    "\n",
    "[^datastructs]: see [2  Data structures – Introduction to Data Science with Python](https://nustat.github.io/DataScience_Intro_python/data_structures.html) for a more detailed exposition."
   ]
  },
  {
   "cell_type": "markdown",
   "id": "7c951dd3-3ab8-44b5-a746-574007d26a93",
   "metadata": {},
   "source": [
    "#### Lists"
   ]
  },
  {
   "cell_type": "markdown",
   "id": "d9e18008-ff8b-4685-8725-9cfd854ef474",
   "metadata": {},
   "source": [
    "A list is a sequence of Python objects with two key characteristics\n",
    "\n",
    "1. the number of objects is variable, i.e., objects can be added or removed from a list, and\n",
    "2. the objects are mutable, i.e., they can be changed.\n",
    "\n",
    "Lists can be defined as a sequence of Python objects separated by commas and enclosed in square brackets `[]`. For example, below is a list consisting of three integers."
   ]
  },
  {
   "cell_type": "code",
   "execution_count": null,
   "id": "d18ab03d-0263-45ce-b6b3-b59a9bc7c5fb",
   "metadata": {},
   "outputs": [],
   "source": [
    "list_example = [4,7,3,5,7,1,5,87,5]"
   ]
  },
  {
   "cell_type": "markdown",
   "id": "0351967e-6bfc-43e9-a00a-03895f8c65b3",
   "metadata": {},
   "source": [
    "We can check the data type of a Python object using the in-built function `type()`. Let us check the data type of the object `list_example`."
   ]
  },
  {
   "cell_type": "code",
   "execution_count": null,
   "id": "a258a831-c0b6-468d-9772-4421841da9a0",
   "metadata": {},
   "outputs": [],
   "source": [
    "type(list_example)"
   ]
  },
  {
   "cell_type": "markdown",
   "id": "62e62a48-079c-4894-83c3-4b4c4725a1cb",
   "metadata": {},
   "source": [
    "##### Indexing"
   ]
  },
  {
   "cell_type": "markdown",
   "id": "8bf10120-581e-4d03-9724-3bd7130706fb",
   "metadata": {},
   "source": [
    "Indexing means accessing the elements of a list by their respective position. Indexing in lists includes both\n",
    "\n",
    "* positive indexing (starting from 0 for the first element) and\n",
    "* negative indexing (starting from -1 for the last element).\n",
    "\n",
    "For example,"
   ]
  },
  {
   "cell_type": "code",
   "execution_count": null,
   "id": "6f548fc6-53e1-47c8-9985-5df1bfdd307d",
   "metadata": {},
   "outputs": [],
   "source": [
    "list_example[0]"
   ]
  },
  {
   "cell_type": "code",
   "execution_count": null,
   "id": "90f61fad-17ea-49b0-bc71-c7b908cc0a61",
   "metadata": {},
   "outputs": [],
   "source": [
    "list_example[-1]"
   ]
  },
  {
   "cell_type": "markdown",
   "id": "398cd1e7-16dd-4a46-8c15-431b8d62f823",
   "metadata": {},
   "source": [
    "##### Slicing a list\n",
    "List slicing is a technique in Python that allows you to extract a portion of a list by specifying a range of indices. It creates a new list containing the elements from the original list within that specified range. List slicing uses the colon `:` operator to indicate the `start`, `stop`, and `step` values for the slice. The general syntax is:\n",
    "\n",
    "```\n",
    "new_list = original_list[start:stop:step]\n",
    "```\n",
    "\n",
    "Here’s what each part of the slice means: \n",
    "\n",
    "* `start`: The index at which the slice begins (inclusive). If omitted, it starts from the beginning (index 0).\n",
    "* `stop`: The index at which the slice ends (exclusive). If omitted, it goes until the end of the list.\n",
    "* `step`: The interval between elements in the slice. If omitted, it defaults to 1."
   ]
  },
  {
   "cell_type": "markdown",
   "id": "0318d582-01ca-4288-82fc-5aeb0c7a3354",
   "metadata": {},
   "source": [
    "**Exercise 🚧**. Try it out."
   ]
  },
  {
   "cell_type": "code",
   "execution_count": null,
   "id": "b84b88aa-60fa-442f-8c76-c27f5f3a39df",
   "metadata": {
    "slideshow": {
     "slide_type": ""
    },
    "tags": []
   },
   "outputs": [],
   "source": [
    "# ..."
   ]
  },
  {
   "cell_type": "markdown",
   "id": "cf2742ff-1e5f-438c-ab95-1ed1ff87e1e5",
   "metadata": {},
   "source": [
    "##### Adding and removing elements in a list"
   ]
  },
  {
   "cell_type": "markdown",
   "id": "423f6e49-0569-4217-ae0a-aec47dbcf04a",
   "metadata": {},
   "source": [
    "For removing an element from the list, the `pop` and `remove` methods may be used. The `pop` method removes an element at a particular index, while the `remove` method removes the element’s first occurrence in the list by its value."
   ]
  },
  {
   "cell_type": "markdown",
   "id": "dc949bc6-f5cc-4fd0-9e6a-4b0966f054b5",
   "metadata": {},
   "source": [
    "**Exercise 🚧**. Try it out."
   ]
  },
  {
   "cell_type": "code",
   "execution_count": null,
   "id": "509b4126-e722-4211-a383-f4bf52f25ac1",
   "metadata": {
    "slideshow": {
     "slide_type": ""
    },
    "tags": []
   },
   "outputs": [],
   "source": [
    "# ..."
   ]
  },
  {
   "cell_type": "markdown",
   "id": "cbdd2bec-2044-47cf-bb0b-084c05330eb6",
   "metadata": {},
   "source": [
    "##### List comprehensions\n",
    "List comprehensions offer a clear and concise method to generate new lists by applying an expression to each element in an iterable (such as a list or range) and can filter items based on a specified condition. The fundamental syntax for a list comprehension is as follows:\n",
    "\n",
    "```\n",
    "new_list = [expression for item in iterable if condition]\n",
    "```\n",
    "\n",
    "* `expression`: This is the expression that is applied to each item in the iterable. It defines what will be included in the new list.\n",
    "* `item`: This is a variable that represents each element in the iterable as the comprehension iterates through it.\n",
    "* `iterable`: This is the source from which the elements are taken. It can be any iterable, such as a list, range, or other iterable objects.\n",
    "* `condition` (optional): This filter can be applied to control which items from the iterable are included in the new list. If omitted, all items from the iterable are included."
   ]
  },
  {
   "cell_type": "markdown",
   "id": "8803e09d-5fdf-4e7b-a7f8-20eddf7ad04c",
   "metadata": {},
   "source": [
    "For example, to create a list of even numbers from 1 to 20, we can write"
   ]
  },
  {
   "cell_type": "code",
   "execution_count": null,
   "id": "ee17ed9f-9564-4c8d-b507-a4fbb48105b7",
   "metadata": {},
   "outputs": [],
   "source": [
    "[x for x in range(1, 21) if x % 2 == 0]"
   ]
  },
  {
   "cell_type": "markdown",
   "id": "7f5dd970-e44a-44b2-abb2-d859c0808cf2",
   "metadata": {},
   "source": [
    "**Exercise 🚧**. Use a list comprehension to create a list that has squares of natural numbers from 5 to 15."
   ]
  },
  {
   "cell_type": "code",
   "execution_count": null,
   "id": "173adc25-16c2-4860-a629-8415c75cbbfe",
   "metadata": {
    "slideshow": {
     "slide_type": ""
    },
    "tags": []
   },
   "outputs": [],
   "source": [
    "# ..."
   ]
  },
  {
   "cell_type": "markdown",
   "id": "2611225e-f549-4922-b743-2542d202a9ee",
   "metadata": {
    "slideshow": {
     "slide_type": ""
    },
    "tags": []
   },
   "source": [
    "#### Tuples"
   ]
  },
  {
   "cell_type": "markdown",
   "id": "e5a379fa-6a08-4554-8477-a7999838f08b",
   "metadata": {},
   "source": [
    "A tuple is a sequence of Python objects with two key characteristics:\n",
    "\n",
    "1. the number of objects is fixed, and\n",
    "2. the objects are immutable, i.e., cannot be changed.\n",
    "\n",
    "A tuple can be defined as a sequence of Python objects separated by commas and enclosed in rounded brackets `()`. For example, below is a tuple containing three integers."
   ]
  },
  {
   "cell_type": "code",
   "execution_count": null,
   "id": "ba654c05-1f69-4708-85c8-2b1449d9613a",
   "metadata": {},
   "outputs": [],
   "source": [
    "tuple_example = (2,7,4)"
   ]
  },
  {
   "cell_type": "markdown",
   "id": "c09bb858-e86b-49ee-b18a-eb8eaef65fb9",
   "metadata": {},
   "source": [
    "We can check the data type of a Python object using the in-built function `type()`. Let us check the data type of the object `tuple_example`."
   ]
  },
  {
   "cell_type": "code",
   "execution_count": null,
   "id": "3bc468c0-3241-4b79-bc56-819223ffa0a5",
   "metadata": {},
   "outputs": [],
   "source": [
    "type(tuple_example)"
   ]
  },
  {
   "cell_type": "markdown",
   "id": "e24ebaaa-ab54-4985-b25e-2da4c0d18d72",
   "metadata": {},
   "source": [
    "Tupe indexing is identical to list indexing."
   ]
  },
  {
   "cell_type": "markdown",
   "id": "c867010b-0ac6-4de4-96a3-f56545669635",
   "metadata": {},
   "source": [
    "Tuples can be concatenated using the `+` operator to produce a longer tuple:"
   ]
  },
  {
   "cell_type": "code",
   "execution_count": null,
   "id": "cb55188c-355f-4e8c-8ddc-14a19c89d1ea",
   "metadata": {},
   "outputs": [],
   "source": [
    "(2,7,4) + (\"another\", \"tuple\") + (\"mixed\",\"datatypes\",5)"
   ]
  },
  {
   "cell_type": "markdown",
   "id": "e5f84464-91ee-48c4-a15e-6a82cb9c355c",
   "metadata": {},
   "source": [
    "If tuples are assigned to an expression containing multiple variables, the tuple will be unpacked, and each variable will be assigned a value in the order in which it appears. See the example below.\n"
   ]
  },
  {
   "cell_type": "code",
   "execution_count": null,
   "id": "1290b7e3-ec17-4612-9a94-de2b394e73f9",
   "metadata": {},
   "outputs": [],
   "source": [
    "x,y,z  = (4.5, \"this is a string\", ((\"Nested tuple\",5)))\n",
    "print(x)\n",
    "print(y)\n",
    "print(z)"
   ]
  },
  {
   "cell_type": "markdown",
   "id": "cd8bb775-d6a5-4690-98ad-d7295c87d28a",
   "metadata": {},
   "source": [
    "#### Dictionaries"
   ]
  },
  {
   "cell_type": "markdown",
   "id": "1ca53a00",
   "metadata": {},
   "source": [
    "Unlike lists and tuples, a dictionary is an unordered collection of items. Each item stored in a dictionary has a key and value. You can use a key to retrieve the corresponding value from the dictionary. Dictionaries have the type `dict`.\n",
    "\n",
    "Dictionaries are created by enclosing key-value pairs within braces or curly brackets `{` and `}`, colons to separate keys and values, and commas to separate dictionary elements.\n",
    "\n",
    "The dictionary keys and values are Python objects. While values can be any Python object, keys need to be immutable Python objects, like strings, integers, tuples, etc. Thus, a list can be a value, but not a key, as elements of a list can be changed."
   ]
  },
  {
   "cell_type": "code",
   "execution_count": null,
   "id": "f34f986d",
   "metadata": {},
   "outputs": [],
   "source": [
    "dict_example = {'USA':'Joe Biden', 'India':'Narendra Modi', 'China':'Xi Jinping'}"
   ]
  },
  {
   "cell_type": "markdown",
   "id": "bd591c77-4720-4c53-9af4-8ea1f538c5d4",
   "metadata": {},
   "source": [
    "Elements of a dictionary can be retrieved by using the corresponding key.\n",
    "\n"
   ]
  },
  {
   "cell_type": "code",
   "execution_count": null,
   "id": "0dc00660-2056-46ca-8fe1-98c8bfb90414",
   "metadata": {},
   "outputs": [],
   "source": [
    "dict_example['India']"
   ]
  },
  {
   "cell_type": "markdown",
   "id": "fbdbc584-124b-4781-81fa-1ed8c7606051",
   "metadata": {},
   "source": [
    "##### Viewing keys and values"
   ]
  },
  {
   "cell_type": "code",
   "execution_count": null,
   "id": "623441ec-f609-41d3-9019-76cee5540af5",
   "metadata": {},
   "outputs": [],
   "source": [
    "dict_example.keys()"
   ]
  },
  {
   "cell_type": "code",
   "execution_count": null,
   "id": "690c5f54-221b-45d0-8068-c774b1357689",
   "metadata": {},
   "outputs": [],
   "source": [
    "dict_example.values()"
   ]
  },
  {
   "cell_type": "code",
   "execution_count": null,
   "id": "1b15d856-080b-41cb-a98c-e7e5881e8b8f",
   "metadata": {},
   "outputs": [],
   "source": [
    "dict_example.items()"
   ]
  },
  {
   "cell_type": "markdown",
   "id": "2396806b-f33e-4859-a061-777aa816c929",
   "metadata": {},
   "source": [
    "##### Adding and removing elements in a dictionary\n",
    "New elements can be added to a dictionary by defining a key in square brackets and assigning it to a value:\n",
    "\n"
   ]
  },
  {
   "cell_type": "code",
   "execution_count": null,
   "id": "1b248456-60d0-45f8-a31e-7b882f569214",
   "metadata": {},
   "outputs": [],
   "source": [
    "dict_example['Japan'] = 'Fumio Kishida'\n",
    "dict_example['Countries'] = 4\n",
    "dict_example"
   ]
  },
  {
   "cell_type": "markdown",
   "id": "3d38b335-d1db-44e1-8582-d04769732385",
   "metadata": {},
   "source": [
    "Elements can be removed from the dictionary using the `del` method or the `pop` method:\n",
    "\n"
   ]
  },
  {
   "cell_type": "code",
   "execution_count": null,
   "id": "1062a397-c7c7-4aa3-9f02-2326e5186cbf",
   "metadata": {},
   "outputs": [],
   "source": [
    "del dict_example['Countries']"
   ]
  },
  {
   "cell_type": "code",
   "execution_count": null,
   "id": "da7b627f-c7ac-44f1-bbd0-84a740df82c0",
   "metadata": {},
   "outputs": [],
   "source": [
    "dict_example"
   ]
  },
  {
   "cell_type": "code",
   "execution_count": null,
   "id": "1259df16-c8a0-43fa-abe4-82e8e35ca5a7",
   "metadata": {},
   "outputs": [],
   "source": [
    "dict_example.pop('USA')"
   ]
  },
  {
   "cell_type": "code",
   "execution_count": null,
   "id": "456d2c12-6602-4b02-a73b-0ebe01163844",
   "metadata": {},
   "outputs": [],
   "source": [
    "dict_example"
   ]
  },
  {
   "cell_type": "markdown",
   "id": "6698478d-180b-4218-b9fc-766ec4543f15",
   "metadata": {},
   "source": [
    "New elements can be added, and values of existing keys can be changed using the `update` method:\n",
    "\n"
   ]
  },
  {
   "cell_type": "code",
   "execution_count": null,
   "id": "ee28607c-f5ef-4498-839d-6fb6a536fcdd",
   "metadata": {},
   "outputs": [],
   "source": [
    "dict_example = {'USA':'Joe Biden', 'India':'Narendra Modi', 'China':'Xi Jinping','Countries':3}\n",
    "dict_example"
   ]
  },
  {
   "cell_type": "code",
   "execution_count": null,
   "id": "68b344d4-2aea-4d86-b5ff-169df1fd9fe7",
   "metadata": {},
   "outputs": [],
   "source": [
    "dict_example.update({'Countries': dict_example['Countries']+1, 'Japan':'Fumio Kishida'})\n",
    "dict_example"
   ]
  },
  {
   "cell_type": "markdown",
   "id": "98a5502c-eccc-4cf6-bec0-2fefa3b34e3b",
   "metadata": {},
   "source": [
    "### Functions"
   ]
  },
  {
   "cell_type": "markdown",
   "id": "484be40a-8bcc-4a96-b987-17a1cf77a5ff",
   "metadata": {},
   "source": [
    "If a piece of code or an algorithm is utilized multiple times within a program, it can be defined separately as a function. Doing so improves both the code structure and clarity."
   ]
  },
  {
   "cell_type": "markdown",
   "id": "1d35949b-c889-444e-a53b-9e6544b54f22",
   "metadata": {},
   "source": [
    "To create a new function, use the `def` keyword. For instance,"
   ]
  },
  {
   "cell_type": "code",
   "execution_count": null,
   "id": "55e9e1cc-dfc7-43d6-8dc3-bbc2bec03fc5",
   "metadata": {},
   "outputs": [],
   "source": [
    "def greet(name):\n",
    "    return f\"Hello, {name}!\""
   ]
  },
  {
   "cell_type": "markdown",
   "id": "d61c4012-6726-4911-a5ef-88b439889940",
   "metadata": {},
   "source": [
    "Here, `name` is called an argument or parameter of the function."
   ]
  },
  {
   "cell_type": "markdown",
   "id": "f5c9212e-486f-42ff-ba1b-3027adbbed17",
   "metadata": {},
   "source": [
    "**Indentation**: Python heavily utilizes indentation (white space preceding a statement) to establish code structure. This feature enhances readability and comprehension of Python code. Improper indentation can lead to issues. To indent your code, position the cursor at the beginning of the line and press the `Tab` key once. Pressing `Tab` again will create an additional indent, while `Shift+Tab` will decrease the indentation by one level."
   ]
  },
  {
   "cell_type": "code",
   "execution_count": null,
   "id": "2a7a48bf-1294-442a-a860-4ad63ffa39a0",
   "metadata": {},
   "outputs": [],
   "source": [
    "greet(\"Alice\")"
   ]
  },
  {
   "cell_type": "code",
   "execution_count": null,
   "id": "76060062-f82b-4f44-be80-fdbfccb169f5",
   "metadata": {},
   "outputs": [],
   "source": [
    "greet(\"Bob\")"
   ]
  },
  {
   "cell_type": "markdown",
   "id": "30049cda-2b5f-497f-81af-82ba21e50e7d",
   "metadata": {},
   "source": [
    "#### Variable scope"
   ]
  },
  {
   "cell_type": "markdown",
   "id": "78ec1980-a7e4-4586-9e93-862cb6f5598b",
   "metadata": {},
   "source": [
    "When defining functions, understanding variable scope is crucial.\n",
    "\n",
    "**Local Variable**. Variables declared within a function have a local scope, meaning they can only be accessed inside that function. These are referred to as local variables.\n",
    "\n",
    "**Global Variable**. Conversely, a variable declared outside of any function is called a global variable. This means a global variable can be accessed both inside and outside the function.\n"
   ]
  },
  {
   "cell_type": "markdown",
   "id": "86d6f808-9e0a-4ca1-bbe2-40e2ef04100c",
   "metadata": {},
   "source": [
    "#### Named and optional arguments"
   ]
  },
  {
   "cell_type": "markdown",
   "id": "08118cab-f00c-489d-bbf9-56155f4ef4d5",
   "metadata": {},
   "source": [
    "Calling a function with numerous arguments can be confusing and lead to mistakes. Python allows the use of named arguments for improved clarity. Additionally, you have the option to distribute the function call across several lines."
   ]
  },
  {
   "cell_type": "code",
   "execution_count": null,
   "id": "3993e2e9-aa46-4391-bf79-cdfc7009d4f3",
   "metadata": {
    "slideshow": {
     "slide_type": ""
    },
    "tags": []
   },
   "outputs": [],
   "source": [
    "def create_profile(first_name, last_name,\n",
    "                   age=None, email=None, phone=None, address=None, city=None, state=None, zip_code=None,\n",
    "                   country=\"Germany\"):\n",
    "    \"\"\"\n",
    "    Creates a user profile with the given information. Some fields have default values.\n",
    "    \"\"\"\n",
    "    print(f\"First Name: {first_name}\")\n",
    "    print(f\"Last Name: {last_name}\")\n",
    "    print(f\"Age: {age}\")\n",
    "    print(f\"Email: {email}\")\n",
    "    print(f\"Phone: {phone}\")\n",
    "    print(f\"Address: {address}\")\n",
    "    print(f\"City: {city}\")\n",
    "    print(f\"State: {state}\")\n",
    "    print(f\"Zip Code: {zip_code}\")\n",
    "    print(f\"Country: {country}\")"
   ]
  },
  {
   "cell_type": "markdown",
   "id": "ac0cfc33-713b-4a02-83cd-90ea1cef621b",
   "metadata": {},
   "source": [
    "Here, all arguments except for the first two are optional. You can invoke the function with or without these arguments; if no arguments are provided, the default value will be applied. Functions that include optional arguments provide greater flexibility in their usage."
   ]
  },
  {
   "cell_type": "code",
   "execution_count": null,
   "id": "e7c58944-d715-474d-b616-9e48157b2be4",
   "metadata": {
    "slideshow": {
     "slide_type": ""
    },
    "tags": []
   },
   "outputs": [],
   "source": [
    "user_profile = create_profile(\n",
    "    \"Jane\",\n",
    "    last_name=\"Doe\",\n",
    "    email=\"jane.doe@example.com\",\n",
    "    city=\"Bonn\")"
   ]
  },
  {
   "cell_type": "markdown",
   "id": "b0552e3a-a363-4c0b-b301-40486b82aba9",
   "metadata": {},
   "source": [
    "#### DeepDive | *args and **kwargs"
   ]
  },
  {
   "cell_type": "markdown",
   "id": "a301f6ea-95b1-4476-92eb-972e4a3272ee",
   "metadata": {},
   "source": [
    "Using special symbols, we can pass a variable number of arguments to a function. There are two special symbols:\n",
    "\n",
    "1. `*args` (Non-Keyword Arguments)\n",
    "2. `*kwargs` (Keyword Arguments)"
   ]
  },
  {
   "cell_type": "code",
   "execution_count": null,
   "id": "5da68ea9-9ff9-4a81-9e7e-bc0640fe0e81",
   "metadata": {},
   "outputs": [],
   "source": [
    "def myFun(name, *args, **kwargs):\n",
    "    print(\"Name:\", name)\n",
    "    print(\"args: \", args)\n",
    "    print(\"kwargs: \", kwargs)"
   ]
  },
  {
   "cell_type": "markdown",
   "id": "09a382f0-f400-470e-8a70-c16591c2c436",
   "metadata": {},
   "source": [
    "Now we can use both `*args` and `**kwargs` to pass arguments to this function"
   ]
  },
  {
   "cell_type": "code",
   "execution_count": null,
   "id": "765cb219-27ba-48e8-8027-7610437af233",
   "metadata": {},
   "outputs": [],
   "source": [
    "myFun('John',22,'cs',city=\"Bonn\",age=22,major=\"cs\")"
   ]
  },
  {
   "cell_type": "markdown",
   "id": "1a23e0cb-66de-476e-a6d8-a90ea2bedd86",
   "metadata": {},
   "source": [
    "### Control flow "
   ]
  },
  {
   "cell_type": "markdown",
   "id": "1b21c0ad-df15-47d9-a6e5-519803d87b5a",
   "metadata": {},
   "source": [
    "Similar to other programming languages, Python includes built-in keywords that facilitate conditional control flows in code."
   ]
  },
  {
   "cell_type": "markdown",
   "id": "5a66531b-6624-4f35-acef-0e5bd35b9872",
   "metadata": {},
   "source": [
    "#### Conditional statements\n"
   ]
  },
  {
   "cell_type": "markdown",
   "id": "21561732-1e9c-403c-bb96-d05e2d82e5c9",
   "metadata": {},
   "source": [
    "One of the most powerful features of programming languages is branching, which enables making decisions and running alternative statements depending on whether specific conditions are true. In Python, we can use the `if`, `else`, and `elif` (short for *else if*) keywords. For example,"
   ]
  },
  {
   "cell_type": "code",
   "execution_count": null,
   "id": "d1dd5fce",
   "metadata": {},
   "outputs": [],
   "source": [
    "def what_is_x(x):\n",
    "    if x > 0:\n",
    "        print(\"x is positive\")\n",
    "    elif x > -10:\n",
    "        print(\"x is negative\")\n",
    "    else:\n",
    "        print(\"x is below -10\")"
   ]
  },
  {
   "cell_type": "code",
   "execution_count": null,
   "id": "5edaafd9-892f-4b0e-99eb-b436058152a8",
   "metadata": {},
   "outputs": [],
   "source": [
    "what_is_x(x=-9)"
   ]
  },
  {
   "cell_type": "markdown",
   "id": "fab7ecfd-848d-4d9e-bab5-ce03e3864f88",
   "metadata": {},
   "source": [
    "#### Iteration (Loops)"
   ]
  },
  {
   "cell_type": "markdown",
   "id": "109bc628-85da-4e6c-9301-c57c49cb2544",
   "metadata": {},
   "source": [
    "Another powerful feature of programming languages, closely associated with branching, is the ability to repeatedly execute one or more statements. This capability is commonly known as iteration or looping. There are two primary methods to achieve this in Python: `for` loops and `while` loops."
   ]
  },
  {
   "cell_type": "markdown",
   "id": "35b2a34f-d443-4a37-865c-05e2c6f77108",
   "metadata": {},
   "source": [
    "##### For loops"
   ]
  },
  {
   "cell_type": "markdown",
   "id": "2d98b363-8b3d-49d4-8de2-ac8a805fd419",
   "metadata": {},
   "source": [
    "A `for` loop is used for iterating or looping over sequences, i.e., lists, tuples, dictionaries, strings, and ranges. For example,"
   ]
  },
  {
   "cell_type": "code",
   "execution_count": null,
   "id": "a9a08043-5df7-4822-abc1-dd3dbc8bcd6c",
   "metadata": {},
   "outputs": [],
   "source": [
    "days = ['Monday', 'Tuesday', 'Wednesday', 'Thursday', 'Friday']\n",
    "\n",
    "for day in days:\n",
    "    print(day)"
   ]
  },
  {
   "cell_type": "markdown",
   "id": "269ad8ad-8737-43f3-a371-083e350e5545",
   "metadata": {},
   "source": [
    "The `range` function is used to create a sequence of numbers that can be iterated over using a `for` loop. It can be used in 3 ways:\n",
    "\n",
    "* `range(n)` - Creates a sequence of numbers from `0` to `n-1`\n",
    "* `range(a, b)` - Creates a sequence of numbers from `a` to `b-1`\n",
    "* `range(a, b, step)` - Creates a sequence of numbers from `a` to `b-1` with increments of step"
   ]
  },
  {
   "cell_type": "markdown",
   "id": "a6d0d493-1df1-452a-839f-6b3bc45bed6e",
   "metadata": {},
   "source": [
    "**Exercise 🚧**. Try it out."
   ]
  },
  {
   "cell_type": "code",
   "execution_count": null,
   "id": "b7e8da27-168b-4ead-88ee-9cd50ae942cb",
   "metadata": {
    "slideshow": {
     "slide_type": ""
    },
    "tags": []
   },
   "outputs": [],
   "source": [
    "# ..."
   ]
  },
  {
   "cell_type": "markdown",
   "id": "64a53d56-763b-4f93-ae99-10edc394b4b7",
   "metadata": {},
   "source": [
    "Ranges are used for iterating over lists when you need to track the index of elements while iterating.\n",
    "\n"
   ]
  },
  {
   "cell_type": "code",
   "execution_count": null,
   "id": "66deebe4-aee9-4062-88d9-ffe230aaac43",
   "metadata": {},
   "outputs": [],
   "source": [
    "a_list = ['Monday', 'Tuesday', 'Wednesday', 'Thursday', 'Friday']\n",
    "\n",
    "for i in range(len(a_list)):\n",
    "    print('The value at position {} is {}.'.format(i, a_list[i]))"
   ]
  },
  {
   "cell_type": "markdown",
   "id": "e41fec19-5378-468c-ba10-f16ce85f9be5",
   "metadata": {},
   "source": [
    "Here, the `format` method of the string inserts its arguments at the positions where the `{}`s serve as a placeholder."
   ]
  },
  {
   "cell_type": "markdown",
   "id": "f6eb58c5-415e-4169-8737-970725fc6d3b",
   "metadata": {},
   "source": [
    "Another way to achieve the same result is by using the `enumerate` function with `a_list` as an input, which returns a tuple containing the index and the corresponding element.\n",
    "\n"
   ]
  },
  {
   "cell_type": "code",
   "execution_count": null,
   "id": "679f1028-126e-426a-8a03-a74bdbd07ccc",
   "metadata": {},
   "outputs": [],
   "source": [
    "for i, val in enumerate(a_list):\n",
    "    print('The value at position {} is {}.'.format(i, val))"
   ]
  },
  {
   "cell_type": "markdown",
   "id": "ecef93b3-e558-4f68-8e2a-b4917f45bdfd",
   "metadata": {},
   "source": [
    "##### While loops"
   ]
  },
  {
   "cell_type": "markdown",
   "id": "4950c96d-078d-4ed1-9067-7a3bfe19e31d",
   "metadata": {},
   "source": [
    "A `while` loop executes a block of code for as long as a condition is true. For example, let’s try to calculate the factorial of 100 using a while loop. The factorial of a number `n` is the product (multiplication) of all the numbers from `1` to `n`, i.e., `1*2*3*...*(n-2)*(n-1)*n`."
   ]
  },
  {
   "cell_type": "code",
   "execution_count": null,
   "id": "efae3f48-3759-4857-a7fc-ccc08d7648eb",
   "metadata": {},
   "outputs": [],
   "source": [
    "result = 1; i = 1 # We can define multiple variables in one line by separating them with a ;\n",
    "\n",
    "while i <= 100:\n",
    "    result = result * i\n",
    "    i = i+1\n",
    "\n",
    "'The factorial of 100 is: {}'.format(result)"
   ]
  },
  {
   "cell_type": "markdown",
   "id": "898f7283-80d3-42c9-9987-d4dfb019fc07",
   "metadata": {},
   "source": [
    "Be aware of **infinite loops**. Suppose the condition in a while loop always holds true. In that case, Python repeatedly executes the code within the loop forever, and the execution of the code never completes. This situation is called an infinite loop. It generally indicates that you’ve made a mistake in your code. For example, you may have provided the wrong condition or forgotten to update a variable within the loop, eventually falsifying the condition.\n",
    "\n",
    "If your code is stuck in an infinite loop during execution, just press the “Stop” button on the toolbar (next to “Run”) or select “Kernel > Interrupt” from the menu bar. This will interrupt the execution of the code. The following two cells both lead to infinite loops and must be interrupted."
   ]
  },
  {
   "cell_type": "markdown",
   "id": "4f317f29-9773-417b-9f8d-d0cf8efcfc97",
   "metadata": {},
   "source": [
    "**DeepDive | `break` and `continue` statement**"
   ]
  },
  {
   "cell_type": "markdown",
   "id": "18ac0384-490e-4747-8728-d5c9ecfb099d",
   "metadata": {},
   "source": [
    "These statements alter the flow of a loop."
   ]
  },
  {
   "cell_type": "markdown",
   "id": "22254cf6-94e6-45b4-a34c-d8c278fb1524",
   "metadata": {},
   "source": [
    "We can use the `break` statement within the loop’s body to immediately stop the execution and break out of the loop. "
   ]
  },
  {
   "cell_type": "code",
   "execution_count": null,
   "id": "95644460-1022-4119-8e6c-fe13c2c14774",
   "metadata": {},
   "outputs": [],
   "source": [
    "i = 1\n",
    "result = 1\n",
    "\n",
    "while i <= 100:\n",
    "    result *= i\n",
    "    if i == 42:\n",
    "        print('Magic number 42 reached! Stopping execution..')\n",
    "        break\n",
    "    i += 1\n",
    "    \n",
    "print('i:', i)\n",
    "print('result:', result)"
   ]
  },
  {
   "cell_type": "markdown",
   "id": "b8f45378-0beb-4e45-a0e4-96b121be473e",
   "metadata": {},
   "source": [
    "With the `continue` statement, we break out of the current iteration and continue to the next one."
   ]
  },
  {
   "cell_type": "code",
   "execution_count": null,
   "id": "968c71e6-fec4-449f-811a-d039355d0930",
   "metadata": {},
   "outputs": [],
   "source": [
    "i = 1\n",
    "result = 1\n",
    "\n",
    "while i <= 10:\n",
    "    i += 1\n",
    "    if i % 2 == 0:\n",
    "        print('Skipping {}'.format(i))\n",
    "        continue\n",
    "    print('Multiplying with {}'.format(i))\n",
    "    result = result * i\n",
    "    \n",
    "print('i:', i)\n",
    "print('result:', result)"
   ]
  },
  {
   "cell_type": "markdown",
   "id": "edb97000",
   "metadata": {},
   "source": [
    "### Libraries"
   ]
  },
  {
   "cell_type": "markdown",
   "id": "18f2e331-ac6c-4899-b289-3db630dd2531",
   "metadata": {},
   "source": [
    "There are several built-in functions in Python like `print()`, `abs()`, `max()`, `sum()` etc., which do not require importing any library. \n",
    "We can extend these functions by importing external libraries. Here, we will cover some popular libraries for basic scientific computing."
   ]
  },
  {
   "cell_type": "markdown",
   "id": "57cdb134-0ec4-4ffb-becb-0522bf604dd4",
   "metadata": {},
   "source": [
    "#### NumPy"
   ]
  },
  {
   "cell_type": "markdown",
   "id": "93b61060-629a-4bf4-b1f9-e6822e58c7ea",
   "metadata": {},
   "source": [
    "NumPy is a fundamental library for **numerical computing** in Python. It provides support for arrays, matrices, and mathematical functions, making it essential for scientific and data analysis tasks. It is mostly used for performing numerical operations and efficiently storing numerical data."
   ]
  },
  {
   "cell_type": "code",
   "execution_count": null,
   "id": "faf453df-89e7-4501-8323-8a282d2ea78f",
   "metadata": {},
   "outputs": [],
   "source": [
    "import numpy as np"
   ]
  },
  {
   "cell_type": "code",
   "execution_count": null,
   "id": "a887ca3b-aed4-408d-b504-2534e50b2cd3",
   "metadata": {},
   "outputs": [],
   "source": [
    "vector = np.array([1, 2, 3])\n",
    "matrix = np.array([[3, 1],\n",
    "                   [0, 2]])\n",
    "print(vector)\n",
    "print(matrix)"
   ]
  },
  {
   "cell_type": "markdown",
   "id": "b9afef85-fa38-4432-8cc2-78eb0eef17d0",
   "metadata": {},
   "source": [
    "#### SciPy"
   ]
  },
  {
   "cell_type": "markdown",
   "id": "4634d3f6-04ec-4dc7-b8ee-38a789ea5234",
   "metadata": {},
   "source": [
    "SciPy is used for performing scientific computing such as solving differential equations, optimization, statistical tests, etc. In particular, its eigenvalue computation method seems to be more stable than NumPy's."
   ]
  },
  {
   "cell_type": "code",
   "execution_count": null,
   "id": "12518285-bc8b-441d-bfd1-cd3a0cf59f40",
   "metadata": {},
   "outputs": [],
   "source": [
    "import scipy as sp"
   ]
  },
  {
   "cell_type": "markdown",
   "id": "37c57fd9-5813-48c8-a001-15d757097fce",
   "metadata": {},
   "source": [
    "#### Exercise 📝: Eigenvector and values"
   ]
  },
  {
   "cell_type": "markdown",
   "id": "725e49e0-28d9-476a-84fc-f41e0f74dee3",
   "metadata": {
    "slideshow": {
     "slide_type": ""
    },
    "tags": []
   },
   "source": [
    "Use the `scipy.linalg` module to calculate the eigenvalues and eigenvectors of the `matrix` defined above.  If you need to refresh your knowledge about eigenvectors and eigenvalues, I recommend watching [this video by 3Blue1Brown](https://www.youtube.com/watch?v=PFDu9oVAE-g). Use your knowledge from above on how to get help inside a Python Jupyter Notebook."
   ]
  },
  {
   "cell_type": "code",
   "execution_count": null,
   "id": "811c10c7-71f6-4be8-a912-e1e6b6ac9b94",
   "metadata": {},
   "outputs": [],
   "source": [
    "# ..."
   ]
  },
  {
   "cell_type": "markdown",
   "id": "1d40bf4a-ec76-44c0-a066-ce71eedd2ffd",
   "metadata": {},
   "source": [
    "#### Matplotlib\n",
    "Matplotlib is a comprehensive library for creating static, animated, or interactive plots and visualizations. It is commonly used for data visualization and exploration."
   ]
  },
  {
   "cell_type": "code",
   "execution_count": null,
   "id": "4f120625",
   "metadata": {},
   "outputs": [],
   "source": [
    "import matplotlib.pyplot as plt"
   ]
  },
  {
   "cell_type": "markdown",
   "id": "e327e356-b6c0-47fb-bdc8-99f81b10dce0",
   "metadata": {},
   "source": [
    "For example, we can create a scatter plot of 1000 random sample, generate from the `numpy.random` module."
   ]
  },
  {
   "cell_type": "code",
   "execution_count": null,
   "id": "b32f3c50-eff1-4771-b0d0-d66927fa3e73",
   "metadata": {},
   "outputs": [],
   "source": [
    "np.random.seed(42) # The seed makes the result reproducible\n",
    "plt.scatter(np.random.randn(1000), np.random.randn(1000));"
   ]
  },
  {
   "cell_type": "markdown",
   "id": "331366ca-6911-4da7-8110-0ff3c43ebc31",
   "metadata": {},
   "source": [
    "#### Sympy"
   ]
  },
  {
   "cell_type": "markdown",
   "id": "c43323ce-84ac-4e71-894d-e44d344b9b02",
   "metadata": {},
   "source": [
    "SymPy is a Python library for symbolic mathematics, providing capabilities to perform algebraic manipulations, solve equations, and work with calculus, among other mathematical tasks. It is a computer algebra system written in pure Python, designed to be easily extensible and to provide a comprehensive set of tools for symbolic computation."
   ]
  },
  {
   "cell_type": "code",
   "execution_count": null,
   "id": "653fc7c6-a052-430b-bf98-9456d10c4b54",
   "metadata": {},
   "outputs": [],
   "source": [
    "import sympy as sym"
   ]
  },
  {
   "cell_type": "markdown",
   "id": "43b3eec2-cdc3-4f0f-9804-251b93e9f7fe",
   "metadata": {},
   "source": [
    "For example, we can calculate the eigenvectors and values from the matrix above also computer-analytically"
   ]
  },
  {
   "cell_type": "code",
   "execution_count": null,
   "id": "253946ba-54ad-4418-b8c7-619276e32f0b",
   "metadata": {},
   "outputs": [],
   "source": [
    "eigenvalues_and_vectors = sym.Matrix(matrix).eigenvects()\n",
    "\n",
    "print(\"The eigenvalues are {} and {}\".format(eigenvalues_and_vectors[0][0], eigenvalues_and_vectors[1][0]))\n",
    "print(\"The eigenvalues are {} and {}\".format(eigenvalues_and_vectors[0][2][0], eigenvalues_and_vectors[1][2][0]))"
   ]
  },
  {
   "cell_type": "markdown",
   "id": "c3af3598-78fa-4e9e-903b-7c0cf4be50af",
   "metadata": {},
   "source": [
    "Another use case is to differentiate a function using SymPy in Python using the `diff` function. Here's an example:"
   ]
  },
  {
   "cell_type": "code",
   "execution_count": null,
   "id": "f2b2dc8a-4347-4013-a7a0-d3e202964fd4",
   "metadata": {},
   "outputs": [],
   "source": [
    "# Define the variable\n",
    "x = sym.symbols('x')\n",
    "\n",
    "# Define the function\n",
    "f = x**3 + 2*x**2 + x + 1\n",
    "\n",
    "# Differentiate the function with respect to x\n",
    "sym.diff(f, x)"
   ]
  },
  {
   "cell_type": "markdown",
   "id": "1003d932-7cc0-4c0c-9ea5-2755e50546bf",
   "metadata": {},
   "source": [
    "### Recap | Eigenvectors and eigenvalues "
   ]
  },
  {
   "cell_type": "markdown",
   "id": "7cc94c65-de06-4c2f-9dac-5f9dfedb0108",
   "metadata": {
    "slideshow": {
     "slide_type": ""
    },
    "tags": []
   },
   "source": [
    "#### 🚧 DeepDive | Recap EEV"
   ]
  },
  {
   "cell_type": "markdown",
   "id": "c202fd0a-9b2c-48aa-b7db-a4c1e66d18ae",
   "metadata": {
    "slideshow": {
     "slide_type": ""
    },
    "tags": []
   },
   "source": [
    "To represent a vector \\( x \\) using the eigenvectors of a matrix \\( A \\) as a basis, follow these steps:\n",
    "\n",
    "##### 1. **Eigenvalue and Eigenvector Decomposition**:\n",
    "   If \\( A \\) is a square matrix, and it has a full set of linearly independent eigenvectors, we can decompose it as:\n",
    "   \\[\n",
    "   A = V \\Lambda V^{-1}\n",
    "   \\]\n",
    "   where:\n",
    "   - \\( V \\) is the matrix whose columns are the eigenvectors of \\( A \\),\n",
    "   - \\( \\Lambda \\) is the diagonal matrix containing the corresponding eigenvalues of \\( A \\),\n",
    "   - \\( V^{-1} \\) is the inverse of \\( V \\) (assuming the eigenvectors are linearly independent).\n",
    "\n",
    "##### 2. **Using Eigenvectors as a Basis**:\n",
    "   The eigenvectors of \\( A \\) form a basis for the vector space. To represent \\( x \\) in this new basis, express \\( x \\) as a linear combination of the eigenvectors of \\( A \\).\n",
    "\n",
    "   Let \\( v_1, v_2, \\dots, v_n \\) be the eigenvectors of \\( A \\). You want to express:\n",
    "   \\[\n",
    "   x = c_1 v_1 + c_2 v_2 + \\dots + c_n v_n\n",
    "   \\]\n",
    "   where \\( c_1, c_2, \\dots, c_n \\) are the scalar coefficients that correspond to the projection of \\( x \\) onto each eigenvector \\( v_i \\).\n",
    "\n",
    "##### 3. **Find the Coefficients \\( c \\)**:\n",
    "   If \\( V \\) is the matrix whose columns are the eigenvectors of \\( A \\), then you can find the coefficients \\( c \\) by solving the following equation:\n",
    "   \\[\n",
    "   x = V c\n",
    "   \\]\n",
    "   where \\( c = [c_1, c_2, \\dots, c_n]^T \\).\n",
    "\n",
    "   To solve for \\( c \\), multiply both sides by \\( V^{-1} \\):\n",
    "   \\[\n",
    "   c = V^{-1} x\n",
    "   \\]\n",
    "   Thus, the coefficients \\( c \\) represent the vector \\( x \\) in the eigenvector basis.\n",
    "\n",
    "##### 4. **Reconstructing \\( x \\) from the Eigenvector Basis**:\n",
    "   Once you have the coefficients \\( c \\), you can reconstruct \\( x \\) as:\n",
    "   \\[\n",
    "   x = V c\n",
    "   \\]\n",
    "   where \\( V \\) is the matrix of eigenvectors and \\( c \\) is the vector of coefficients.\n",
    "\n",
    "##### Summary:\n",
    "To represent \\( x \\) in the eigenvector basis of \\( A \\):\n",
    "1. Compute the matrix \\( V \\) of eigenvectors of \\( A \\).\n",
    "2. Find the coefficients \\( c = V^{-1} x \\).\n",
    "3. \\( x \\) can then be written as \\( x = V c \\), where \\( c \\) represents \\( x \\) in the eigenvector basis."
   ]
  },
  {
   "cell_type": "markdown",
   "id": "fc7fab19-4924-474f-b363-f601868d9001",
   "metadata": {},
   "source": [
    "## Exercise 📝: Sustainability Systems Science Generator"
   ]
  },
  {
   "cell_type": "markdown",
   "id": "e175daf3-a1fb-46e5-b43f-6b0fe14dfbc1",
   "metadata": {},
   "source": [
    "There are many word combinations in the literature that broadly refer to the kind of science we will be exploring in this course. Take, for example, the word combination,\n",
    "\n",
    "**Coupled Social-Ecological Systems Modeling.**\n",
    "\n",
    "Your task is to write a Python function that randomly generates alternative names for this kind of science. Tip: Start by considering alternatives for each part of the word combination above."
   ]
  },
  {
   "cell_type": "code",
   "execution_count": null,
   "id": "253088ba-6805-4929-aae8-3376b563c09b",
   "metadata": {},
   "outputs": [],
   "source": [
    "# ..."
   ]
  },
  {
   "cell_type": "markdown",
   "id": "a00ec32b-212b-44a4-a6a0-d184b9533ed6",
   "metadata": {},
   "source": [
    "## Saving notebooks"
   ]
  },
  {
   "cell_type": "markdown",
   "id": "8bc7da05-5f0c-4c71-949c-b633d66fe4be",
   "metadata": {
    "slideshow": {
     "slide_type": ""
    },
    "tags": []
   },
   "source": [
    "The easiest way to save a notebook as a PDF file for sharing is to print it via your browser's print dialogue."
   ]
  }
 ],
 "metadata": {},
 "nbformat": 4,
 "nbformat_minor": 5
}
