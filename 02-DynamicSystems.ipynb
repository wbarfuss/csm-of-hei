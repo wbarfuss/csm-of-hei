{
 "cells": [
  {
   "cell_type": "markdown",
   "id": "a9a8b4ed-733e-4c7a-b7f9-c4649801fd87",
   "metadata": {
    "editable": true,
    "slideshow": {
     "slide_type": "slide"
    },
    "tags": []
   },
   "source": [
    "\n",
    "# Dynamic Systems\n"
   ]
  },
  {
   "cell_type": "markdown",
   "id": "461a086a-9730-4a5b-b1fc-cc1ca0134dd5",
   "metadata": {},
   "source": [
    "In this part, we cover dynamic-systems models. They operationalize **systems knowledge**, typically understood as knowledge concerning the existing system or issue. This understanding is primarily analytical and descriptive. For instance, in the context of sustainability transitions, systems knowledge assesses the risk triggering climate tipping points, biodiversity loss dynamics, or a specific region's social-ecological dynamics. \n",
    "Systems knowledge is strongly associated with **facts** and asks **what is?**\n",
    "\n",
    "In this regard, **dynamic-systems models** are often used to understand the system's behavior under specific conditions."
   ]
  },
  {
   "cell_type": "markdown",
   "id": "eedb407c-4b78-4350-88e1-c385e57e5e3b",
   "metadata": {},
   "source": [
    "![Three types of models based on three types of knowledge for transdisciplinary reserach](images/01.01-ThreeTypesOfModels.dio.png)"
   ]
  },
  {
   "cell_type": "markdown",
   "id": "38066070-518c-40ac-ac41-bfe03846e1ee",
   "metadata": {},
   "source": [
    "Specifically, we will cover\n",
    "\n",
    "* Nonlinearity and feedback loops in [Chapter 02.01](02.01-Nonlinearity.ipynb)\n",
    "* Tipping elements and regime shifts in [Chapter 02.02](02.02-TippingElements.ipynb)\n",
    "* Resilience in [Chapter 02.03](02.03-Resilience.ipynb), and\n",
    "* Stochastic state transitions in [Chapter 02.04](02.04-StateTransitions.ipynb)."
   ]
  }
 ],
 "metadata": {
  "kernelspec": {
   "display_name": "Python 3 (ipykernel)",
   "language": "python",
   "name": "python3"
  },
  "language_info": {
   "codemirror_mode": {
    "name": "ipython",
    "version": 3
   },
   "file_extension": ".py",
   "mimetype": "text/x-python",
   "name": "python",
   "nbconvert_exporter": "python",
   "pygments_lexer": "ipython3",
   "version": "3.11.11"
  }
 },
 "nbformat": 4,
 "nbformat_minor": 5
}
