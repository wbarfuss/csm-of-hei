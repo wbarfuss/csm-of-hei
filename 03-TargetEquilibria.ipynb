{
 "cells": [
  {
   "cell_type": "markdown",
   "id": "bbd9042d",
   "metadata": {},
   "source": [
    "# Target Equilibria"
   ]
  },
  {
   "cell_type": "markdown",
   "id": "516b8321-8213-4269-a883-31f772e8b71b",
   "metadata": {},
   "source": [
    "In this part, we cover target-equilibria models or equilibrium-based models. They operationalize **target knowledge**, which is knowledge about the desired future and the values that indicate which direction to take. It relies on deliberation by different societal actors and is based on values and norms. In sustainability transitions, ways of producing target knowledge include participatory vision, scenario development with a wide range of stakeholders, and the public discourse at large. \n",
    "Target knowledge is strongly associated with **values** and asks **what ought to be?**."
   ]
  },
  {
   "cell_type": "markdown",
   "id": "ac2dc353-0421-4d01-b74c-075eef08659b",
   "metadata": {},
   "source": [
    "![Three types of models based on three types of knowledge for transdisciplinary reserach](images/01.01-ThreeTypesOfModels.dio.png)"
   ]
  },
  {
   "attachments": {},
   "cell_type": "markdown",
   "id": "1cd2b188-1e86-4673-8465-c1804eefa8fa",
   "metadata": {},
   "source": [
    "**Target-equilibrium** (or *equilibrium-based models applied to sustainability transitions*) are primarily used in economics. The overarching idea of the model type is to find a target equilibrium, a state of the system that is considered desirable. In contrast to the **dynamic systems** models, **target equilibrium** models introduce at least one decision-maker into the model. Given our assumptions about how the world works and that we can precisely specify what we want, we can use optimization techniques to find the **best possible course of action**. Having found the best course of action, we are in a 'target equilibrium.'\n",
    "\n"
   ]
  },
  {
   "cell_type": "markdown",
   "id": "ac1ec24c-30c8-42e3-9643-ee2d27f5424c",
   "metadata": {},
   "source": [
    "The *decision-maker* is sometimes called an *agent* or *actor*. It can be a single individual or a group of individuals, such as a household, a company, a government, or a non-governmental organization. It can be a human, an animal, or a machine. It may even be conceivable that a single human consists of multiple agents. **Thus, when introducing the concept of an agent, we obtain an abstract but flexible modeling tool to represent the agency and decision-making** of a wide range of possible entities."
   ]
  },
  {
   "cell_type": "markdown",
   "id": "9f6c5866-a32f-481f-ac76-ff2c9353d825",
   "metadata": {},
   "source": [
    "Specifically, we will cover\n",
    "\n",
    "* Sequential decisions of a single agent in a dynamic environment in [Chapter 03.01](03.01-SequentialDecisions.ipynb)\n",
    "* Strategic interactions of multiple agents in a static environment in [Chapter 03.02](03.02-StrategicInteractions.ipynb), and\n",
    "* Dynamic interactions of multiple agents in a dynamic environment in [Chapter 03.03](03.03-DynamicInteractions.ipynb)."
   ]
  },
  {
   "cell_type": "markdown",
   "id": "0da4f128",
   "metadata": {},
   "source": []
  }
 ],
 "metadata": {
  "kernelspec": {
   "display_name": "Python 3 (ipykernel)",
   "language": "python",
   "name": "python3"
  },
  "language_info": {
   "codemirror_mode": {
    "name": "ipython",
    "version": 3
   },
   "file_extension": ".py",
   "mimetype": "text/x-python",
   "name": "python",
   "nbconvert_exporter": "python",
   "pygments_lexer": "ipython3",
   "version": "3.11.11"
  }
 },
 "nbformat": 4,
 "nbformat_minor": 5
}
