{
 "cells": [
  {
   "cell_type": "markdown",
   "id": "a28a63d7-d1c0-486d-8126-fe1831eb3ea6",
   "metadata": {
    "editable": true,
    "slideshow": {
     "slide_type": ""
    },
    "tags": []
   },
   "source": [
    "\n",
    "# Ex | Learning Dynamics {.unnumbered}"
   ]
  },
  {
   "cell_type": "code",
   "execution_count": 1,
   "id": "fa0ea364-2170-4bab-bd8a-480a9362953e",
   "metadata": {
    "editable": true,
    "slideshow": {
     "slide_type": ""
    },
    "tags": []
   },
   "outputs": [],
   "source": [
    "import numpy as np\n",
    "import matplotlib.pyplot as plt"
   ]
  },
  {
   "cell_type": "markdown",
   "id": "13ea0bec-7dcf-4cda-aae2-0846dbd23642",
   "metadata": {
    "editable": true,
    "slideshow": {
     "slide_type": ""
    },
    "tags": []
   },
   "source": [
    "## Task 1 | Social dilemma flows"
   ]
  },
  {
   "cell_type": "markdown",
   "id": "7c7e4ca7-d4ee-4b36-a13e-0c8b730ee878",
   "metadata": {
    "editable": true,
    "slideshow": {
     "slide_type": ""
    },
    "tags": []
   },
   "source": [
    "Visualize the flow plots for all four social dilemma environment we discussed in the course: Tragedy Prinsoner's Dilemma, Divergence Chicken, Coordination Stag Hunt, and Comedy Harmony.\n",
    "\n",
    "You can use the `pyCRLD` environment `SocialDilemma` by impporting\n",
    "\n",
    "```\n",
    "from pyCRLD.Environments.SocialDilemma import SocialDilemma\n",
    "```"
   ]
  },
  {
   "cell_type": "code",
   "execution_count": 2,
   "id": "bfd75d37-e48e-43d6-93f6-34d5fb970c17",
   "metadata": {},
   "outputs": [],
   "source": [
    "# ..."
   ]
  },
  {
   "cell_type": "markdown",
   "id": "ce4be5e0-d653-4cc4-bf7c-fe502e81700d",
   "metadata": {
    "editable": true,
    "slideshow": {
     "slide_type": ""
    },
    "tags": []
   },
   "source": [
    "## Task 2 | Critical transition"
   ]
  },
  {
   "cell_type": "markdown",
   "id": "05da76ef-0999-43b4-be8d-d63299d71a3d",
   "metadata": {
    "editable": true,
    "slideshow": {
     "slide_type": ""
    },
    "tags": []
   },
   "source": [
    "We consider the following model: Two agents can either cooperate or defect. A cooperator contributes a benefit $b$, which all agents receive. However, a cooperator must pay $c$ for the contribution. A defector does not contribute and does not pay a cost. Thus, the payoff matrix is  \n",
    "\n",
    "| | Cooperate | Defect |\n",
    "|---|---|---|\n",
    "| Cooperate | $2b-c$ , $2b-c$  | $b-c$, $b$ |\n",
    "| Defect | $b$, $b-c$ | $0, 0$ |\n"
   ]
  },
  {
   "cell_type": "markdown",
   "id": "8f546732-6468-4d8f-93fa-175c7c231092",
   "metadata": {
    "editable": true,
    "slideshow": {
     "slide_type": ""
    },
    "tags": []
   },
   "source": [
    "Let us re-normalize the payoffs, devide all payoffs by $b$ and express in the cost-to-benefit ratio $r = c/b$.\n",
    "\n",
    "| | Cooperate | Defect |\n",
    "|---|---|---|\n",
    "| Cooperate | $2-r$ , $2-r$  | $1-r$, $1$ |\n",
    "| Defect | $1$, $1-r$ | $0, 0$ |\n",
    "\n"
   ]
  },
  {
   "cell_type": "markdown",
   "id": "bf914194-4315-4151-be79-3503781225b8",
   "metadata": {
    "editable": true,
    "slideshow": {
     "slide_type": ""
    },
    "tags": []
   },
   "source": [
    "Simulate the reinforcement learning dynamics in the game from 25 random initial joint policies for values of $r$ in the range $[0.5, 1.5]$. Record the final joint policy for each initial policy and plot the critical transition from defection to cooperation as a function of $r$. Also, visualize how long, on average, it takes for the agents to reach the final joint policy. Show a critical slowing down."
   ]
  },
  {
   "cell_type": "code",
   "execution_count": 3,
   "id": "fb233b5a-105c-4fd5-a6bd-8fb90aaf8479",
   "metadata": {},
   "outputs": [],
   "source": [
    "# ..."
   ]
  }
 ],
 "metadata": {
  "kernelspec": {
   "display_name": "Python 3 (ipykernel)",
   "language": "python",
   "name": "python3"
  },
  "language_info": {
   "codemirror_mode": {
    "name": "ipython",
    "version": 3
   },
   "file_extension": ".py",
   "mimetype": "text/x-python",
   "name": "python",
   "nbconvert_exporter": "python",
   "pygments_lexer": "ipython3",
   "version": "3.11.11"
  }
 },
 "nbformat": 4,
 "nbformat_minor": 5
}
