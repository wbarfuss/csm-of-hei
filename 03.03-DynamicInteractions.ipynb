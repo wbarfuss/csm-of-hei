{
 "cells": [
  {
   "cell_type": "markdown",
   "metadata": {
    "editable": true,
    "slideshow": {
     "slide_type": ""
    },
    "tags": []
   },
   "source": [
    "# Dynamic Interactions\n",
    "\n",
    "[Wolfram Barfuss](https://wbarfuss.github.io) | [University of Bonn](https://www.uni-bonn.de) | 2024/2025 <br>\n",
    "▶ **Complex Systems Modeling of Human-Environment Interactions**"
   ]
  },
  {
   "cell_type": "markdown",
   "metadata": {
    "editable": true,
    "slideshow": {
     "slide_type": ""
    },
    "tags": []
   },
   "source": [
    "## Motivation | **Futures and environments**"
   ]
  },
  {
   "cell_type": "markdown",
   "metadata": {},
   "source": [
    "Prototypical models did not explicitly consider future environmental consequences of strategic interactions (@fig-environmental-dynamics). \n",
    "\n",
    "![Environmental dynamics are relevant to consider](images/03.03-EnvironmentalDynamics.dio.png){#fig-environmental-dynamics}\n",
    "\n",
    "However, many real-world scenarios involve strategic interactions with environmental consequences. For example, the tragedy of the commons, agreements, and threshold public goods can be extended to include ecological consequences. In this lecture, we will introduce **dynamic games**, particularly *stochastic* or *Markov games*, to model strategic interactions with environmental consequences."
   ]
  },
  {
   "cell_type": "markdown",
   "metadata": {},
   "source": [
    "*Stochastic games* integrate [*Markov chains*](02.04-StateTransitions.ipynb), [*Markov decision processes*](03.01-SequentialDecisions.ipynb), and [*game theory*](03.01-SequentialDecisions.ipynb) to model strategic interactions in dynamic environments. They are particularly useful for modeling human-environment interactions, where the environment is affected by human actions and, in turn, affects human behavior."
   ]
  },
  {
   "cell_type": "markdown",
   "metadata": {
    "editable": true,
    "slideshow": {
     "slide_type": "slide"
    },
    "tags": []
   },
   "source": [
    "### **Advantages** of dynamic games"
   ]
  },
  {
   "cell_type": "markdown",
   "metadata": {},
   "source": [
    "Using **dynamic games**, particularly *stochastic games* to model strategic interactions with environmental consequences has several advantages:\n",
    "\n",
    "* **inherently stochastic** - to account for uncertainty\n",
    "* **nonlinear** - to account for structural changes\n",
    "* **agency** - to account for human behavior\n",
    "* **interactions** - to account for strategic interactions\n",
    "* **future-looking** - to account for the trade-off between short-term and long-term\n",
    "* **feedback** - between multiple agents and the environment\n",
    "\n",
    "Stochastic games also have structural benefits that make them compatible with numerical computer modeling due to their discrete action and state sets, as well as their advancement in discrete time intervals."
   ]
  },
  {
   "cell_type": "markdown",
   "metadata": {},
   "source": [
    "### **Learning goals**"
   ]
  },
  {
   "cell_type": "markdown",
   "metadata": {},
   "source": [
    "After this lecture, students will be able to:\n",
    "\n",
    "* Describe the elements of a stochastic game\n",
    "* Apply stochastic games to model human-environment interactions\n",
    "* Analyze the strategic interactions in stochastic games\n",
    "\n"
   ]
  },
  {
   "cell_type": "code",
   "execution_count": 2,
   "metadata": {},
   "outputs": [],
   "source": [
    "import sympy as sp\n",
    "import numpy as np\n",
    "import matplotlib.pyplot as plt\n",
    "\n",
    "import matplotlib.style as style; style.use('seaborn-v0_8')\n",
    "plt.rcParams['figure.figsize'] = (7.8, 2.5); plt.rcParams['figure.dpi'] = 300\n",
    "color = plt.rcParams['axes.prop_cycle'].by_key()['color'][0]  # get the first color of the default color cycle\n",
    "plt.rcParams['axes.facecolor'] = 'white'; plt.rcParams['grid.color'] = 'gray'; plt.rcParams['grid.linewidth'] = 0.25; "
   ]
  },
  {
   "cell_type": "markdown",
   "metadata": {},
   "source": [
    "## Dynamic games | **Strategic interactions with environmental consequences**"
   ]
  },
  {
   "cell_type": "markdown",
   "metadata": {},
   "source": [
    "![Multiagent-Environment Interface](images/03.03-MultiAgentEnvironment.dio.png){#fig-multiagent-environment}"
   ]
  },
  {
   "cell_type": "markdown",
   "metadata": {},
   "source": [
    "Here, we focus on environments with a discrete state set in discrete time. These specifications are commonly called **stochastic** or **Markov games**. They consist of the following elements:\n",
    "\n",
    "* A discrete set of environmental **contexts** or **states** $\\mathcal S = \\{S_1, \\dots, S_Z\\}$.\n",
    "    * We denote an environmental state by $s \\in \\mathcal S$.\n",
    "* A finate set of $N$ agents $\\mathcal I = \\{2,\\dots, N\\}$ participating in an interaction.\n",
    "* For each agent $i\\in\\mathcal I$, a discrete set of **options** or **actions** $\\mathcal A^i = \\{A^i_1, \\dots, A^i_M\\}$.\n",
    "    * Let's denote the joint action set by $\\mathbf{\\mathcal A} = \\mathcal A^1 \\times \\dots \\times A^N$.\n",
    "    * An action profile $\\mathbf a = (a^1,\\dots,a^N) \\in \\mathbf{\\mathcal A}$ is a joint action of all agents."
   ]
  },
  {
   "cell_type": "markdown",
   "metadata": {},
   "source": [
    "Time $t$ advances in discrete steps $t=0,1,2,\\dots$, and agents choose their actions simultaneously.\n",
    "\n",
    "* We denote the state at time $t$ by $s_t$ and the joint action by $\\mathbf a_t$."
   ]
  },
  {
   "cell_type": "markdown",
   "metadata": {},
   "source": [
    "The transitions tensor $T: \\mathcal S \\times \\mathbf{\\mathcal A} \\times \\mathcal S \\to [0,1]$ defines the **environmental dynamics**. \n",
    "\n",
    "* $T(s, \\mathbf a, s')$ is the probability of transitioning from state $s\\in\\mathcal S$ to $s'\\in\\mathcal S$ given the joint action $\\mathbf a$.\n",
    "* Thus, $\\sum_{s'} T(s, \\mathbf a, s') = 1$ most hold for all $s\\in\\mathcal S$ and $\\mathbf a\\in\\mathbf{\\mathcal A}$."
   ]
  },
  {
   "cell_type": "markdown",
   "metadata": {},
   "source": [
    "The reward tensor $\\mathbf R: \\mathcal I \\times \\mathcal S \\times \\mathbf{\\mathcal A} \\times \\mathcal S \\to \\mathbb R$ defines the agents' **short-term** **welfare**, **utility**, **rewards**, or **payoffs**.\n",
    "\n",
    "* $R^i(s, \\mathbf a, s')$ is the reward agent $i$ receives for transitioning from state $s$ to $s'$ given the joint action $\\mathbf a$.\n",
    "* We assume that it is each agent $i$'s goal to maximize their expected discounted sum of future rewards, $G^i = \\sum_{t=0}^\\infty (\\gamma^i)^t R^i(s_t, \\mathbf a_t, s_{t+1})$, where $\\gamma^i\\in[0,1)$ is the discount factor."
   ]
  },
  {
   "cell_type": "markdown",
   "metadata": {},
   "source": [
    "We assume that agents can condition their probabilities of choosing actions on the current state $s_t$, yielding so-called Markov **policies** or **strategies**, $\\mathbf x: \\mathcal I \\times \\mathcal S  \\times \\mathcal A^i \\to [0, 1]$.\n",
    "\n",
    "* $x^i(s, a)$ is the probability agent $i$ chooses action $a$ in state $s$.\n"
   ]
  },
  {
   "cell_type": "markdown",
   "metadata": {},
   "source": [
    "## Application | **Ecological public good**"
   ]
  },
  {
   "cell_type": "markdown",
   "metadata": {},
   "source": [
    "We apply the stochastic game framework to integrate the fact that we are embedded in a shared environment and care about the future to some extent. We do so by considering a public good game with ecological consequences (@fig-ecological-public-good), which allows us to answer how the strategic incentives depend on their level of care for future rewards."
   ]
  },
  {
   "cell_type": "markdown",
   "metadata": {},
   "source": [
    "![Ecological public good collective decision-making environment](images/03.03-EcologicalPublicGood.dio.png){#fig-ecological-public-good}"
   ]
  },
  {
   "cell_type": "markdown",
   "metadata": {
    "slideshow": {
     "slide_type": "slide"
    },
    "tags": []
   },
   "source": [
    "### States, agents and actions"
   ]
  },
  {
   "cell_type": "markdown",
   "metadata": {},
   "source": [
    "The environment consists of two states, $\\mathcal S = \\{\\textsf{p}, \\textsf{d}\\}$, representing a **prosperous** and a **degraded** state of the environment. \n"
   ]
  },
  {
   "cell_type": "code",
   "execution_count": 3,
   "metadata": {},
   "outputs": [],
   "source": [
    "state_set = ['prosperous,' 'degraded']; p=0; g=1; Z=2"
   ]
  },
  {
   "cell_type": "markdown",
   "metadata": {
    "slideshow": {
     "slide_type": "notes"
    }
   },
   "source": [
    "We also defined two Python variable `p=0` and `g=1` to serves as readable and memorable indices to represent the environmental contexts."
   ]
  },
  {
   "cell_type": "markdown",
   "metadata": {},
   "source": [
    "There are $2$ identical agents. In each state $s \\in \\mathcal S$, each agent $i \\in \\{1, 2\\}$ can choose within their action set between either **cooperation** or **defection**, $\\mathcal A^i = \\{\\mathsf{c,d}\\}$. "
   ]
  },
  {
   "cell_type": "code",
   "execution_count": 4,
   "metadata": {
    "slideshow": {
     "slide_type": "fragment"
    },
    "tags": []
   },
   "outputs": [],
   "source": [
    "action_sets = ['cooperate', 'defect']; c=0; d=1; M=2"
   ]
  },
  {
   "cell_type": "markdown",
   "metadata": {
    "slideshow": {
     "slide_type": "notes"
    }
   },
   "source": [
    "Likewise, we define two Python variables, `c=0` and `d=1`, to serve as readable and memorable indices to represent the agents' actions."
   ]
  },
  {
   "cell_type": "markdown",
   "metadata": {},
   "source": [
    "We denote the number of cooperating agents by $N_c$. \n",
    "The number of defecting agents is $N_d = N - N_c$."
   ]
  },
  {
   "cell_type": "markdown",
   "metadata": {
    "slideshow": {
     "slide_type": "slide"
    },
    "tags": []
   },
   "source": [
    "### **Transitions** | Environmental dynamics"
   ]
  },
  {
   "cell_type": "markdown",
   "metadata": {},
   "source": [
    "We represent the **environmental dynamics**, i.e., the transitions between environmental state contexts, in a $Z \\times M \\times M \\times Z$ tensor, where $Z$ is the number of states and $M$ is the number of actions. In this representation, \n",
    "\n",
    "* the first dimension corresponds to the **current state**,\n",
    "* the second to the action profile of the  **first agent**,\n",
    "* the third to the action profile of the  **other agent**, and\n",
    "* the fourth and last dimension corresponds to the **next state**."
   ]
  },
  {
   "cell_type": "code",
   "execution_count": 5,
   "metadata": {},
   "outputs": [],
   "source": [
    "TransitionTensor = np.zeros((Z, M, M, Z), dtype=object)"
   ]
  },
  {
   "cell_type": "markdown",
   "metadata": {},
   "source": [
    "The *environmental dynamics* are then governed by two parameters: a collapse leverage, $q_c$, and a recovery probability, $p_r$."
   ]
  },
  {
   "cell_type": "code",
   "execution_count": 6,
   "metadata": {},
   "outputs": [],
   "source": [
    "qc, pr = sp.symbols('q_c p_r')"
   ]
  },
  {
   "cell_type": "markdown",
   "metadata": {},
   "source": [
    "A collapse from the prosperous to the degraded state occurs with a transition probability \n",
    "\n",
    "$$T(\\mathsf p, \\mathbf a, \\mathsf g) = \\frac{N_d}{N}  q_c. $$ \n",
    "\n"
   ]
  },
  {
   "cell_type": "code",
   "execution_count": 7,
   "metadata": {},
   "outputs": [],
   "source": [
    "TransitionTensor[p, c, c, g] = 0  # no agent defects\n",
    "TransitionTensor[p, d, c, g] = qc/2  # one agent defects\n",
    "TransitionTensor[p, c, d, g] = qc/2  # other agent defects\n",
    "TransitionTensor[p, d, d, g] = qc  # all agents defect"
   ]
  },
  {
   "cell_type": "markdown",
   "metadata": {},
   "source": [
    "Thus, if all agents defect, the environment collapses with probability $q_c$. The collapse leverage indicates how much impact a defecting agent exerts on the environment. \n",
    "The environment remains within the prosperous state with probability, $T(\\mathsf p, \\mathbf a, \\mathsf p) = 1 - \\frac{N_d}{N}  q_c$."
   ]
  },
  {
   "cell_type": "code",
   "execution_count": 8,
   "metadata": {},
   "outputs": [],
   "source": [
    "TransitionTensor[p, : , :, p] = 1 - TransitionTensor[p, : , :, g]"
   ]
  },
  {
   "cell_type": "markdown",
   "metadata": {},
   "source": [
    "In the degraded state, we set the recovery to occur with probability,\n",
    "\n",
    "$$T(\\mathsf g, \\mathbf a, \\mathsf p) = p_r,$$\n",
    "\n",
    "independent of the agents’ actions."
   ]
  },
  {
   "cell_type": "code",
   "execution_count": 9,
   "metadata": {},
   "outputs": [],
   "source": [
    "TransitionTensor[g, :, :, p] = pr"
   ]
  },
  {
   "cell_type": "markdown",
   "metadata": {},
   "source": [
    "The probability that the environment remains in the degraded state is then, $T(\\mathsf g, \\mathbf a, \\mathsf g) = 1 - p_r$."
   ]
  },
  {
   "cell_type": "code",
   "execution_count": 10,
   "metadata": {},
   "outputs": [],
   "source": [
    "TransitionTensor[g, :, :, g] = 1-pr"
   ]
  },
  {
   "cell_type": "markdown",
   "metadata": {},
   "source": [
    "**Together**, our transition tensor is then given by"
   ]
  },
  {
   "cell_type": "code",
   "execution_count": 11,
   "metadata": {},
   "outputs": [
    {
     "data": {
      "text/latex": [
       "$\\displaystyle \\left[\\begin{matrix}\\left[\\begin{matrix}1 & 0\\\\1 - \\frac{q_{c}}{2} & \\frac{q_{c}}{2}\\end{matrix}\\right] & \\left[\\begin{matrix}1 - \\frac{q_{c}}{2} & \\frac{q_{c}}{2}\\\\1 - q_{c} & q_{c}\\end{matrix}\\right]\\\\\\left[\\begin{matrix}p_{r} & 1 - p_{r}\\\\p_{r} & 1 - p_{r}\\end{matrix}\\right] & \\left[\\begin{matrix}p_{r} & 1 - p_{r}\\\\p_{r} & 1 - p_{r}\\end{matrix}\\right]\\end{matrix}\\right]$"
      ],
      "text/plain": [
       "[[[[1, 0], [1 - q_c/2, q_c/2]], [[1 - q_c/2, q_c/2], [1 - q_c, q_c]]], [[[p_r, 1 - p_r], [p_r, 1 - p_r]], [[p_r, 1 - p_r], [p_r, 1 - p_r]]]]"
      ]
     },
     "execution_count": 11,
     "metadata": {},
     "output_type": "execute_result"
    }
   ],
   "source": [
    "sp.Array(TransitionTensor)"
   ]
  },
  {
   "cell_type": "markdown",
   "metadata": {
    "slideshow": {
     "slide_type": "slide"
    }
   },
   "source": [
    "Last, we make sure that our transition tensor is normalized, i.e., the sum of all transition probabilities from a state-joint-action pair to all possible next states equals one, $\\sum_{s'} T(s, \\mathbf a, s') = 1$."
   ]
  },
  {
   "cell_type": "code",
   "execution_count": 12,
   "metadata": {},
   "outputs": [
    {
     "data": {
      "text/plain": [
       "array([[[1, 1],\n",
       "        [1, 1]],\n",
       "\n",
       "       [[1, 1],\n",
       "        [1, 1]]], dtype=object)"
      ]
     },
     "execution_count": 12,
     "metadata": {},
     "output_type": "execute_result"
    }
   ],
   "source": [
    "TransitionTensor.sum(-1)"
   ]
  },
  {
   "cell_type": "markdown",
   "metadata": {
    "slideshow": {
     "slide_type": "slide"
    },
    "tags": []
   },
   "source": [
    "### **Rewards** | Short-term welfare"
   ]
  },
  {
   "cell_type": "code",
   "execution_count": 13,
   "metadata": {},
   "outputs": [],
   "source": [
    "RewardTensor = np.zeros((2, Z, M, M, Z), dtype=object)"
   ]
  },
  {
   "cell_type": "markdown",
   "metadata": {},
   "source": [
    "Rewards in the prosperous state follow the standard public goods game with a synergy factor $r$ and a cost of cooperation $c$."
   ]
  },
  {
   "cell_type": "code",
   "execution_count": 14,
   "metadata": {},
   "outputs": [],
   "source": [
    "r, cost = sp.symbols('r c')"
   ]
  },
  {
   "cell_type": "markdown",
   "metadata": {},
   "source": [
    "The rewards for cooperating and defecting agents are then given by\n",
    "\n",
    "$$ R^i(\\mathsf p, a^i, a^{-i}, \\mathsf p) = \\begin{cases} \\frac{r c (N_c +1)}{N}  - c, & \\text{if } a^i = \\mathsf c, \\\\ \\frac{r c N_c}{N}, & \\text{if } a^i = \\mathsf d. \\end{cases} $$"
   ]
  },
  {
   "cell_type": "code",
   "execution_count": 15,
   "metadata": {},
   "outputs": [],
   "source": [
    "RewardTensor[:, p, c, c, p] = r*cost - cost\n",
    "RewardTensor[:, p, d, d, p] = 0\n",
    "RewardTensor[0, p, c, d, p] = RewardTensor[1, p, d, c, p] = r*cost/2 - cost\n",
    "RewardTensor[0, p, d, c, p] = RewardTensor[1, p, c, d, p] = r*cost/2"
   ]
  },
  {
   "cell_type": "markdown",
   "metadata": {},
   "source": [
    "When a state transition involves the degraded state, $\\mathsf{g}$, the agents only receive an environmental collapse impact $m$:"
   ]
  },
  {
   "cell_type": "code",
   "execution_count": 16,
   "metadata": {},
   "outputs": [],
   "source": [
    "m = sp.symbols('m')"
   ]
  },
  {
   "cell_type": "markdown",
   "metadata": {},
   "source": [
    "$$R^i(\\mathsf p, \\mathbf a, \\mathsf g) = R^i(\\mathsf g, \\mathbf a, \\mathsf g) = R^i(\\mathsf g, \\mathbf a, \\mathsf p) = m, \\quad \\text{for all} \\ \\mathbf a, i.$$"
   ]
  },
  {
   "cell_type": "code",
   "execution_count": 17,
   "metadata": {},
   "outputs": [],
   "source": [
    "RewardTensor[:, p, :, :, g] = RewardTensor[:, g, :, :, g] = RewardTensor[:, g, :, :, p] = m "
   ]
  },
  {
   "cell_type": "markdown",
   "metadata": {},
   "source": [
    "**Together**, our reward tensor is then given by"
   ]
  },
  {
   "cell_type": "code",
   "execution_count": 18,
   "metadata": {},
   "outputs": [
    {
     "data": {
      "text/latex": [
       "$\\displaystyle \\left[\\begin{matrix}\\left[\\begin{matrix}\\left[\\begin{matrix}c r - c & m\\\\\\frac{c r}{2} - c & m\\end{matrix}\\right] & \\left[\\begin{matrix}\\frac{c r}{2} & m\\\\0 & m\\end{matrix}\\right]\\\\\\left[\\begin{matrix}m & m\\\\m & m\\end{matrix}\\right] & \\left[\\begin{matrix}m & m\\\\m & m\\end{matrix}\\right]\\end{matrix}\\right] & \\left[\\begin{matrix}\\left[\\begin{matrix}c r - c & m\\\\\\frac{c r}{2} & m\\end{matrix}\\right] & \\left[\\begin{matrix}\\frac{c r}{2} - c & m\\\\0 & m\\end{matrix}\\right]\\\\\\left[\\begin{matrix}m & m\\\\m & m\\end{matrix}\\right] & \\left[\\begin{matrix}m & m\\\\m & m\\end{matrix}\\right]\\end{matrix}\\right]\\end{matrix}\\right]$"
      ],
      "text/plain": [
       "[[[[[c*r - c, m], [c*r/2 - c, m]], [[c*r/2, m], [0, m]]], [[[m, m], [m, m]], [[m, m], [m, m]]]], [[[[c*r - c, m], [c*r/2, m]], [[c*r/2 - c, m], [0, m]]], [[[m, m], [m, m]], [[m, m], [m, m]]]]]"
      ]
     },
     "execution_count": 18,
     "metadata": {},
     "output_type": "execute_result"
    }
   ],
   "source": [
    "sp.Array(RewardTensor)"
   ]
  },
  {
   "cell_type": "markdown",
   "metadata": {},
   "source": [
    "### **DeepDive** | Subsituting parameter values"
   ]
  },
  {
   "cell_type": "markdown",
   "metadata": {},
   "source": [
    "In this chapter, we defined the transition and reward tensors as general `numpy` arrays with data types `object`, which we filled with symbolic expressions from `sympy`. To manipulate and substitute these expressions, we can use the `sympy.subs` method, however, not directly on the `numpy` array. Instead, we define a helper function `substitute_in_array` that takes a `numpy` array and a dictionary of substitutions and returns a new array with the substitutions applied."
   ]
  },
  {
   "cell_type": "code",
   "execution_count": 19,
   "metadata": {
    "editable": true,
    "slideshow": {
     "slide_type": ""
    },
    "tags": []
   },
   "outputs": [],
   "source": [
    "def substitute_in_array(array, subs_dict):\n",
    "    result = array.copy()\n",
    "    for index,_ in np.ndenumerate(array):\n",
    "        if isinstance(array[index], sp.Basic):\n",
    "            result[index] = array[index].subs(subs_dict)\n",
    "    return result"
   ]
  },
  {
   "cell_type": "markdown",
   "metadata": {
    "editable": true,
    "slideshow": {
     "slide_type": ""
    },
    "tags": []
   },
   "source": [
    "To make this work, it seems to be of critical importance that the subsitution dictionary is given as a dictionary in the form of `{<symbol_variable>: <subsitution>, ...}` and *not* as `dict(<symbol_variable>=<subsitution>, ...)`. For example, "
   ]
  },
  {
   "cell_type": "code",
   "execution_count": 20,
   "metadata": {},
   "outputs": [
    {
     "data": {
      "text/plain": [
       "array([[[[1.  , 0.  ],\n",
       "         [0.9 , 0.1 ]],\n",
       "\n",
       "        [[0.9 , 0.1 ],\n",
       "         [0.8 , 0.2 ]]],\n",
       "\n",
       "\n",
       "       [[[0.01, 0.99],\n",
       "         [0.01, 0.99]],\n",
       "\n",
       "        [[0.01, 0.99],\n",
       "         [0.01, 0.99]]]])"
      ]
     },
     "execution_count": 20,
     "metadata": {},
     "output_type": "execute_result"
    }
   ],
   "source": [
    "substitute_in_array(TransitionTensor, {pr:0.01, qc:0.2}).astype(float)"
   ]
  },
  {
   "cell_type": "markdown",
   "metadata": {},
   "source": [
    "### **Policies** | Strategic choices"
   ]
  },
  {
   "cell_type": "markdown",
   "metadata": {},
   "source": [
    "The **crucial question** is **whether** or not the agents should **cooperate** or defect in the **prosperous state**, $\\mathsf p$, under the assumption that agents are **anonymous** - and how to answer depends on the parameter conditions $q_c$,  $p_r$, $\\gamma$, $r$, $c$, and $m$.\n",
    "\n",
    "Anonymity means that agents do not consider the game's history, i.e., behave according to a Markov policy. We analyze the two extreme cases: An agent can either cooperate or defect in the prosperous state, $\\mathsf p$. \n",
    "\n",
    "Generally, a single agent's policy is represented by a  $Z \\times M$ tensor. The cooperative policy is then given by"
   ]
  },
  {
   "cell_type": "code",
   "execution_count": 21,
   "metadata": {},
   "outputs": [],
   "source": [
    "Xsa_coo =  0.5 * np.ones((Z, M))\n",
    "Xsa_coo[p, c] = 1\n",
    "Xsa_coo[p, d] = 0"
   ]
  },
  {
   "cell_type": "markdown",
   "metadata": {},
   "source": [
    "The defective policy is given by"
   ]
  },
  {
   "cell_type": "code",
   "execution_count": 22,
   "metadata": {},
   "outputs": [],
   "source": [
    "Xsa_def =  0.5 * np.ones((Z, M))\n",
    "Xsa_def[p, c] = 0\n",
    "Xsa_def[p, d] = 1"
   ]
  },
  {
   "cell_type": "markdown",
   "metadata": {},
   "source": [
    "To obtain the incentive regimes, we need to calculate the long-term values of the four policy combinations:\n",
    "\n",
    "* mutual cooperation $(\\mathsf c \\mathsf c)$, i.e. both agents cooperate,\n",
    "* unilateral defection $(\\mathsf d \\mathsf c)$, i.e. one agent defects, and the other cooperates,\n",
    "* unilateral cooperation $(\\mathsf c \\mathsf d)$, i.e. one agent cooperates, and the other defects, and\n",
    "* mutual defection $(\\mathsf d \\mathsf d)$, i.e. both agents defect."
   ]
  },
  {
   "cell_type": "markdown",
   "metadata": {},
   "source": [
    "They can also be represented by a *meta-game* payoff matrix, where the rows represent the focal agent's policies, and the columns represent the opponent's policies,\n",
    "\n",
    "| | $\\mathsf c$ | $\\mathsf d$ |\n",
    "| --- | --- | --- |\n",
    "| $\\mathsf c$ | $v_{\\mathsf c \\mathsf c}$ | $v_{\\mathsf c \\mathsf d}$ |\n",
    "| $\\mathsf d$ | $v_{\\mathsf d \\mathsf c}$ | $v_{\\mathsf d \\mathsf d}$ |"
   ]
  },
  {
   "cell_type": "markdown",
   "metadata": {},
   "source": [
    "We summarize these respecitve joint policies in four $N \\times Z \\times M$ tensors,"
   ]
  },
  {
   "cell_type": "code",
   "execution_count": 23,
   "metadata": {},
   "outputs": [],
   "source": [
    "Xisa_cc = np.array([Xsa_coo, Xsa_coo])\n",
    "Xisa_cd = np.array([Xsa_coo, Xsa_def])\n",
    "Xisa_dc = np.array([Xsa_def, Xsa_coo])\n",
    "Xisa_dd = np.array([Xsa_def, Xsa_def])"
   ]
  },
  {
   "cell_type": "markdown",
   "metadata": {},
   "source": [
    "### **State values** | Long-term welbeing"
   ]
  },
  {
   "cell_type": "markdown",
   "metadata": {},
   "source": [
    "Long-term values are defined precisely like in the single-agent case ([03.01-SequentialDecisions](03.01-SequentialDecisions.ipynb)) except that they now depend on the **joint policy** $\\mathbf x$ and each agent $i$ holds their own values."
   ]
  },
  {
   "cell_type": "markdown",
   "metadata": {
    "slideshow": {
     "slide_type": "slide"
    },
    "tags": []
   },
   "source": [
    "Given a joint policy $\\mathbf x$, we define the **state value** for agent $i$, $v^i_{\\mathbf x}(s)$,  as the expected gain, $\\mathbb E_\\mathbf{x}[ G^i_t | S_t = s]$, when starting in state $s$ and the following the policy $\\mathbf x$,\n",
    "\n",
    "$$\n",
    "v^i_\\mathbf{x}(s) := \\mathbb E_\\mathbf{x}[ G^i_t | S_t = s] = (1-\\gamma^i) \\mathbb E_\\mathbf{x}\\left[\\sum_{\\tau=t}^\\infty (\\gamma^i)^\\tau R^i_{t+\\tau+1} | S_t = s\\right], \\quad \\text{for all } s \\in \\mathcal S,\n",
    "$$"
   ]
  },
  {
   "cell_type": "markdown",
   "metadata": {
    "editable": true,
    "slideshow": {
     "slide_type": ""
    },
    "tags": []
   },
   "source": [
    "They are also computable like in the single-agent case ([03.01-SequentialDecisions](03.01-SequentialDecisions.ipynb)) by solving the **Bellman equations** in matrix form,\n",
    "\n",
    "$$\\mathbf v^i_\\mathbf{x} = (1-\\gamma^i) (\\mathbf 1_Z - \\gamma^i\\underline{\\mathbf T}_\\mathbf{x})^{-1} \\mathbf R^i_\\mathbf{x}.$$"
   ]
  },
  {
   "cell_type": "markdown",
   "metadata": {
    "editable": true,
    "slideshow": {
     "slide_type": ""
    },
    "tags": []
   },
   "source": [
    "Before we solve this equation, we focus on computing the effective **transition matrix** $\\underline{\\mathbf T}_\\mathbf{x}$ and the **average reward** $\\mathbf R^i_\\mathbf{x}$, given a joint policy $\\mathbf x$."
   ]
  },
  {
   "cell_type": "markdown",
   "metadata": {
    "editable": true,
    "slideshow": {
     "slide_type": ""
    },
    "tags": []
   },
   "source": [
    "The **transition matrix** $\\underline{\\mathbf T}_\\mathbf{x}$ is a $Z \\times Z$ matrix, where the element $T_\\mathbf{x}(s,s')$ is the probability of transitioning from state $s$ to $s'$ under the joint policy $\\mathbf x$. It is computed as\n",
    "\n",
    "$$T_\\mathbf{x}(s,s') = \\sum_{a^1 \\in \\mathcal A^1} \\dots \\sum_{a^N \\in \\mathcal A^N} x^1(s, a^1) \\dots x^N(s, a^N) T(s, a^1, \\dots, a^N, s').$$\n",
    "\n",
    "For $N=2$, we implement in Python as follows:"
   ]
  },
  {
   "cell_type": "code",
   "execution_count": 24,
   "metadata": {},
   "outputs": [],
   "source": [
    "def compute_symbolic_TransitionMatrix_Tss(policy_Xisa, \n",
    "                                          transitions_Tsas):\n",
    "    s, a, b, s_ = 0, 1, 2, 3  # defining indices for convenience\n",
    "    \n",
    "    Tss = sp.Matrix(np.einsum(policy_Xisa[0], [s, a], \n",
    "                              policy_Xisa[1], [s, b],\n",
    "                              transitions_Tsas, [s, a, b, s_], \n",
    "                              [s,s_]))   \n",
    "    return sp.simplify(Tss)"
   ]
  },
  {
   "cell_type": "markdown",
   "metadata": {},
   "source": [
    "For example, the transition matrix for the joint policy $\\mathbf x = (\\mathsf d, \\mathsf c)$ is then given by"
   ]
  },
  {
   "cell_type": "code",
   "execution_count": 25,
   "metadata": {},
   "outputs": [
    {
     "data": {
      "text/latex": [
       "$\\displaystyle \\left[\\begin{matrix}1.0 - 0.5 q_{c} & 0.5 q_{c}\\\\1.0 p_{r} & 1.0 - 1.0 p_{r}\\end{matrix}\\right]$"
      ],
      "text/plain": [
       "Matrix([\n",
       "[1.0 - 0.5*q_c,       0.5*q_c],\n",
       "[      1.0*p_r, 1.0 - 1.0*p_r]])"
      ]
     },
     "execution_count": 25,
     "metadata": {},
     "output_type": "execute_result"
    }
   ],
   "source": [
    "compute_symbolic_TransitionMatrix_Tss(Xisa_dc, TransitionTensor)"
   ]
  },
  {
   "cell_type": "markdown",
   "metadata": {},
   "source": [
    "The **average reward** $\\mathbf R^i_\\mathbf{x}$ is a $N \\times Z$-matrix, where the element $R_\\mathbf{x}^i(s)$ is the expected reward agent $i$ receives in state $s$ under the joint policy $\\mathbf x$. It is computed as\n",
    "\n",
    "$$ R_\\mathbf{x}^i(s) = \\sum_{a^1 \\in \\mathcal A^1} \\dots \\sum_{a^N \\in \\mathcal A^N} x^1(s, a^1) \\dots x^N(s, a^N) T(s, a^1, \\dots, a^N, s') R^i(s, a^1, \\dots, a^N, s').$$"
   ]
  },
  {
   "cell_type": "markdown",
   "metadata": {},
   "source": [
    "For $N=2$, we implement in Python as follows:"
   ]
  },
  {
   "cell_type": "code",
   "execution_count": 26,
   "metadata": {},
   "outputs": [],
   "source": [
    "def compute_symbolic_AverageReward_Ris(policy_Xisa, \n",
    "                                       transitions_Tsas, \n",
    "                                       rewards_Risas):\n",
    "    i, s, a, b, s_ = 0, 1, 2, 3, 4 # defining indices for convenience\n",
    "    Ris = sp.Array(np.einsum(policy_Xisa[0], [s, a], \n",
    "                             policy_Xisa[1], [s, b],\n",
    "                             transitions_Tsas, [s, a, b, s_], \n",
    "                             rewards_Risas, [i, s, a, b, s_],\n",
    "                             [i, s]))\n",
    "    return sp.simplify(Ris)"
   ]
  },
  {
   "cell_type": "markdown",
   "metadata": {},
   "source": [
    "For example, the average reward under the joint policy $\\mathbf x = (\\mathsf d, \\mathsf c)$ is then given by"
   ]
  },
  {
   "cell_type": "code",
   "execution_count": 27,
   "metadata": {},
   "outputs": [
    {
     "data": {
      "text/latex": [
       "$\\displaystyle \\left[\\begin{matrix}- \\frac{c r \\left(0.5 q_{c} - 1.0\\right)}{2} + 0.5 m q_{c} & 1.0 m\\\\- \\frac{c \\left(0.5 q_{c} - 1.0\\right) \\left(r - 2\\right)}{2} + 0.5 m q_{c} & 1.0 m\\end{matrix}\\right]$"
      ],
      "text/plain": [
       "[[-c*r*(0.5*q_c - 1.0)/2 + 0.5*m*q_c, 1.0*m], [-c*(0.5*q_c - 1.0)*(r - 2)/2 + 0.5*m*q_c, 1.0*m]]"
      ]
     },
     "execution_count": 27,
     "metadata": {},
     "output_type": "execute_result"
    }
   ],
   "source": [
    "compute_symbolic_AverageReward_Ris(Xisa_dc, TransitionTensor, RewardTensor)"
   ]
  },
  {
   "attachments": {},
   "cell_type": "markdown",
   "metadata": {},
   "source": [
    "With the transition matrix $\\underline{\\mathbf T}_\\mathbf{x}$ and the average reward $\\mathbf R^i_\\mathbf{x}$, we can now solve the Bellman equation for the state values $\\mathbf v^i_\\mathbf{x}$.\n",
    "For convenience, we assume a homogeneous discount factor $\\gamma^i = \\gamma$ for all agents $i$."
   ]
  },
  {
   "cell_type": "code",
   "execution_count": 28,
   "metadata": {},
   "outputs": [],
   "source": [
    "dcf = sp.symbols('gamma')\n",
    "def compute_symbolic_statevalues(policy_Xisa, \n",
    "                                 transitions_Tsas, \n",
    "                                 rewards_Risas, \n",
    "                                 discountfactor=dcf):\n",
    "    i, s, a, s_ = 0, 1, 2, 3  # defining indices for convenience\n",
    "    \n",
    "    Tss = compute_symbolic_TransitionMatrix_Tss(\n",
    "        policy_Xisa, transitions_Tsas)\n",
    "    Ris = compute_symbolic_AverageReward_Ris(\n",
    "        policy_Xisa, transitions_Tsas, rewards_Risas)\n",
    "      \n",
    "    inv = (sp.eye(2) - discountfactor*Tss).inv();\n",
    "    inv.simplify()  # sp.simplify() often helps \n",
    "    \n",
    "    Vis = (1-discountfactor) *\\\n",
    "        sp.Matrix(np.einsum(inv, [s,s_], Ris, [i, s_], [i, s]));\n",
    "    \n",
    "    return sp.simplify(Vis)"
   ]
  },
  {
   "cell_type": "markdown",
   "metadata": {},
   "source": [
    "With the help of the function `compute_symbolic_statevalues`, we can now compute the state values for all four joint policies."
   ]
  },
  {
   "cell_type": "markdown",
   "metadata": {},
   "source": [
    "#### Mutual cooperation"
   ]
  },
  {
   "cell_type": "markdown",
   "metadata": {},
   "source": [
    "The state value of the prosperous state, $\\mathsf p$, for the joint policy $(\\mathsf c, \\mathsf c)$ is given by"
   ]
  },
  {
   "cell_type": "code",
   "execution_count": 29,
   "metadata": {},
   "outputs": [],
   "source": [
    "statevalues_Vis_cc = compute_symbolic_statevalues(\n",
    "    Xisa_cc, TransitionTensor, RewardTensor)"
   ]
  },
  {
   "cell_type": "code",
   "execution_count": 30,
   "metadata": {},
   "outputs": [
    {
     "data": {
      "text/latex": [
       "$\\displaystyle 1.0 c \\left(r - 1\\right)$"
      ],
      "text/plain": [
       "1.0*c*(r - 1)"
      ]
     },
     "execution_count": 30,
     "metadata": {},
     "output_type": "execute_result"
    }
   ],
   "source": [
    "Vcc_p = statevalues_Vis_cc[0, p]\n",
    "Vcc_g = statevalues_Vis_cc[0, g]\n",
    "Vcc_p"
   ]
  },
  {
   "cell_type": "markdown",
   "metadata": {},
   "source": [
    "#### Unilateral defection"
   ]
  },
  {
   "cell_type": "markdown",
   "metadata": {},
   "source": [
    "The state value of the prosperous state, $\\mathsf p$, for the joint policy $(\\mathsf d, \\mathsf c)$ is given by"
   ]
  },
  {
   "cell_type": "code",
   "execution_count": 31,
   "metadata": {},
   "outputs": [],
   "source": [
    "statevalues_Vis_dc = compute_symbolic_statevalues(\n",
    "    Xisa_dc, TransitionTensor, RewardTensor)"
   ]
  },
  {
   "cell_type": "code",
   "execution_count": 32,
   "metadata": {},
   "outputs": [
    {
     "data": {
      "text/latex": [
       "$\\displaystyle \\frac{- 0.5 c \\gamma p_{r} q_{c} r + 1.0 c \\gamma p_{r} r + 0.5 c \\gamma q_{c} r - 1.0 c \\gamma r - 0.5 c q_{c} r + 1.0 c r + 1.0 \\gamma m p_{r} q_{c} + 1.0 m q_{c}}{2.0 \\gamma p_{r} + 1.0 \\gamma q_{c} - 2.0 \\gamma + 2.0}$"
      ],
      "text/plain": [
       "(-0.5*c*gamma*p_r*q_c*r + 1.0*c*gamma*p_r*r + 0.5*c*gamma*q_c*r - 1.0*c*gamma*r - 0.5*c*q_c*r + 1.0*c*r + 1.0*gamma*m*p_r*q_c + 1.0*m*q_c)/(2.0*gamma*p_r + 1.0*gamma*q_c - 2.0*gamma + 2.0)"
      ]
     },
     "execution_count": 32,
     "metadata": {},
     "output_type": "execute_result"
    }
   ],
   "source": [
    "Vdc_p = statevalues_Vis_dc[0, p]\n",
    "Vdc_g = statevalues_Vis_dc[0, g]\n",
    "Vdc_p"
   ]
  },
  {
   "cell_type": "markdown",
   "metadata": {},
   "source": [
    "#### Unilateral cooperation"
   ]
  },
  {
   "cell_type": "markdown",
   "metadata": {},
   "source": [
    "The state value of the prosperous state, $\\mathsf p$, for the joint policy $(\\mathsf c, \\mathsf d)$ is given by"
   ]
  },
  {
   "cell_type": "code",
   "execution_count": 33,
   "metadata": {},
   "outputs": [],
   "source": [
    "statevalues_Vis_cd = compute_symbolic_statevalues(\n",
    "    Xisa_cd, TransitionTensor, RewardTensor)"
   ]
  },
  {
   "cell_type": "code",
   "execution_count": 34,
   "metadata": {},
   "outputs": [
    {
     "data": {
      "text/latex": [
       "$\\displaystyle \\frac{- 0.5 c \\gamma p_{r} q_{c} r + 1.0 c \\gamma p_{r} q_{c} + 1.0 c \\gamma p_{r} r - 2.0 c \\gamma p_{r} + 0.5 c \\gamma q_{c} r - 1.0 c \\gamma q_{c} - 1.0 c \\gamma r + 2.0 c \\gamma - 0.5 c q_{c} r + 1.0 c q_{c} + 1.0 c r - 2.0 c + 1.0 \\gamma m p_{r} q_{c} + 1.0 m q_{c}}{2.0 \\gamma p_{r} + 1.0 \\gamma q_{c} - 2.0 \\gamma + 2.0}$"
      ],
      "text/plain": [
       "(-0.5*c*gamma*p_r*q_c*r + 1.0*c*gamma*p_r*q_c + 1.0*c*gamma*p_r*r - 2.0*c*gamma*p_r + 0.5*c*gamma*q_c*r - 1.0*c*gamma*q_c - 1.0*c*gamma*r + 2.0*c*gamma - 0.5*c*q_c*r + 1.0*c*q_c + 1.0*c*r - 2.0*c + 1.0*gamma*m*p_r*q_c + 1.0*m*q_c)/(2.0*gamma*p_r + 1.0*gamma*q_c - 2.0*gamma + 2.0)"
      ]
     },
     "execution_count": 34,
     "metadata": {},
     "output_type": "execute_result"
    }
   ],
   "source": [
    "Vcd_p = statevalues_Vis_cd[0, p]\n",
    "Vcd_g = statevalues_Vis_cd[0, g]\n",
    "Vcd_p"
   ]
  },
  {
   "cell_type": "markdown",
   "metadata": {},
   "source": [
    "#### Mutual defection"
   ]
  },
  {
   "cell_type": "markdown",
   "metadata": {},
   "source": [
    "The state value of the prosperous state, $\\mathsf p$, for the joint policy $(\\mathsf d, \\mathsf d)$ is given by"
   ]
  },
  {
   "cell_type": "code",
   "execution_count": 35,
   "metadata": {},
   "outputs": [],
   "source": [
    "statevalues_Vis_dd = compute_symbolic_statevalues(\n",
    "    Xisa_dd, TransitionTensor, RewardTensor)"
   ]
  },
  {
   "cell_type": "code",
   "execution_count": 36,
   "metadata": {},
   "outputs": [
    {
     "data": {
      "text/latex": [
       "$\\displaystyle \\frac{1.0 m q_{c} \\left(\\gamma p_{r} + 1\\right)}{\\gamma p_{r} + \\gamma q_{c} - \\gamma + 1}$"
      ],
      "text/plain": [
       "1.0*m*q_c*(gamma*p_r + 1)/(gamma*p_r + gamma*q_c - gamma + 1)"
      ]
     },
     "execution_count": 36,
     "metadata": {},
     "output_type": "execute_result"
    }
   ],
   "source": [
    "Vdd_p = statevalues_Vis_dd[0, p]\n",
    "Vdd_g = statevalues_Vis_dd[0, g]\n",
    "Vdd_p"
   ]
  },
  {
   "cell_type": "markdown",
   "metadata": {},
   "source": [
    "### Critical curves"
   ]
  },
  {
   "cell_type": "markdown",
   "metadata": {},
   "source": [
    "Finally, we can compute the critical conditions on the model parameters where the agents' incentives change. The three conditions are:\n",
    "\n",
    "* **Dilemma**: The agents are indifferent between all cooperating and all defecting, $v_{cc} = v_{dd}$,\n",
    "* **Greed**: Each individual agent is indifferent between cooperating and defecting, given all others cooperate, $v_{cc} = v_{dc}$, and\n",
    "* **Fear**: Each individual agent is indifferent between cooperating and defecting, given all  agents defect, $v_{cd} = v_{dd}$.\n"
   ]
  },
  {
   "cell_type": "markdown",
   "metadata": {},
   "source": [
    "Without greed the action situation becomes a coordination challenge between two pure equilibria of mutual cooperation and mutual defection.\n",
    "Without greed and fear the only Nash equilibrium left is mutual cooperation.\n",
    "\n",
    "![Dimensions of a social dilemma with ordinal payoffs and Nash equilibira shown in boxes from 03.02-StrategicInteractions.](images/03.02-SocialDilemmaDimensions.dio.png)"
   ]
  },
  {
   "cell_type": "markdown",
   "metadata": {},
   "source": [
    "#### Dilemma"
   ]
  },
  {
   "cell_type": "markdown",
   "metadata": {},
   "source": [
    "The critical curve at which collapse avoidance becomes collectively optimal is obtained by setting $v_{cc} = v_{dd}$. Solving for the collapse impact $m$ yields,"
   ]
  },
  {
   "cell_type": "code",
   "execution_count": 37,
   "metadata": {},
   "outputs": [
    {
     "data": {
      "text/latex": [
       "$\\displaystyle \\frac{c \\left(\\gamma p_{r} r - \\gamma p_{r} + \\gamma q_{c} r - \\gamma q_{c} - \\gamma r + \\gamma + r - 1.0\\right)}{q_{c} \\left(\\gamma p_{r} + 1.0\\right)}$"
      ],
      "text/plain": [
       "c*(gamma*p_r*r - gamma*p_r + gamma*q_c*r - gamma*q_c - gamma*r + gamma + r - 1.0)/(q_c*(gamma*p_r + 1.0))"
      ]
     },
     "execution_count": 37,
     "metadata": {},
     "output_type": "execute_result"
    }
   ],
   "source": [
    "dilemma_m = sp.solve(Vdd_p - Vcc_p, m)[0]\n",
    "dilemma_m"
   ]
  },
  {
   "cell_type": "markdown",
   "metadata": {},
   "source": [
    "We verify that the dilemma condition does not depend on environmental state by computing it also for the degraded state."
   ]
  },
  {
   "cell_type": "code",
   "execution_count": 38,
   "metadata": {},
   "outputs": [
    {
     "data": {
      "text/latex": [
       "$\\displaystyle 0$"
      ],
      "text/plain": [
       "0"
      ]
     },
     "execution_count": 38,
     "metadata": {},
     "output_type": "execute_result"
    }
   ],
   "source": [
    "sp.solve(Vdd_g - Vcc_g, m)[0] - dilemma_m"
   ]
  },
  {
   "cell_type": "markdown",
   "metadata": {},
   "source": [
    "#### Greed\n"
   ]
  },
  {
   "cell_type": "markdown",
   "metadata": {},
   "source": [
    "The critical curve at which agents become indifferent to greed, i.e., exactly where cooperators are indifferent to cooperation and defection, given all other actors cooperate, is obtained by setting $v_{cc} = v_{dc}$. Solving for the collapse impact $m$ yields,"
   ]
  },
  {
   "cell_type": "code",
   "execution_count": 39,
   "metadata": {},
   "outputs": [
    {
     "data": {
      "text/latex": [
       "$\\displaystyle \\frac{0.5 c \\left(\\gamma p_{r} q_{c} r + 2.0 \\gamma p_{r} r - 4.0 \\gamma p_{r} + \\gamma q_{c} r - 2.0 \\gamma q_{c} - 2.0 \\gamma r + 4.0 \\gamma + q_{c} r + 2.0 r - 4.0\\right)}{q_{c} \\left(\\gamma p_{r} + 1.0\\right)}$"
      ],
      "text/plain": [
       "0.5*c*(gamma*p_r*q_c*r + 2.0*gamma*p_r*r - 4.0*gamma*p_r + gamma*q_c*r - 2.0*gamma*q_c - 2.0*gamma*r + 4.0*gamma + q_c*r + 2.0*r - 4.0)/(q_c*(gamma*p_r + 1.0))"
      ]
     },
     "execution_count": 39,
     "metadata": {},
     "output_type": "execute_result"
    }
   ],
   "source": [
    "greed_m = sp.solve(Vdc_p - Vcc_p, m)[0] \n",
    "greed_m"
   ]
  },
  {
   "cell_type": "markdown",
   "metadata": {},
   "source": [
    "We verify that the greed condition does not depend on the environmental state by computing it also for the degraded state."
   ]
  },
  {
   "cell_type": "code",
   "execution_count": 40,
   "metadata": {},
   "outputs": [
    {
     "data": {
      "text/latex": [
       "$\\displaystyle 0$"
      ],
      "text/plain": [
       "0"
      ]
     },
     "execution_count": 40,
     "metadata": {},
     "output_type": "execute_result"
    }
   ],
   "source": [
    "sp.solve(Vdc_g - Vcc_g, m)[0] - greed_m"
   ]
  },
  {
   "cell_type": "markdown",
   "metadata": {},
   "source": [
    "#### Fear"
   ]
  },
  {
   "cell_type": "markdown",
   "metadata": {},
   "source": [
    "The critical curve at which actors are indifferent to fear, i.e., exactly where defectors are\n",
    "indifferent to cooperation and defection, given all other actors defect, is obtained by setting $v_{cd} = v_{dd}$. Solving for the collapse impact $m$ yields,"
   ]
  },
  {
   "cell_type": "code",
   "execution_count": 41,
   "metadata": {},
   "outputs": [
    {
     "data": {
      "text/latex": [
       "$\\displaystyle \\frac{0.5 c \\left(- \\gamma p_{r} q_{c} r + 2.0 \\gamma p_{r} q_{c} + 2.0 \\gamma p_{r} r - 4.0 \\gamma p_{r} - \\gamma q_{c}^{2} r + 2.0 \\gamma q_{c}^{2} + 3.0 \\gamma q_{c} r - 6.0 \\gamma q_{c} - 2.0 \\gamma r + 4.0 \\gamma - q_{c} r + 2.0 q_{c} + 2.0 r - 4.0\\right)}{q_{c} \\left(\\gamma p_{r} + 1.0\\right)}$"
      ],
      "text/plain": [
       "0.5*c*(-gamma*p_r*q_c*r + 2.0*gamma*p_r*q_c + 2.0*gamma*p_r*r - 4.0*gamma*p_r - gamma*q_c**2*r + 2.0*gamma*q_c**2 + 3.0*gamma*q_c*r - 6.0*gamma*q_c - 2.0*gamma*r + 4.0*gamma - q_c*r + 2.0*q_c + 2.0*r - 4.0)/(q_c*(gamma*p_r + 1.0))"
      ]
     },
     "execution_count": 41,
     "metadata": {},
     "output_type": "execute_result"
    }
   ],
   "source": [
    "fear_m = sp.solve(Vcd_g - Vdd_g, m)[0]\n",
    "fear_m"
   ]
  },
  {
   "cell_type": "markdown",
   "metadata": {},
   "source": [
    "We verify that also the fear condition does not depend on the environmental state by computing it also for the degraded state."
   ]
  },
  {
   "cell_type": "code",
   "execution_count": 42,
   "metadata": {},
   "outputs": [
    {
     "data": {
      "text/latex": [
       "$\\displaystyle 0$"
      ],
      "text/plain": [
       "0"
      ]
     },
     "execution_count": 42,
     "metadata": {},
     "output_type": "execute_result"
    }
   ],
   "source": [
    "sp.solve(Vcd_g - Vdd_g, m)[0] - fear_m"
   ]
  },
  {
   "cell_type": "markdown",
   "metadata": {},
   "source": [
    "### Visualization"
   ]
  },
  {
   "cell_type": "markdown",
   "metadata": {},
   "source": [
    "Having obtained symbolic expressions for the critical curves, we can now visualize them as a function of the discount factor $\\gamma$, indicating how much the agents value future rewards."
   ]
  },
  {
   "cell_type": "markdown",
   "metadata": {},
   "source": [
    "#### Parameter values"
   ]
  },
  {
   "cell_type": "markdown",
   "metadata": {},
   "source": [
    "Let us apply the model to the case of global sustainability. We set public goods synergy factors $r=1.2$ and the cost of cooperation to $5$. "
   ]
  },
  {
   "cell_type": "code",
   "execution_count": 43,
   "metadata": {},
   "outputs": [],
   "source": [
    "vr = 1.2\n",
    "vc = 5 "
   ]
  },
  {
   "cell_type": "markdown",
   "metadata": {},
   "source": [
    "Regarding the transition probabilities, we apply the conversion rule developed in [02.04-StateTransitions](02.04-StateTransitions.ipynb) to set the collapse leverage, $q_c$ and the recovery probability $p_r$, in terms of typical timescales. Under current business-as-usual policies, there are about 50 years left to avert the collapse [@RockstromEtAl2017]. After a collapse, there is a potential lock-in into an unfavorable Earth system state for a timescale up to millennia [@SteffenEtAl2018]. Interpreting a time step as one year, we set the collapse leverage to $q_r = 1/50 = 0.02$ and the recovery probability to $p_r = 1/10000 = 0.0001$."
   ]
  },
  {
   "cell_type": "code",
   "execution_count": 44,
   "metadata": {},
   "outputs": [],
   "source": [
    "vqc = 0.02\n",
    "vqr = 0.0001"
   ]
  },
  {
   "cell_type": "markdown",
   "metadata": {},
   "source": [
    "#### Final graphic"
   ]
  },
  {
   "cell_type": "markdown",
   "metadata": {},
   "source": [
    "We convert the symbolic expressions to numerical functions using `lambdify`."
   ]
  },
  {
   "cell_type": "code",
   "execution_count": 45,
   "metadata": {},
   "outputs": [],
   "source": [
    "Fdilemma_m = sp.lambdify((r, cost, qc, pr, dcf), dilemma_m, 'numpy')\n",
    "Fgreed_m = sp.lambdify((r, cost, qc, pr, dcf), greed_m, 'numpy')\n",
    "Ffear_m = sp.lambdify((r, cost, qc, pr, dcf), fear_m, 'numpy')"
   ]
  },
  {
   "cell_type": "code",
   "execution_count": 46,
   "metadata": {},
   "outputs": [
    {
     "data": {
      "image/png": "[encoded data removed]",
      "text/plain": [
       "<Figure size 2340x750 with 1 Axes>"
      ]
     },
     "metadata": {},
     "output_type": "display_data"
    }
   ],
   "source": [
    "dcf_values = np.linspace(0.95, 1.0, 100)\n",
    "\n",
    "plt.plot(dcf_values, Fdilemma_m(vr, vc, vqc, vqr, dcf_values), \n",
    "         c='k', label='Dilemma')\n",
    "plt.plot(dcf_values, Fgreed_m(vr, vc, vqc, vqr, dcf_values),\n",
    "         c='b', label='Greed')\n",
    "plt.plot(dcf_values, Ffear_m(vr, vc, vqc, vqr, dcf_values),\n",
    "         c='g', label='Fear')\n",
    "\n",
    "plt.fill_between(dcf_values, 0, 4, color='gray', alpha=0.4)\n",
    "\n",
    "plt.annotate(\"Tragedy\", (0.975, -1.6), ha='center', va='center')\n",
    "plt.annotate(\"Coordination\", (0.987, -4), ha='center', va='center')\n",
    "plt.annotate(\"Comedy\", (0.996, -6), ha='center', va='center')\n",
    "plt.annotate(\"Collapse avoidance suboptimal\", \n",
    "             (0.9999, 2.5), ha='right', va='center')\n",
    "\n",
    "plt.legend(loc='center left'); plt.ylim(-7, 3); plt.xlim(0.955, 1.0);\n",
    "plt.xlabel('Discount factor $\\gamma$'); plt.ylabel('Collapse impact $m$');"
   ]
  },
  {
   "cell_type": "markdown",
   "metadata": {},
   "source": [
    "This plot is a precise reproduction of the result by [@BarfussEtAl2020]. It highlights that\n",
    "\n",
    "* the **same *care for the future*** that makes **individual decision-making** apt for the long-term also positively impacts collective decision-making.\n",
    "* This ***care for the future* alone can turn a tragedy into a comedy**, where individual incentives are fully aligned with the collective interest - completely resolving the social dilemma.\n",
    "* This is true, **given the anticipated collapse impact is sufficiently severe**. Thus, agents need to consider the catastrophic impact and, at the same time, be immensely future-oriented. \n",
    "* **No other mechanism is required**: Agents are anonymous, cannot reciprocate, and cannot make any agreements."
   ]
  },
  {
   "cell_type": "markdown",
   "metadata": {},
   "source": [
    "## Learning goals **revisited**"
   ]
  },
  {
   "cell_type": "markdown",
   "metadata": {},
   "source": [
    "In this chapter,\n",
    "\n",
    "* we introduced the concept of dynamic games and described the elements of a stochastic game.\n",
    "* We applied the stochastic games framework to model human-environment interactions on the question, how the individual care for future consequences and the fact that we all are embedded into a shared environment impacts collective decision-making.\n",
    "* We analyze the strategic interactions in this stochastic game model and found that caring for the future can turn a tragedy into a commedy of the commons."
   ]
  },
  {
   "cell_type": "markdown",
   "metadata": {
    "editable": true,
    "slideshow": {
     "slide_type": ""
    },
    "tags": [
     "remove-input"
    ]
   },
   "source": [
    "::: {.content-hidden unless-profile=\"standalone\"}"
   ]
  },
  {
   "cell_type": "markdown",
   "metadata": {},
   "source": [
    "## References"
   ]
  },
  {
   "cell_type": "markdown",
   "metadata": {
    "editable": true,
    "slideshow": {
     "slide_type": ""
    },
    "tags": [
     "remove-input"
    ]
   },
   "source": [
    ":::"
   ]
  },
  {
   "cell_type": "markdown",
   "metadata": {
    "editable": true,
    "slideshow": {
     "slide_type": ""
    },
    "tags": [
     "remove-input"
    ]
   },
   "source": [
    "::: {.content-hidden unless-profile=\"housekeeping\"}"
   ]
  },
  {
   "cell_type": "markdown",
   "metadata": {},
   "source": [
    "## Housekeeping\n",
    "\n",
    "With the following cells, we can convert this notebook into slides and a PDF handout. If you work with this notebook interactively, you can ignore them."
   ]
  },
  {
   "cell_type": "code",
   "execution_count": 47,
   "metadata": {},
   "outputs": [],
   "source": [
    "# !jupyter nbconvert 03.02-StrategicInteractions.ipynb --to slides --embed-images --output-dir \"./__slides\""
   ]
  },
  {
   "cell_type": "markdown",
   "metadata": {},
   "source": [
    "---\n",
    "metadata-files: [_standalone-quarto.yml]\n",
    "---"
   ]
  },
  {
   "cell_type": "code",
   "execution_count": 48,
   "metadata": {},
   "outputs": [
    {
     "name": "stdout",
     "output_type": "stream",
     "text": [
      "\u001b[1mpandoc \u001b[22m\n",
      "  to: latex\n",
      "  output-file: 03.03-DynamicInteractions_.tex\n",
      "  standalone: true\n",
      "  pdf-engine: xelatex\n",
      "  variables:\n",
      "    graphics: true\n",
      "    tables: true\n",
      "    secnumdepth: 2\n",
      "  default-image-extension: pdf\n",
      "  metadata-files:\n",
      "    - _standalone-quarto.yml\n",
      "  toc-depth: 2\n",
      "  \n",
      "\u001b[1mmetadata\u001b[22m\n",
      "  documentclass: scrartcl\n",
      "  classoption:\n",
      "    - DIV=11\n",
      "    - numbers=noendperiod\n",
      "  papersize: A4\n",
      "  header-includes:\n",
      "    - '\\KOMAoption{captions}{tableheading}'\n",
      "  block-headings: false\n",
      "  title: Dynamic Interactions\n",
      "  bibliography:\n",
      "    - CSMofHEI.bib\n",
      "  geometry:\n",
      "    - top=20mm\n",
      "    - left=20mm\n",
      "    - right=20mm\n",
      "    - bottom=25mm\n",
      "  link-citations: true\n",
      "  number-depth: 2\n",
      "  \n",
      "\u001b[1m\u001b[34m\n",
      "Rendering PDF\u001b[39m\u001b[22m\n",
      "\u001b[1m\u001b[34mrunning xelatex - 1\u001b[39m\u001b[22m\n",
      "  This is XeTeX, Version 3.14159265-2.6-0.999992 (TeX Live 2020) (preloaded format=xelatex)\n",
      "   restricted \\write18 enabled.\n",
      "  entering extended mode\n",
      "  \n",
      "\u001b[1m\u001b[34mrunning xelatex - 2\u001b[39m\u001b[22m\n",
      "  This is XeTeX, Version 3.14159265-2.6-0.999992 (TeX Live 2020) (preloaded format=xelatex)\n",
      "   restricted \\write18 enabled.\n",
      "  entering extended mode\n",
      "  \n",
      "\u001b[1m\u001b[34mrunning xelatex - 3\u001b[39m\u001b[22m\n",
      "  This is XeTeX, Version 3.14159265-2.6-0.999992 (TeX Live 2020) (preloaded format=xelatex)\n",
      "   restricted \\write18 enabled.\n",
      "  entering extended mode\n",
      "  \n",
      "\n",
      "Output created: 03.03-DynamicInteractions_.pdf\n",
      "\n"
     ]
    }
   ],
   "source": [
    "#| output: false \n",
    "!cp 03.03-DynamicInteractions.ipynb 03.03-DynamicInteractions_.ipynb\n",
    "!quarto render 03.03-DynamicInteractions_.ipynb --to pdf --profile standalone\n",
    "!mv 03.03-DynamicInteractions_.pdf __scripts/03.03-DynamicInteractions.pdf\n",
    "!rm -r 03.03-DynamicInteractions_*"
   ]
  },
  {
   "cell_type": "markdown",
   "metadata": {
    "tags": [
     "remove-input"
    ]
   },
   "source": [
    ":::"
   ]
  }
 ],
 "metadata": {
  "kernelspec": {
   "display_name": "Python 3 (ipykernel)",
   "language": "python",
   "name": "python3"
  },
  "language_info": {
   "codemirror_mode": {
    "name": "ipython",
    "version": 3
   },
   "file_extension": ".py",
   "mimetype": "text/x-python",
   "name": "python",
   "nbconvert_exporter": "python",
   "pygments_lexer": "ipython3",
   "version": "3.11.11"
  }
 },
 "nbformat": 4,
 "nbformat_minor": 4
}
