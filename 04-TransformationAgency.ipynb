{
 "cells": [
  {
   "cell_type": "markdown",
   "id": "89e9dc3a-a6e4-4a2c-aee5-a98727416c71",
   "metadata": {
    "editable": true,
    "slideshow": {
     "slide_type": ""
    },
    "tags": []
   },
   "source": [
    "# Transformation Agency\n"
   ]
  },
  {
   "attachments": {},
   "cell_type": "markdown",
   "id": "6e6a1793-db4e-414f-af5c-ee782825311e",
   "metadata": {
    "editable": true,
    "slideshow": {
     "slide_type": ""
    },
    "tags": []
   },
   "source": [
    "In this last part, we cover transformation-agency or agent-based models. They operationalize **transformation knowledge**, which is knowledge about how to move from the existing system to the desired future. This knowledge includes concrete strategies and steps to take. In sustainability transitions, producing transformation knowledge could involve developing policy instruments, designing new institutions, or implementing new technologies. \n",
    "Transformation knowledge is strongly associated with **agency** and asks **how to?**.\n",
    "\n",
    "**Transformation-agency models** (or *agent-based models applied to sustainability transitions*). Agent-based modeling (ABM) can be viewed as a merger between **dynamic systems** and **target equilibrium** models, in that typical agent-based models are about the *dynamics of agent behavior*. However, agent-based modeling in itself is diverse. Therefore, we can only provide a brief overview and specific aspects of ABM in this part.\n",
    "\n"
   ]
  },
  {
   "cell_type": "markdown",
   "id": "b2792c14-ab09-456d-99c4-e898ce90500a",
   "metadata": {},
   "source": [
    "![Three types of models based on three types of knowledge for transdisciplinary reserach](images/01.01-ThreeTypesOfModels.dio.png)"
   ]
  },
  {
   "cell_type": "markdown",
   "id": "92b30ab1-91a5-460a-b771-795e91a5cf6e",
   "metadata": {},
   "source": [
    "Specifically, we will cover \n",
    "\n",
    "* Rule-based behavioral agency in agent-based models in [Chapter 04.01](04.01-BehavioralAgency.ipynb)\n",
    "* Individual reinforcement learning in [Chapter 04.02](04.02-IndividualLearning.ipynb), and\n",
    "* The non-linear dynamics of reinforcement learning in [Chapter 04.03](04.03-LearningDynamics.ipynb)."
   ]
  }
 ],
 "metadata": {
  "kernelspec": {
   "display_name": "Python 3 (ipykernel)",
   "language": "python",
   "name": "python3"
  },
  "language_info": {
   "codemirror_mode": {
    "name": "ipython",
    "version": 3
   },
   "file_extension": ".py",
   "mimetype": "text/x-python",
   "name": "python",
   "nbconvert_exporter": "python",
   "pygments_lexer": "ipython3",
   "version": "3.11.11"
  }
 },
 "nbformat": 4,
 "nbformat_minor": 5
}
