{
 "cells": [
  {
   "cell_type": "markdown",
   "id": "291cc62a-fbfd-4689-9c4b-db92c14597c7",
   "metadata": {
    "editable": true,
    "slideshow": {
     "slide_type": ""
    },
    "tags": [],
    "user_expressions": []
   },
   "source": [
    "\n",
    "# Ex | Behavioral Agency {.unnumbered}"
   ]
  },
  {
   "cell_type": "code",
   "execution_count": null,
   "id": "842bb191-1770-4e86-bdcc-95d2a0a0dcbb",
   "metadata": {},
   "outputs": [],
   "source": [
    "import sympy as sp\n",
    "import numpy as np\n",
    "import matplotlib.pyplot as plt"
   ]
  },
  {
   "cell_type": "markdown",
   "id": "f0619863-977b-499c-946a-2fafb3a655b0",
   "metadata": {
    "editable": true,
    "slideshow": {
     "slide_type": ""
    },
    "tags": []
   },
   "source": [
    "Schelling's segregation model demonstrates how individual preferences can lead to racial segregation, even when people are comfortable in mixed neighborhoods. In this exercise, you will explore how the model's outcome depends on some of its parameters. You will investigate what it takes to achieve a well-mixed society."
   ]
  },
  {
   "cell_type": "markdown",
   "id": "06779d7f-502f-4f78-8a92-f2dca327d01b",
   "metadata": {},
   "source": [
    "## Task 1 | Implement Schelling's model"
   ]
  },
  {
   "cell_type": "markdown",
   "id": "403114d3-c443-4b60-92e2-65a33571703c",
   "metadata": {
    "editable": true,
    "slideshow": {
     "slide_type": ""
    },
    "tags": []
   },
   "source": [
    "Define a Python function `run_model(agents)` that simulates Schelling's model for a given iterable of agents (`agents`), the number of agents regarded as neighbors `num_neighbors` and the number of neighbors required to be of the same type `require_same_type` such that an agent is happy. The function should return an iterable of agents after the model has converged. The model should run until no agent wants to move anymore. Print out the current cycle number while the model is running."
   ]
  },
  {
   "cell_type": "code",
   "execution_count": null,
   "id": "8c03a638-db87-40d7-b326-d7927b7f1b32",
   "metadata": {},
   "outputs": [],
   "source": [
    "# ..."
   ]
  },
  {
   "cell_type": "markdown",
   "id": "a4404aed-cad1-4916-a848-86ff5f0e7bea",
   "metadata": {},
   "source": [
    "## Task 2 | Run the model"
   ]
  },
  {
   "cell_type": "markdown",
   "id": "a6369c20-18be-44cc-974b-5a0dbcaae573",
   "metadata": {},
   "source": [
    "Test your implementation by running the model with 500 agents, 10 neighbors, and 5 neighbors of the same type required. Initialize the agents with 250 agents of type 0 and 250 agents of type 1. Plot the distribution of agents at the beginning, and the end of the model run in a matplotlib figure with two axes next to each other."
   ]
  },
  {
   "cell_type": "code",
   "execution_count": null,
   "id": "7af2a1df-6eaa-4ded-8dfb-126550f8ae87",
   "metadata": {},
   "outputs": [],
   "source": [
    "# ..."
   ]
  },
  {
   "cell_type": "markdown",
   "id": "416d0c0b-72a9-4a08-8b28-a74d8894e18e",
   "metadata": {},
   "source": [
    "## Task 3 | Performance metric"
   ]
  },
  {
   "cell_type": "markdown",
   "id": "8a2ee4d9-ca3d-4260-add4-d56e76a35d95",
   "metadata": {},
   "source": [
    "Having a visual understanding of the model's behavior is essential. However, it is also useful to have a quantitative measure of the model's performance. Define a Python function `homogeneity(agents, num_neighbors)` that returns the average homogeneity of the agents. The homogeneity of an agent is the fraction of its neighbors that are of the same type. The average homogeneity is the average of the homogeneity of all agents."
   ]
  },
  {
   "cell_type": "code",
   "execution_count": null,
   "id": "79e7e415-0126-400e-8fc4-954953d6417b",
   "metadata": {},
   "outputs": [],
   "source": [
    "# ..."
   ]
  },
  {
   "cell_type": "markdown",
   "id": "b53509b1-61ae-460d-ba3c-4ae9260b3f17",
   "metadata": {},
   "source": [
    "Test your implementation by calculating the homogeneity of the initial and final agent distributions from the simulation above."
   ]
  },
  {
   "cell_type": "code",
   "execution_count": null,
   "id": "431aa13b-c3ce-4264-a048-3682cc0b57e4",
   "metadata": {},
   "outputs": [],
   "source": [
    "# ..."
   ]
  },
  {
   "cell_type": "markdown",
   "id": "4258ae27-9220-474c-b347-5522c2c75b3a",
   "metadata": {},
   "source": [
    "Convince yourself that the homogeneity is a useful measure of the model's performance by repeating the simulation with the same parameters as above, except the number of neighbors required to be happy is set to 9. Visualize and calculate the homogeneity of the final agent distribution."
   ]
  },
  {
   "cell_type": "code",
   "execution_count": null,
   "id": "40e3abb2-5141-4137-9608-0ee2f6fbcb48",
   "metadata": {},
   "outputs": [],
   "source": [
    "# ..."
   ]
  },
  {
   "cell_type": "markdown",
   "id": "a1900c1a-9383-4c6c-8f0e-14d6b1b19163",
   "metadata": {},
   "source": [
    "## Task 4 | Sensitivity analysis"
   ]
  },
  {
   "cell_type": "markdown",
   "id": "4b9154f8-e1d1-47e0-82ad-53f582de29a2",
   "metadata": {},
   "source": [
    "Perform a simulation to investigate how the final homogeneity depends on the number of neighbors considered, `num_neighbors`, and the number of neighbors of the same type required to be happy, `require_same_type`. \n",
    "\n",
    "\n",
    "First, we keep the number of neighbors required to be happy fixed to be exactly half the number of neighbors considered. How sensitive is the final homogeneity to the number of neighbors considered? Run the model for `num_neighbors` in the range from 2 to 20 in increments of two. As the simulation is stochastic, run each simulation precisely five times. Plot the final homogeneities (plus their averages) versus the number of neighbors considered. Briefly interpret your result."
   ]
  },
  {
   "cell_type": "code",
   "execution_count": null,
   "id": "8ec62a50-0875-4fc8-8753-fd32e9364a2f",
   "metadata": {},
   "outputs": [],
   "source": [
    "# ..."
   ]
  },
  {
   "cell_type": "markdown",
   "id": "85df817d-0a62-45da-a2e4-26235fc933b5",
   "metadata": {},
   "source": [
    "Finally, run the model for `num_neighbors` in the range from 2 to 14, and for each `num_enighbors`, the `require_same_type` from 1 to `num_neighbors`-1. Plot the final homogeneity as a heatmap.\n",
    "\n",
    "Tip: Store the final homogeneities in a two-dimensional NumPy array \n",
    "\n",
    "`final_homogeneities=np.NaN * np.ones((15, 15))`, \n",
    "\n",
    "where the first dimension corresponds to the number of neighbors considered and the second dimension to the number of neighbors of the same type required to be happy. The `np.NaN` values will be useful for plotting the heatmap as the plotting functions ignore the 'NaN' values. You can you use the `imshow` function from matplotlib to plot the heatmap,\n",
    "\n",
    "`plt.imshow(final_homogeneities, cmap='RdBu', vmin=0, vmax=1.0, origin='lower')`. \n",
    "\n",
    "Include a color bar and a line indicating where the number of neighbors considered is equal to half the number of neighbors of the same type required to be happy.\n",
    "\n",
    "Interpret your results regarding the maximum number of neighbors required to be happy to achieve a well-mixed society. What happens to the final homogeneity when the number of neighbors required to be happy exceeds half the number of neighbors considered?"
   ]
  },
  {
   "cell_type": "code",
   "execution_count": null,
   "id": "4e6c844f-c8f4-474f-aa71-bcd63b3aefcc",
   "metadata": {},
   "outputs": [],
   "source": [
    "# ..."
   ]
  }
 ],
 "metadata": {
  "kernelspec": {
   "display_name": "Python 3 (ipykernel)",
   "language": "python",
   "name": "python3"
  },
  "language_info": {
   "codemirror_mode": {
    "name": "ipython",
    "version": 3
   },
   "file_extension": ".py",
   "mimetype": "text/x-python",
   "name": "python",
   "nbconvert_exporter": "python",
   "pygments_lexer": "ipython3",
   "version": "3.11.11"
  }
 },
 "nbformat": 4,
 "nbformat_minor": 5
}
